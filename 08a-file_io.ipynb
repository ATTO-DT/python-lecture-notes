{
 "cells": [
  {
   "cell_type": "markdown",
   "metadata": {
    "slideshow": {
     "slide_type": "slide"
    }
   },
   "source": [
    "# Programming with Python\n",
    "#### Vedran Šego, [vsego.org](http://vsego.org/)\n",
    "\n",
    "## Contents:\n",
    "\n",
    "1. Files\n",
    "2. Working with files\n",
    "3. An example\n",
    "4. CSV\n",
    "5. Pickles"
   ]
  },
  {
   "cell_type": "markdown",
   "metadata": {
    "slideshow": {
     "slide_type": "slide"
    }
   },
   "source": [
    "# Files\n",
    "\n",
    "Consider the following problem:\n",
    "\n",
    "> Write a program that maintains students' scores in this course. The program has to allow adding students, editing their data (adding scores, for example), sorting and filtering the data, export to the web, etc.\n",
    "\n",
    "This is a pretty standard request (obviously, written in a very abbreviated fashion). But inputing all the students' info each time we want to do anything with it is just not feasible: we need to save the data, using a more permanent medium than the working memory. This is usually a disk, and this is where the files come into play."
   ]
  },
  {
   "cell_type": "markdown",
   "metadata": {
    "slideshow": {
     "slide_type": "subslide"
    }
   },
   "source": [
    "## Where to save the data?\n",
    "\n",
    "Traditionally, we save the data directly to files. We open them, write to them, and close them.\n",
    "\n",
    "However, there are requests that go beyond just saving data to files. For example, Google cannot fit the list of all the web pages on the internet on a single computer, let alone in one file. Similarly, Facebook, Twitter, YouTube, and many other big services have simply too much data to fit them to a single file.\n",
    "\n",
    "In such cases, *databases* are used. At the lowest level, these are still files, but we do not access them as such. Instead, specialized programs and modules -- so called *database engines* -- are used to access this data. They have their specific ways of use, which fall outside of the scope of this course.\n",
    "\n",
    "More interested students are welcome to read more on the subject themselves at the various sources available on the internet. A good and fairly short introduction is [Python Programming/Databases](http://en.wikibooks.org/wiki/Python_Programming/Databases), with examples in some widely used database systems.\n",
    "\n",
    "Note that [SQLite](http://www.sqlite.org/) writes its data in a single file, as it is meant for smaller applications (for example, Chrome and Firefox are using it). Other systems usually work with several files per database and, more importantly, require a separate installation of the database engine. In other words, [MySQL](http://www.mysql.com/)/[MariaDB](https://mariadb.org/) (almost the same engine) will not work with just Python installed. In order to use them, you also need their respective database engines.\n",
    "\n",
    "In the rest of this lecture, we don't work with databases. Instead, we focus on direct file access."
   ]
  },
  {
   "cell_type": "markdown",
   "metadata": {
    "slideshow": {
     "slide_type": "subslide"
    }
   },
   "source": [
    "## Caching\n",
    "\n",
    "Compared to the working memory (RAM), disks are very slow. For that and some technical reasons, the data is rarely saved directly to a disk at the same moment that a program tells Python to save it. Instead, the operating system will store the data in a *buffer* (a part of the memory reserved for this purpose), postponing the actual disk writing until an opportune moment (usually until enough data is sent for saving).\n",
    "\n",
    "This process is called *caching* (it is pronounced like *cashing*, not ~~*catching*~~) and it significantly improves computer's performance, while also saving on hardware wearing out, but it can also result in the loss of data.\n",
    "\n",
    "The process of actually writing the data to a disk is called *flushing* the buffer."
   ]
  },
  {
   "cell_type": "markdown",
   "metadata": {
    "slideshow": {
     "slide_type": "subslide"
    }
   },
   "source": [
    "## Types of files\n",
    "\n",
    "While all the files boil down to bytes and bits (\"zeros and ones\", just like the memory), the way we use them distinguishes them into two categories:\n",
    "\n",
    "* *Text files* are ment for saving text and they are almost always human-readable. Examples include $\\LaTeX$ documents, source codes (for example, Python programs), HTML pages (including style and script files), and anything else made with text editors like [(g)vim](http://www.vim.org/), [(X)Emacs](http://www.xemacs.org/), [Notepad](http://en.wikipedia.org/wiki/Notepad_%28software%29), [Notepad++](http://notepad-plus-plus.org/), [Spyder](http://docs.continuum.io/anaconda/ide_integration.html#spyder), etc.  \n",
    "  Note that, generally, this does not include documents written with Microsoft Word and other text processors.  \n",
    "  For text files, the buffer is usually flushed whenever a new line is started.\n",
    "\n",
    "* *Binary files* are closer to the way the data is stored in the computer's working memory. They are typically used for various media files (images, movies, music, etc), data collections (for example, ZIP, RAR, and similar archives), and some formated documents (for example, older versions of Word documents)."
   ]
  },
  {
   "cell_type": "markdown",
   "metadata": {
    "slideshow": {
     "slide_type": "subslide"
    }
   },
   "source": [
    "Generally speaking, a file created by some program written in some programming language and run on some computer system can be read by other programs, maybe written in some other programming language and/or run on a different computer system. However, some problems may occur between different programs on same or different systems."
   ]
  },
  {
   "cell_type": "markdown",
   "metadata": {
    "slideshow": {
     "slide_type": "subslide"
    }
   },
   "source": [
    "### Text files\n",
    "\n",
    "Computers don't work with text, as everything inside a computer's memory is a number. When a computer has to display some text or write it to a file, it has to convert it to a proper format. The rules for these conversions are called [*character encodings*](http://en.wikipedia.org/wiki/Character_encoding), as we have already mentioned in the first lecture.\n",
    "\n",
    "Luckily, as long as the files are written and read in the same manner, there will be no problems. However, should your text get messed up, it is probably an encodings issue.\n",
    "\n",
    "Another thing that differs between different operating systems is the marking of the new line. Each of the well established systems (Linux/Unix, Mac, Windows) has its own. However, many editors and all modern languages recognize these properly, as long as the files are opened as text files and not binary ones.\n",
    "\n",
    "From a programmer's point of view, a text is written to a file, and it is read when needed. The text $\\leftrightarrow$ bytes (numbers) conversion is done behind the scenes, and we need not worry about it."
   ]
  },
  {
   "cell_type": "markdown",
   "metadata": {
    "slideshow": {
     "slide_type": "subslide"
    }
   },
   "source": [
    "### Binary files\n",
    "\n",
    "Binary files are more straightforward, but they may easily not be compatible between different systems.\n",
    "\n",
    "Given that the text files are readable from text editors (including Spyder), we shall concentrate on them. The students who want to learn how to work with binary files can read about the [`io.RawIOBase`](https://docs.python.org/3/library/io.html#io.RawIOBase) class which provides ways to directly manipulate files in a binary mode, or about [bytes and `bytearray` operations](https://docs.python.org/3/library/stdtypes.html#bytes-methods) that make it possible to use file object's `read` and `write` methods. However, such a direct manipulation is rare in Python and it is far more likely that you'll use the binary mode with some specialized module."
   ]
  },
  {
   "cell_type": "markdown",
   "metadata": {
    "slideshow": {
     "slide_type": "slide"
    }
   },
   "source": [
    "# Working with files\n",
    "\n",
    "Whenever we need to work with files, we have three basic steps:\n",
    "* **Opening a file** tells Python which file are we going to work with (file path and name) and how (read/write and are we using it as a text or as a binary file). If a file doesn't exist, it can be created or an exception may be raised, depending on how are we opening it.\n",
    "* **Reading from or writing to a file** can be done only on an open, existing file.\n",
    "* **Closing a file** tells Python that we are done with it, so it can \"tidy up\". Among other things, this includes flushing the buffer, which makes closing an important part of the process, especially when writing to files. Luckily, Python can do it automatically, as we shall soon see."
   ]
  },
  {
   "cell_type": "markdown",
   "metadata": {
    "slideshow": {
     "slide_type": "subslide"
    }
   },
   "source": [
    "Let us see how a typical file read operation works in a traditional way (this is pretty much the same in many modern languages):"
   ]
  },
  {
   "cell_type": "code",
   "execution_count": 1,
   "metadata": {
    "collapsed": false
   },
   "outputs": [
    {
     "name": "stdout",
     "output_type": "stream",
     "text": [
      "What's your name? Guido van Rossum\n"
     ]
    }
   ],
   "source": [
    "username = input(\"What's your name? \")\n",
    "f = open(\"name.txt\", mode=\"wt\", encoding=\"utf8\")\n",
    "f.write(username)\n",
    "f.close()"
   ]
  },
  {
   "cell_type": "markdown",
   "metadata": {
    "slideshow": {
     "slide_type": "subslide"
    }
   },
   "source": [
    "The next line is just a way to display the contents of the file `\"name.txt\"`. It is a feature of IPython Notebook interface (and Unix/Linux and Mac terminals), but it is not a part of Python itself (i.e., you cannot use this in your programs!)."
   ]
  },
  {
   "cell_type": "code",
   "execution_count": 2,
   "metadata": {
    "collapsed": false
   },
   "outputs": [
    {
     "name": "stdout",
     "output_type": "stream",
     "text": [
      "Guido van Rossum"
     ]
    }
   ],
   "source": [
    "cat name.txt"
   ]
  },
  {
   "cell_type": "markdown",
   "metadata": {
    "slideshow": {
     "slide_type": "subslide"
    }
   },
   "source": [
    "### Step by step\n",
    "\n",
    "#### Opening a file\n",
    "\n",
    "The first thing we need to do when working with a file is to open it:\n",
    "```python\n",
    "f = open(\"name.txt\", mode=\"wt\", encoding=\"utf8\")\n",
    "```\n",
    "The parameters are:\n",
    "* The name of the file, here given as a string constant `\"name.txt\"`, but it can also be any string variable or expression. Apart from the file name, it can also contain an absolute or a relative [path](http://en.wikipedia.org/wiki/Path_%28computing%29). For example,\n",
    "  * a relative path: `\"a/subdirectory/of/the/current/directory\"`\n",
    "  * a relative path: `\"../a/subdirectory/of/the/current/directorys/parrent\"`\n",
    "  * an absolute path: `\"/a/directory/in/the/root/of/the/filesystem\"`  \n",
    "    On Windows, absolute paths begin with a drive letter (for example, `\"C:\"`).\n",
    "* The `mode` argument defines how we access the file. More on this below.\n",
    "* The `encoding` parameter defines the character encoding (hence, it should only be used with text files).  \n",
    "  It is not mandatory, but if left unspecified it will depend on the platform, which may cause incompatibilities when the files are created and read on different operating systems (even by the same program!).\n",
    "\n",
    "Among those, only the file name is truly mandatory, but do use all three to prevent possible problems (for example, your coursework will not be marked on a Windows computer).\n",
    "\n",
    "The variable `f` is called a *file object* and it contains everything that Python needs to work with the file. **Nowhere, except when opening the file, we refer to it by its name!**\n",
    "\n",
    "After the file is opened, variable `f` keeps track of the its current position in the file, which determines where the next read or write operation will occur."
   ]
  },
  {
   "cell_type": "markdown",
   "metadata": {
    "slideshow": {
     "slide_type": "subslide"
    }
   },
   "source": [
    "#### File modes\n",
    "\n",
    "These are the available file modes (taken from the [documentation of the `open` function](https://docs.python.org/3/library/functions.html#open)):\n",
    "\n",
    "Character | Meaning\n",
    ":--------:|--------\n",
    "'r'       | open for reading (default)\n",
    "'w'       | open for writing, truncating the file first\n",
    "'x'       | open for exclusive creation, failing if the file already exists\n",
    "'a'       | open for writing, appending to the end of the file if it exists\n",
    "\n",
    "Only one of these may be used. Additionally, we can add one of the following:\n",
    "\n",
    "Character | Meaning\n",
    ":--------:|--------\n",
    "'b'       | binary mode\n",
    "'t'       | text mode (default)\n",
    "\n",
    "So, the mode `\"wt\"` means:\n",
    "> Open the file for <span style=\"color: red; font-weight: bold;\">w</span>riting in <span style=\"color: red; font-weight: bold;\">t</span>ext mode. If the file already exists, it will be truncated (i.e., its contents will be deleted). If it doesn't, it will be created.\n",
    "\n",
    "Similarly, `\"rb\"` means:\n",
    "> Open the file for <span style=\"color: red; font-weight: bold;\">r</span>eading in <span style=\"color: red; font-weight: bold;\">b</span>inary mode. If it doesn't exist, a `FileNotFoundError` exception is raised.\n",
    "\n",
    "The mode `\"a\"` works like `\"w\"`, except that it doesn't truncate the file if it exists, and its starting position is at the end of the file.\n",
    "\n",
    "One more character may be added: a plus character means \"open for both reading and writing\". For example, `\"wt+\"` means\n",
    "> Create a new file or clear the existing one, in text mode, but open it for reading, as well as writing,\n",
    "\n",
    "unlike `\"wt\"` which would mean the same, but without the ability to use the read operations."
   ]
  },
  {
   "cell_type": "markdown",
   "metadata": {
    "slideshow": {
     "slide_type": "subslide"
    }
   },
   "source": [
    "#### Writing to a file\n",
    "\n",
    "To write to the file `f` (both in text and in binary mode) that is open for writing, we use\n",
    "```python\n",
    "f.write(data)\n",
    "```\n",
    "where `data` is the variable, expression, or a constant whose value we want to save. Unlike `print`, `f.write` will not add any extra characters."
   ]
  },
  {
   "cell_type": "markdown",
   "metadata": {
    "slideshow": {
     "slide_type": "subslide"
    }
   },
   "source": [
    "#### Reading from a file\n",
    "\n",
    "If the file is open for reading, we can fetch the data using `f.read`:\n",
    "* `f.read()` reads the whole file from the current position to the end of the file (also called EOF),\n",
    "* `f.read(b)` reads `b` bytes of the file.\n",
    "\n",
    "For text files it is usually more convenient to use `f.readline()` which reads the data from the current position in the file to the end of that line (also called EOL). The function returns a string, with the newline character `\"\\n\"` at the end (unless the read line is the last line in the file and it didn't end with a newline character).\n",
    "\n",
    "To read the whole text file line by line, you can use `for` loop with the file object:\n",
    "```python\n",
    "for line in f:\n",
    "    print(line)\n",
    "```\n",
    "prints file text to the screen, line by line. This is a very readable piece of code, as well as a fast and memory efficient operation.\n",
    "\n",
    "Neither `read` nor `readline` check that your computer actually has enough memory to perform the task."
   ]
  },
  {
   "cell_type": "markdown",
   "metadata": {
    "slideshow": {
     "slide_type": "subslide"
    }
   },
   "source": [
    "#### Closing the file\n",
    "\n",
    "Once we are done working with a file, we close it:\n",
    "```python\n",
    "f.close()\n",
    "```\n",
    "To see why closing is especially important when writing, let us observe what happens with the file, line by line, as we execute the above code."
   ]
  },
  {
   "cell_type": "markdown",
   "metadata": {
    "slideshow": {
     "slide_type": "subslide"
    }
   },
   "source": [
    "First, we load the data and open the file for writing:"
   ]
  },
  {
   "cell_type": "code",
   "execution_count": 3,
   "metadata": {
    "collapsed": false
   },
   "outputs": [
    {
     "name": "stdout",
     "output_type": "stream",
     "text": [
      "What's your name? Farrokh Bulsara\n"
     ]
    }
   ],
   "source": [
    "username = input(\"What's your name? \")\n",
    "f = open(\"name.txt\", mode=\"wt\", encoding=\"utf8\")"
   ]
  },
  {
   "cell_type": "markdown",
   "metadata": {
    "slideshow": {
     "slide_type": "subslide"
    }
   },
   "source": [
    "The file is now empty (i.e., its old contents is lost):"
   ]
  },
  {
   "cell_type": "code",
   "execution_count": 4,
   "metadata": {
    "collapsed": false
   },
   "outputs": [],
   "source": [
    "cat name.txt"
   ]
  },
  {
   "cell_type": "markdown",
   "metadata": {
    "slideshow": {
     "slide_type": "subslide"
    }
   },
   "source": [
    "We now write our data to the file:"
   ]
  },
  {
   "cell_type": "code",
   "execution_count": 5,
   "metadata": {
    "collapsed": false
   },
   "outputs": [
    {
     "data": {
      "text/plain": [
       "15"
      ]
     },
     "execution_count": 5,
     "metadata": {},
     "output_type": "execute_result"
    }
   ],
   "source": [
    "f.write(username)"
   ]
  },
  {
   "cell_type": "markdown",
   "metadata": {},
   "source": [
    "**Note:** the `write` function returns the number of characters written."
   ]
  },
  {
   "cell_type": "markdown",
   "metadata": {
    "slideshow": {
     "slide_type": "subslide"
    }
   },
   "source": [
    "However, the file is still empty:"
   ]
  },
  {
   "cell_type": "code",
   "execution_count": 7,
   "metadata": {
    "collapsed": false
   },
   "outputs": [],
   "source": [
    "cat name.txt"
   ]
  },
  {
   "cell_type": "markdown",
   "metadata": {
    "slideshow": {
     "slide_type": "subslide"
    }
   },
   "source": [
    "But, after we close it:"
   ]
  },
  {
   "cell_type": "code",
   "execution_count": 8,
   "metadata": {
    "collapsed": false
   },
   "outputs": [],
   "source": [
    "f.close()"
   ]
  },
  {
   "cell_type": "markdown",
   "metadata": {
    "slideshow": {
     "slide_type": "subslide"
    }
   },
   "source": [
    "the cache is flushed and the file finally contains the data:"
   ]
  },
  {
   "cell_type": "code",
   "execution_count": 9,
   "metadata": {
    "collapsed": false
   },
   "outputs": [
    {
     "name": "stdout",
     "output_type": "stream",
     "text": [
      "Farrokh Bulsara"
     ]
    }
   ],
   "source": [
    "cat name.txt"
   ]
  },
  {
   "cell_type": "markdown",
   "metadata": {
    "slideshow": {
     "slide_type": "subslide"
    }
   },
   "source": [
    "## The Pythonic way\n",
    "\n",
    "Python has a nice way of preventing the loss of data due to unclosed files. The following code does the same thing as the above one, but without a close statement (which is done automatically):"
   ]
  },
  {
   "cell_type": "code",
   "execution_count": 10,
   "metadata": {
    "collapsed": false
   },
   "outputs": [
    {
     "name": "stdout",
     "output_type": "stream",
     "text": [
      "What's your name? Brian May\n"
     ]
    }
   ],
   "source": [
    "username = input(\"What's your name? \")\n",
    "with open(\"name.txt\", mode=\"wt\", encoding=\"utf8\") as f:\n",
    "    f.write(username)"
   ]
  },
  {
   "cell_type": "markdown",
   "metadata": {
    "slideshow": {
     "slide_type": "subslide"
    }
   },
   "source": [
    "As before, we can easily check that the data was properly saved:"
   ]
  },
  {
   "cell_type": "code",
   "execution_count": 11,
   "metadata": {
    "collapsed": false
   },
   "outputs": [
    {
     "name": "stdout",
     "output_type": "stream",
     "text": [
      "Brian May"
     ]
    }
   ],
   "source": [
    "cat name.txt"
   ]
  },
  {
   "cell_type": "markdown",
   "metadata": {
    "slideshow": {
     "slide_type": "subslide"
    }
   },
   "source": [
    "The difference between the traditional approach and the Pythonic one is that the latter uses a statement `with`. Once the flow of control exits the block belonging to `with`, the file is automatically closed.\n",
    "\n",
    "This is done even if the `with` block is exited with a `break` statement (in which case, `with` itself needs to be in a loop), a `return` statement (in which case, `with` itself needs to be in a function), or an exception.\n",
    "\n",
    "The downside is that all the work on the file needs to be done inside the block belonging to `with`. This is rarely a problem, but if there is a need for the file object to be used throughout the program (so, wider than a single block), one can always use the traditional approach."
   ]
  },
  {
   "cell_type": "markdown",
   "metadata": {
    "slideshow": {
     "slide_type": "subslide"
    }
   },
   "source": [
    "Note that the following works fine because the function `save_name` is called inside the `with` block (i.e., before the flow of control exits it and closes the file)."
   ]
  },
  {
   "cell_type": "code",
   "execution_count": 12,
   "metadata": {
    "collapsed": false
   },
   "outputs": [
    {
     "name": "stdout",
     "output_type": "stream",
     "text": [
      "What's your name? Roger Taylor\n"
     ]
    }
   ],
   "source": [
    "def save_name(f, name):\n",
    "    \"\"\"\n",
    "    Save name `name`, along with a decorative description, to a file\n",
    "    opened for writing and accessed via a file object `f`.\n",
    "    \"\"\"\n",
    "    f.write('Name: \"{}\"'.format(name))\n",
    "\n",
    "username = input(\"What's your name? \")\n",
    "with open(\"name.txt\", mode=\"wt\", encoding=\"utf8\") as f:\n",
    "    save_name(f, username)"
   ]
  },
  {
   "cell_type": "code",
   "execution_count": 13,
   "metadata": {
    "collapsed": false
   },
   "outputs": [
    {
     "name": "stdout",
     "output_type": "stream",
     "text": [
      "Name: \"Roger Taylor\""
     ]
    }
   ],
   "source": [
    "cat name.txt"
   ]
  },
  {
   "cell_type": "markdown",
   "metadata": {
    "slideshow": {
     "slide_type": "subslide"
    }
   },
   "source": [
    "As we shall soon see, `with` can accept more than one file argument."
   ]
  },
  {
   "cell_type": "markdown",
   "metadata": {
    "slideshow": {
     "slide_type": "slide"
    }
   },
   "source": [
    "# A more lively example\n",
    "\n",
    "**Problem.** A text file [`Average-Prices-SA.csv`](http://publicdata.landregistry.gov.uk/market-trend-data/house-price-index-data/Average-Prices-SA.csv) contains the average house prices throughout the UK, from 1995 until now, seasonally adjusted. The data is organized one record per line, each record having the following fields separated by commas:\n",
    "1. \"Date\", in the format `yyyy-mm-01` (this is monthly data, so the day of the month is always the 1st),\n",
    "2. \"Name\" of a category or a region, which is any string (obviously, not containing commas),\n",
    "3. \"Average_Price_SA\", a real number containing the price.\n",
    "\n",
    "The first line contains names of these fields and should not be treated as a part of the data.\n",
    "\n",
    "Here are a first few lines from the file:\n",
    "\n",
    "    Date,Name,Average_Price_SA\n",
    "    1995-01-01,Barking And Dagenham,70837.428643366453\n",
    "    1995-01-01,Barnet,99572.784726549682\n",
    "    1995-01-01,Barnsley,49312.007625642422\n",
    "    1995-01-01,Bath And North East Somerset,68371.565466743603\n",
    "\n",
    "Write two programs:\n",
    "* One has to load two positive integers $f$ (from) and $t$ (to), and a string `oname`. It then copies the header (the first line) and lines $f, f+1, \\dots, t$ to a new file with the name `oname`.\n",
    "* The other one has to input a name and print the average seasonally adjusted house price for all the records for that name, rounded to two digits.\n",
    "\n",
    "The data was produced by Land Registry © Crown copyright 2014. and downloaded from [this page](https://www.gov.uk/government/statistical-data-sets/house-price-index-background-tables)."
   ]
  },
  {
   "cell_type": "markdown",
   "metadata": {
    "slideshow": {
     "slide_type": "subslide"
    }
   },
   "source": [
    "## Copy (part of) the file\n",
    "\n",
    "The first problem has nothing to do with the data itself, apart from the fact that we start counting from the second line and the first one is copied regardless of the input."
   ]
  },
  {
   "cell_type": "code",
   "execution_count": 15,
   "metadata": {
    "collapsed": false
   },
   "outputs": [
    {
     "name": "stdout",
     "output_type": "stream",
     "text": [
      "From line: 3\n"
     ]
    },
    {
     "name": "stdout",
     "output_type": "stream",
     "text": [
      "To line: 7\n"
     ]
    },
    {
     "name": "stdout",
     "output_type": "stream",
     "text": [
      "Output file name: new.csv\n"
     ]
    }
   ],
   "source": [
    "f = int(input(\"From line: \"))\n",
    "t = int(input(\"To line: \"))\n",
    "oname = input(\"Output file name: \")\n",
    "# Open both files\n",
    "with open(\"Average-Prices-SA.csv\", mode=\"rt\", encoding=\"utf8\") as ifile, \\\n",
    "     open(oname, mode=\"wt\", encoding=\"utf8\") as ofile:\n",
    "    # Copy the first line\n",
    "    ofile.write(ifile.readline())\n",
    "    # Read the first `f-1` lines, as we don't want to copy these\n",
    "    for _ in range(f-1):\n",
    "        if ifile.readline() == \"\":\n",
    "            break\n",
    "    # Copy the following `t-f+1` lines:\n",
    "    for k in range(t-f+1):\n",
    "        line = ifile.readline()\n",
    "        if line == \"\":\n",
    "            break\n",
    "        ofile.write(line)"
   ]
  },
  {
   "cell_type": "code",
   "execution_count": 16,
   "metadata": {
    "collapsed": false
   },
   "outputs": [
    {
     "name": "stdout",
     "output_type": "stream",
     "text": [
      "Date,Name,Average_Price_SA\r\n",
      "1995-01-01,Barnsley,49312.007625642422\r\n",
      "1995-01-01,Bath And North East Somerset,68371.565466743603\r\n",
      "1995-01-01,Bedford,59289.191800237961\r\n",
      "1995-01-01,Bexley,78717.010842106043\r\n",
      "1995-01-01,Birmingham,51373.387921890659\r\n"
     ]
    }
   ],
   "source": [
    "cat new.csv"
   ]
  },
  {
   "cell_type": "markdown",
   "metadata": {
    "slideshow": {
     "slide_type": "subslide"
    }
   },
   "source": [
    "In the above code we check if `readline` calls have returned an empty string `\"\"`. This happens only if we have reached the end of the file (as we stated before, the lines maintain their newline character, so even an empty line will be read as `\"\\n\"` and not an empty string).\n",
    "\n",
    "Notice the backslash character `\\` at the end of the first `with` line. Normally, `with` statements cannot be broken at the comma, so a backslash is used to achieve that. It's meaning in Python (and some other languages) is \"this statement continues in the next line\"."
   ]
  },
  {
   "cell_type": "markdown",
   "metadata": {
    "slideshow": {
     "slide_type": "subslide"
    }
   },
   "source": [
    "## Get the average price for a given name\n",
    "\n",
    "To solve this problem, we need to read the file line by line (skipping the first one, i.e., the header), split each line into components, check the name, and -- if it is the same as the given one -- add the corresponding value to the sum of values and increase the counter (which will then be used for the division when computing the average value).\n",
    "\n",
    "Note that we shall use a case insensitive string comparisons. To do that, we shall remember the lowercase version of the name we are searching for, which we shall then compare to the lowercase versions of the names in the file."
   ]
  },
  {
   "cell_type": "code",
   "execution_count": 20,
   "metadata": {
    "collapsed": false
   },
   "outputs": [
    {
     "name": "stdout",
     "output_type": "stream",
     "text": [
      "Category name: manchester\n"
     ]
    },
    {
     "name": "stdout",
     "output_type": "stream",
     "text": [
      "There are 240 records matching the name \"manchester\", with the average price 76856.17 GBP.\n"
     ]
    }
   ],
   "source": [
    "name = input(\"Category name: \")\n",
    "name_lower = name.lower()\n",
    "with open(\"Average-Prices-SA.csv\", mode=\"rt\", encoding=\"utf8\") as f:\n",
    "    # Skip the first line\n",
    "    f.readline()\n",
    "    # Initialize the sum and the counter\n",
    "    price_sum = 0\n",
    "    row_count = 0\n",
    "    for line in f:\n",
    "        # Try...except block will catch errors with splitting the lines\n",
    "        # that have a wrong number of commas or convertin non-float prices\n",
    "        # to floats\n",
    "        try:\n",
    "            (_, cat_name, price) = line.split(\",\")\n",
    "            if cat_name.lower() == name_lower:\n",
    "                # print(price.strip())  # uncomment this to check the program\n",
    "                price_sum += float(price)\n",
    "                row_count += 1\n",
    "        except Exception:\n",
    "            # Whatever the error it is, we ignore it\n",
    "            pass\n",
    "if row_count:\n",
    "    print('There are {} records matching the name \"{}\", \\\n",
    "with the average price {:.2f} GBP.'.format(row_count, name, price_sum/row_count))\n",
    "else:\n",
    "    print('There are no records regarding the category \"{}\".'.format(name))"
   ]
  },
  {
   "cell_type": "markdown",
   "metadata": {
    "slideshow": {
     "slide_type": "slide"
    }
   },
   "source": [
    "## CSV\n",
    "\n",
    "The format of a text file described above is called *Comma Separated Values*, or *CSV* in short. It is somewhat more complex than our data above (it can work with separators other than commas, and the separators themselves can be parts of the values if quotation marks are included), and it is used to save data tables in text files.\n",
    "\n",
    "All spreadsheet programs (OpenOffice Calc, Google Sheets, Microsoft Excel,...) can export data to CSV files and import it from them. The export can be somewhat lacking, due to the limitations of the format itself (for example, the formats and the formulas are lost)."
   ]
  },
  {
   "cell_type": "markdown",
   "metadata": {
    "slideshow": {
     "slide_type": "subslide"
    }
   },
   "source": [
    "Luckily, we don't have to parse such files by hand, as we have done in the previous example. Instead, it is better to use the [`csv` module](https://docs.python.org/3/library/csv.html), like this:"
   ]
  },
  {
   "cell_type": "code",
   "execution_count": 21,
   "metadata": {
    "collapsed": false
   },
   "outputs": [
    {
     "name": "stdout",
     "output_type": "stream",
     "text": [
      "Category name: london\n"
     ]
    },
    {
     "name": "stdout",
     "output_type": "stream",
     "text": [
      "There are 240 records matching the name \"london\", with the average price 252982.58 GBP.\n"
     ]
    }
   ],
   "source": [
    "import csv\n",
    "\n",
    "name = input(\"Category name: \")\n",
    "name_lower = name.lower()\n",
    "with open(\"Average-Prices-SA.csv\", mode=\"rt\", encoding=\"utf8\", newline=\"\") as f:\n",
    "    # Create a CSV reader object\n",
    "    prices_reader = csv.reader(f, delimiter=\",\")\n",
    "    # Initialize the sum and the counter\n",
    "    price_sum = 0\n",
    "    row_count = 0\n",
    "    for row in prices_reader:\n",
    "        # Try...except block will catch errors like the improper\n",
    "        # number of columns in the table or non-float prices\n",
    "        try:\n",
    "            (_, cat_name, price) = row\n",
    "            if cat_name.lower() == name_lower:\n",
    "                # print(price.strip())  # uncomment this to check the program\n",
    "                price_sum += float(price)\n",
    "                row_count += 1\n",
    "        except Exception:\n",
    "            # Whatever the error it is, we ignore it\n",
    "            pass\n",
    "if row_count:\n",
    "    print('There are {} records matching the name \"{}\", \\\n",
    "with the average price {:.2f} GBP.'.format(row_count, name, price_sum/row_count))\n",
    "else:\n",
    "    print('There are no records regarding the category \"{}\".'.format(name))"
   ]
  },
  {
   "cell_type": "markdown",
   "metadata": {
    "slideshow": {
     "slide_type": "subslide"
    }
   },
   "source": [
    "This may not seem much simpler than the previous code, but this code is much more robust, it is easier to customize, and it handles the header automatically."
   ]
  },
  {
   "cell_type": "markdown",
   "metadata": {
    "slideshow": {
     "slide_type": "subslide"
    }
   },
   "source": [
    "Note that the `csv` module also supports writing the data to CSV files, as well as various advanced customizations that allow the programmers to easily adapt their programs to CSV files created by different well know systems (so called *dialects*).\n",
    "\n",
    "The supported dialects list is easy to find:"
   ]
  },
  {
   "cell_type": "code",
   "execution_count": 22,
   "metadata": {
    "collapsed": false
   },
   "outputs": [
    {
     "name": "stdout",
     "output_type": "stream",
     "text": [
      "['excel', 'excel-tab', 'unix']\n"
     ]
    }
   ],
   "source": [
    "import csv\n",
    "print(csv.list_dialects())"
   ]
  },
  {
   "cell_type": "markdown",
   "metadata": {},
   "source": [
    "It is equally easy to define your own dialects. More details can be found in the [documentation of the `csv` module](https://docs.python.org/3/library/csv.html)."
   ]
  },
  {
   "cell_type": "markdown",
   "metadata": {
    "slideshow": {
     "slide_type": "subslide"
    }
   },
   "source": [
    "## Other text formats\n",
    "\n",
    "While CSV is a very simple format for storing table data in text files, there are many other formats that store various other kinds of data. The two most common general purpose ones are XML and JSON, both of which are supported by standard Python modules (for XML, see [here](https://docs.python.org/3/library/xml.html), and JSON is supported by the [`json` module](https://docs.python.org/3.3/library/json.html))."
   ]
  },
  {
   "cell_type": "markdown",
   "metadata": {
    "slideshow": {
     "slide_type": "slide"
    }
   },
   "source": [
    "# Pickles\n",
    "\n",
    "Using binary files directly is beyond the scope of this course. However, there is a Python-specific approach: [`pickle` module](https://docs.python.org/3/library/pickle.html) that allows us to save various values and read them later on. It is not supported by other languages, so it can only be used between the programs written in Python.\n",
    "\n",
    "Let us save one integer and one float to a pickle file:"
   ]
  },
  {
   "cell_type": "code",
   "execution_count": null,
   "metadata": {
    "collapsed": false
   },
   "outputs": [],
   "source": [
    "import pickle\n",
    "with open(\"binary.dat\", mode=\"wb\") as f:\n",
    "    pickle.dump(17, f)\n",
    "    pickle.dump(17.19, f)"
   ]
  },
  {
   "cell_type": "markdown",
   "metadata": {
    "slideshow": {
     "slide_type": "subslide"
    }
   },
   "source": [
    "Now, let us read them from the same file and print them to the screen:"
   ]
  },
  {
   "cell_type": "code",
   "execution_count": null,
   "metadata": {
    "collapsed": false
   },
   "outputs": [],
   "source": [
    "import pickle\n",
    "with open(\"binary.dat\", mode=\"rb\") as f:\n",
    "    x = pickle.load(f)\n",
    "    y = pickle.load(f)\n",
    "    print(\"x = {} (type: {})\".format(x, type(x)))\n",
    "    print(\"y = {} (type: {})\".format(y, type(y)))"
   ]
  },
  {
   "cell_type": "markdown",
   "metadata": {
    "slideshow": {
     "slide_type": "subslide"
    }
   },
   "source": [
    "Let us also print the position of the file object in the file as we read the numbers:"
   ]
  },
  {
   "cell_type": "code",
   "execution_count": null,
   "metadata": {
    "collapsed": false
   },
   "outputs": [],
   "source": [
    "import pickle\n",
    "with open(\"binary.dat\", mode=\"rb\") as f:\n",
    "    print(\"Position before the loads: \", f.tell())\n",
    "    x = pickle.load(f)\n",
    "    pos_between_x_and_y = f.tell()\n",
    "    print(\"Position between the loads:\", pos_between_x_and_y)\n",
    "    y = pickle.load(f)\n",
    "    print(\"Position after the loads:  \", f.tell())\n",
    "    print(\"x = {} (type: {})\".format(x, type(x)))\n",
    "    print(\"y = {} (type: {})\".format(y, type(y)))"
   ]
  },
  {
   "cell_type": "markdown",
   "metadata": {
    "slideshow": {
     "slide_type": "subslide"
    }
   },
   "source": [
    "The [`ftell`](https://docs.python.org/3/library/io.html#io.IOBase.tell) returns the current position in the file (i.e., how much bytes have we read to get where we are). This can be used to move around the file with its counterpart, [`seek`](https://docs.python.org/3/library/io.html#io.IOBase.seek). For example:"
   ]
  },
  {
   "cell_type": "code",
   "execution_count": null,
   "metadata": {
    "collapsed": false
   },
   "outputs": [],
   "source": [
    "import pickle\n",
    "with open(\"binary.dat\", mode=\"rb\") as f:\n",
    "    f.seek(pos_between_x_and_y)\n",
    "    val = pickle.load(f)\n",
    "    print(\"Loaded value: {} (type: {})\".format(val, type(val)))"
   ]
  },
  {
   "cell_type": "markdown",
   "metadata": {
    "slideshow": {
     "slide_type": "subslide"
    }
   },
   "source": [
    "`seek` is rarely given an exact number as the position. Instead, it is customary to give it a position captured earlier with `tell`.\n",
    "\n",
    "The exceptions are moving to the beginning and to the end of the file. For example,"
   ]
  },
  {
   "cell_type": "code",
   "execution_count": null,
   "metadata": {
    "collapsed": false
   },
   "outputs": [],
   "source": [
    "import pickle\n",
    "import io\n",
    "with open(\"binary.dat\", mode=\"rb+\") as f:\n",
    "    # Opened for reading and writing\n",
    "    # Read x\n",
    "    x = pickle.load(f)\n",
    "    print(\"x:\", x)\n",
    "    # Compute new value\n",
    "    val = 2*x+1\n",
    "    # Move to the beginning of the file\n",
    "    f.seek(0)\n",
    "    # Overwrite `x` with the new value\n",
    "    pickle.dump(val, f)\n",
    "    # Move to the end\n",
    "    f.seek(0, io.SEEK_END)\n",
    "    print(\"Position at the end:\", f.tell())\n",
    "    # Write old `x` to the end of the file\n",
    "    pickle.dump(x, f)\n",
    "    print(\"Position after writing:\", f.tell())"
   ]
  },
  {
   "cell_type": "markdown",
   "metadata": {
    "slideshow": {
     "slide_type": "subslide"
    }
   },
   "source": [
    "If we execute the above code repeatedly, we will see that the positions are growing, as we are adding data to the file.\n",
    "\n",
    "Notice that overwriting `x` with anything bigger than `int` will overwrite (part of) the value after it, so this kind of writing in the middle of the file has to be done with the utmost care."
   ]
  },
  {
   "cell_type": "markdown",
   "metadata": {
    "slideshow": {
     "slide_type": "subslide"
    }
   },
   "source": [
    "**Note:** The functions from `pickle` module do quite a bit of work, preserving the types of the data, along with its values. This does not happen when binary files are used directly (for example, in more traditional programming languages)."
   ]
  }
 ],
 "metadata": {},
 "nbformat": 4,
 "nbformat_minor": 0
}
