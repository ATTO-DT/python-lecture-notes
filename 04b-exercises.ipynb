{
 "cells": [
  {
   "cell_type": "markdown",
   "metadata": {},
   "source": [
    "# Programming with Python\n",
    "#### Vedran Šego, [vsego.org](http://vsego.org/)\n",
    "\n",
    "## Exercises: Lists"
   ]
  },
  {
   "cell_type": "markdown",
   "metadata": {},
   "source": [
    "### A note on testing the programs with lists\n",
    "\n",
    "You can load a list of numbers using one of several methods. For example, you can load a list of integers like this:\n",
    "```python\n",
    "L = list()\n",
    "n = int(input(\"The number of list elements: \"))\n",
    "for k in range(n):\n",
    "    L.append(int(input(str(k+1) + \". element: \")))\n",
    "```\n",
    "However, while testing your program, it gets boring to retype the list with each run. Instead of the above, do this:\n",
    "```python\n",
    "def load_a_list_of_ints():\n",
    "    \"\"\"\n",
    "    Loads a list of integers by first asking for its length.\n",
    "    \"\"\"\n",
    "    L = list()\n",
    "    n = int(input(\"The number of list elements: \"))\n",
    "    for k in range(n):\n",
    "        L.append(int(input(str(k+1) + \". element: \")))\n",
    "    return L\n",
    "\n",
    "#x = load_a_list_of_ints()\n",
    "x = [ 17, 23, 11, 13, 19 ]\n",
    "the_rest_of_your_code()\n",
    "```\n",
    "In other words, make an input function (`load_a_list_of_ints` in the above example), comment out its call\n",
    "```python\n",
    "#x = load_a_list_of_ints()\n",
    "```\n",
    "and set a fixed value for the list:\n",
    "```python\n",
    "x = [ 17, 23, 11, 13, 19 ]\n",
    "```\n",
    "\n",
    "After your code works properly for that one example, you can try a few more by changing the value of `x`.\n",
    "\n",
    "In the end, remove or comment out the fixed value of `x`:\n",
    "```python\n",
    "#x = [ 17, 23, 11, 13, 19 ]\n",
    "```\n",
    "uncomment the input, i.e., remove `#` from `#x = load_a_list_of_ints()` so you get\n",
    "```python\n",
    "x = load_a_list_of_ints()\n",
    "```\n",
    "and test that the program properly loads a list and does with it what needs to be done.\n",
    "\n",
    "Of course, the same approach can be used with the other input methods that we've seen in lectures. Furthermore, the `break` statement (which we shall see later on) in some of those can be replaced with `return L`."
   ]
  },
  {
   "cell_type": "markdown",
   "metadata": {},
   "source": [
    "## The problems\n",
    "\n",
    "**Problem 1.** Without using Python's built-in functions for reversing lists, write your own function `my_reverse` that accepts a single parameter `L` (a list) and reverses its elements."
   ]
  },
  {
   "cell_type": "markdown",
   "metadata": {},
   "source": [
    "**Hint:** Swap the first and the last element, then the second and the second to last, etc. Where should this swapping stop?"
   ]
  },
  {
   "cell_type": "markdown",
   "metadata": {},
   "source": [
    "**Problem 2.** Without using Python's built-in functions for reversing lists, write your own function `my_reverse` that accepts a single parameter `L` (a list) and returns a new list with the same elements but in a reverse order. The list `L` has to remain unchanged."
   ]
  },
  {
   "cell_type": "markdown",
   "metadata": {},
   "source": [
    "**Problem 3.** Without using Python's built-in functions for sorting lists, write your own function `my_sort` that accepts a single parameter L (a list) and sorts it."
   ]
  },
  {
   "cell_type": "markdown",
   "metadata": {},
   "source": [
    "**Hint:** How would you sort a sequence of numbers IRL (*in real life*) if you had them each written on its own piece of paper?\n",
    "\n",
    "One way to do it: take a look at the first, the second,... $k$-th number. For each of them find the smallest one behind it. Then swap that one with the $k$-th one (unless the $k$-th one is that smallest one), and move to the next, $(k+1)$-th one. This is called *selection sort*.\n",
    "\n",
    "**Note:** This is an exercise in list manipulations. When sorting in Python, always use its own sorting functions, as these implement much faster algorithms."
   ]
  },
  {
   "cell_type": "markdown",
   "metadata": {},
   "source": [
    "**Problem 4.** Without using Python's built-in functions for sorting lists, write your own function `my_sort` that accepts a single parameter L (a list) and returns a new list with the same elements but in an ascending order. The list `L` has to remain unchanged."
   ]
  },
  {
   "cell_type": "markdown",
   "metadata": {},
   "source": [
    "**Problem 5.** Write a function that takes two parameters: a sorted list `L` (you don't have to check that it is sorted) and a variable `el`. The function has to return `None` if `el` is not in the list, or its index if it is.\n",
    "\n",
    "Do not use sets and similar methods, nor Python's built-in functions like [`index`](https://docs.python.org/3/tutorial/datastructures.html#more-on-lists).\n",
    "\n",
    "Instead, implement a [binary search algorithm](http://en.wikipedia.org/wiki/Binary_search_algorithm). This is the same algorithm that you use when searching for something in a *sorted* index at the end of a book: look at the middle term and decide where to look next (to the left or the right) and proceed until the element is found or you realize that it doesn't exist. Each step cuts the number of candidates in half (so, a list with $2^{\\color{red}{10}} = 1024$ elements is searched in at most $\\color{red}{10}$ steps).\n",
    "\n",
    "Searching the internet for a simple explanation of how it works would probably be useful here."
   ]
  },
  {
   "cell_type": "markdown",
   "metadata": {},
   "source": [
    "**Note:** Python has a module [`bisect`](https://docs.python.org/3/library/bisect.html) which, as its documentation says, provides support for maintaining a list in sorted order without having to sort the list after each insertion. However, it can also be used for binary search."
   ]
  },
  {
   "cell_type": "markdown",
   "metadata": {},
   "source": [
    "## Further help\n",
    "\n",
    "Detailed explanations of the solutions for the problems in this exercise are given in the lab classes notes."
   ]
  }
 ],
 "metadata": {},
 "nbformat": 4,
 "nbformat_minor": 0
}
