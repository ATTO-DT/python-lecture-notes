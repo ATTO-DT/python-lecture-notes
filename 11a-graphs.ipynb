{
 "cells": [
  {
   "cell_type": "markdown",
   "metadata": {
    "slideshow": {
     "slide_type": "slide"
    }
   },
   "source": [
    "# Programming with Python\n",
    "#### Vedran Šego, [vsego.org](http://vsego.org/)\n",
    "\n",
    "## Contents:\n",
    "\n",
    "1. Graphs"
   ]
  },
  {
   "cell_type": "markdown",
   "metadata": {
    "slideshow": {
     "slide_type": "slide"
    }
   },
   "source": [
    "# Graphs\n",
    "\n",
    "## Königsberg bridges\n",
    "\n",
    "The [introductory notes](http://www.maths.manchester.ac.uk/~mrm/Teaching/DiscreteMaths/LectureNotes/IntroToGraphs.pdf) of [MATH20902 - Discrete Mathematics](http://www.maths.manchester.ac.uk/study/undergraduate/courses/mathematics-bsc/course-unit-spec/?unitcode=MATH20902) start with the description of the well-known [Königsberg bridge problem](http://en.wikipedia.org/wiki/Seven_Bridges_of_K%C3%B6nigsberg):\n",
    "\n",
    "<div style=\"text-align: center;\"><img src=\"11a-konigsberg_bridges.jpg\" title=\"Konigsberg bridges\" width=\"350\" style=\"display: inline; margin-right: 10px;\"> <img src=\"11a-konigsberg_bridges.svg\" title=\"Konigsberg bridges graph\" width=\"350\" style=\"display: inline; margin-left: 10px;\"></div>\n",
    "\n",
    "The panel on the left shows the seven bridges and four land masses that provide the setting for the Königsberg bridge problem, which asks whether it is possible to make a circular walking tour of the city that crosses every bridge exactly once. The panel on the right includes a graph-theoretic abstraction that helps one prove that no such tour exists."
   ]
  },
  {
   "cell_type": "markdown",
   "metadata": {
    "slideshow": {
     "slide_type": "subslide"
    }
   },
   "source": [
    "First we need to find the official term for \"a graph in which we can visit each edge exactly once\". Let us [ask Google](https://www.google.com/search?q=graph+path+visit+all+edges):\n",
    "![](11a-google.png)\n",
    "\n",
    "Opening that page will, indeed, tell us that what we really want is to check if the graph above is *Eulerian* (i.e., we can visit all the nodes by passing each edge exactly once and endig up where we started)."
   ]
  },
  {
   "cell_type": "markdown",
   "metadata": {
    "slideshow": {
     "slide_type": "subslide"
    }
   },
   "source": [
    "### Ask Python\n",
    "\n",
    "Python's package for working with graphs is [NetworkX](http://networkx.github.io/). To observe its basic functionality, let us solve the above.\n",
    "\n",
    "Let us create an empty multigraph (some nodes will be connected by more than one edge):"
   ]
  },
  {
   "cell_type": "code",
   "execution_count": null,
   "metadata": {
    "collapsed": false
   },
   "outputs": [],
   "source": [
    "import networkx as nx\n",
    "\n",
    "G = nx.MultiGraph()"
   ]
  },
  {
   "cell_type": "markdown",
   "metadata": {
    "slideshow": {
     "slide_type": "subslide"
    }
   },
   "source": [
    "Now, add the nodes:"
   ]
  },
  {
   "cell_type": "code",
   "execution_count": null,
   "metadata": {
    "collapsed": false
   },
   "outputs": [],
   "source": [
    "G.add_nodes_from([\"C\", \"A\", \"D\", \"B\"])"
   ]
  },
  {
   "cell_type": "markdown",
   "metadata": {
    "slideshow": {
     "slide_type": "subslide"
    }
   },
   "source": [
    "Add the edges:"
   ]
  },
  {
   "cell_type": "code",
   "execution_count": null,
   "metadata": {
    "collapsed": false
   },
   "outputs": [],
   "source": [
    "G.add_edges_from([(\"C\",\"A\"), (\"C\",\"A\"), (\"A\",\"B\"), (\"A\",\"B\"), (\"C\", \"D\"), (\"A\", \"D\"), (\"B\", \"D\")])"
   ]
  },
  {
   "cell_type": "markdown",
   "metadata": {
    "slideshow": {
     "slide_type": "subslide"
    }
   },
   "source": [
    "Print nodes and edges, to make sure all is fine:"
   ]
  },
  {
   "cell_type": "code",
   "execution_count": null,
   "metadata": {
    "collapsed": false
   },
   "outputs": [],
   "source": [
    "print(\"Nodes:\", G.nodes())\n",
    "print(\"Edges:\", G.edges())"
   ]
  },
  {
   "cell_type": "markdown",
   "metadata": {
    "slideshow": {
     "slide_type": "subslide"
    }
   },
   "source": [
    "Come on, you can do better than that!"
   ]
  },
  {
   "cell_type": "code",
   "execution_count": null,
   "metadata": {
    "collapsed": false
   },
   "outputs": [],
   "source": [
    "print(\"Nodes:\", \", \".join(sorted(G.nodes())))\n",
    "print(\"Edges:\", \", \".join(sorted(\"{{{}}}\".format(\",\".join(sorted(t))) for t in G.edges())))"
   ]
  },
  {
   "cell_type": "markdown",
   "metadata": {
    "slideshow": {
     "slide_type": "subslide"
    }
   },
   "source": [
    "So, is this graph Eulerian?"
   ]
  },
  {
   "cell_type": "code",
   "execution_count": null,
   "metadata": {
    "collapsed": false
   },
   "outputs": [],
   "source": [
    "print(nx.is_eulerian(G))"
   ]
  },
  {
   "cell_type": "markdown",
   "metadata": {
    "slideshow": {
     "slide_type": "subslide"
    }
   },
   "source": [
    "No, it is not. We can even get Python to print it more nicely:"
   ]
  },
  {
   "cell_type": "code",
   "execution_count": null,
   "metadata": {
    "collapsed": false
   },
   "outputs": [],
   "source": [
    "print(\"The graph {} Eulerian.\".format(\"is\" if nx.is_eulerian(G) else \"is not\"))"
   ]
  },
  {
   "cell_type": "markdown",
   "metadata": {
    "slideshow": {
     "slide_type": "subslide"
    }
   },
   "source": [
    "Let us now require to pass the bridges $c$ (top left) and $f$ (lower right) twice. How do we do that?"
   ]
  },
  {
   "cell_type": "markdown",
   "metadata": {
    "slideshow": {
     "slide_type": "subslide"
    }
   },
   "source": [
    "Instead of messing with the graph theory and adding additional parameter \"you may pass this edge &lt;this many&gt; times\", we simply add two more edges and keep the constraint \"pass each edge exactly once\":\n",
    "\n",
    "<div style=\"text-align: center;\"><img src=\"11a-konigsberg_bridges2.svg\" title=\"Konigsberg bridges graph\" width=\"350\" style=\"display: inline;\"></div>"
   ]
  },
  {
   "cell_type": "code",
   "execution_count": null,
   "metadata": {
    "collapsed": false,
    "slideshow": {
     "slide_type": "subslide"
    }
   },
   "outputs": [],
   "source": [
    "import networkx as nx\n",
    "\n",
    "G = nx.MultiGraph()\n",
    "\n",
    "G.add_nodes_from([\"C\", \"A\", \"D\", \"B\"])\n",
    "G.add_edges_from([\n",
    "    (\"C\",\"A\"), (\"C\",\"A\"), (\"A\",\"B\"), (\"A\",\"B\"), (\"C\", \"D\"), (\"A\", \"D\"), (\"B\", \"D\"),\n",
    "    (\"A\", \"C\"), (\"B\", \"D\")  # new edges\n",
    "])\n",
    "\n",
    "print(\"Nodes:\", \", \".join(sorted(G.nodes())))\n",
    "print(\"Edges:\", \", \".join(sorted(\"{{{}}}\".format(\",\".join(sorted(t))) for t in G.edges())))\n",
    "print(\"The graph {} Eulerian.\".format(\"is\" if nx.is_eulerian(G) else \"is not\"))\n",
    "print(\"Eulerian circuit:\", list(nx.eulerian_circuit(G)))\n",
    "ec = list(nx.eulerian_circuit(G))\n",
    "print(\"A bit prettier: {}->{}\".format(ec[0][0], \"->\".join(t[1] for t in ec)))"
   ]
  },
  {
   "cell_type": "markdown",
   "metadata": {
    "slideshow": {
     "slide_type": "subslide"
    }
   },
   "source": [
    "## Isomorphic (\"pretty much identical\") graphs\n",
    "\n",
    "The [notes of the second MATH20902 lecture](http://www.maths.manchester.ac.uk/~mrm/Teaching/DiscreteMaths/LectureNotes/RepresentingGraphs.pdf) introduce the term *graph isomorphism* which defines when two graphs can be considered the same. The lectures also provide an example of three (not obviously) isomporhic graphs:\n",
    "\n",
    "![](11a-isomorphic_graphs.png)"
   ]
  },
  {
   "cell_type": "markdown",
   "metadata": {
    "slideshow": {
     "slide_type": "subslide"
    }
   },
   "source": [
    "Let us first create these graphs in Python:"
   ]
  },
  {
   "cell_type": "code",
   "execution_count": null,
   "metadata": {
    "collapsed": false
   },
   "outputs": [],
   "source": [
    "import networkx as nx\n",
    "\n",
    "G1 = nx.Graph()\n",
    "G1.add_edges_from([\n",
    "    (1,2), (2,4), (4,3), (3,1),\n",
    "    (1,5), (2,6), (4,8), (3,7),\n",
    "    (5,6), (6,8), (8,7), (7,5),\n",
    "])\n",
    "G2 = nx.Graph()\n",
    "G2.add_edges_from([\n",
    "    (\"000\", \"001\"), (\"000\", \"010\"), (\"000\", \"100\"),\n",
    "    (\"011\", \"001\"), (\"011\", \"010\"), (\"011\", \"111\"),\n",
    "    (\"110\", \"010\"), (\"110\", \"100\"), (\"110\", \"111\"),\n",
    "    (\"101\", \"001\"), (\"101\", \"100\"), (\"101\", \"111\"),\n",
    "])\n",
    "G3 = nx.Graph()\n",
    "G3.add_edges_from([\n",
    "    (\"a\",\"b\"), (\"b\",\"d\"), (\"d\",\"c\"), (\"c\",\"a\"),\n",
    "    (\"a\",\"e\"), (\"b\",\"f\"), (\"d\",\"h\"), (\"c\",\"g\"),\n",
    "    (\"e\",\"f\"), (\"f\",\"h\"), (\"h\",\"g\"), (\"g\",\"e\"),\n",
    "])"
   ]
  },
  {
   "cell_type": "markdown",
   "metadata": {
    "slideshow": {
     "slide_type": "-"
    }
   },
   "source": [
    "**Note:** As you can see, we don't need to add the nodes explicitly (except those that have no edges connected to them)."
   ]
  },
  {
   "cell_type": "markdown",
   "metadata": {
    "slideshow": {
     "slide_type": "subslide"
    }
   },
   "source": [
    "Now we can easily check if they are isommorphic:"
   ]
  },
  {
   "cell_type": "code",
   "execution_count": null,
   "metadata": {
    "collapsed": false
   },
   "outputs": [],
   "source": [
    "print(\"Are G1 and G2 isomorphic?\", nx.is_isomorphic(G1, G2))\n",
    "print(\"Are G1 and G3 isomorphic?\", nx.is_isomorphic(G1, G3))\n",
    "print(\"Are G2 and G3 isomorphic?\", nx.is_isomorphic(G2, G3))"
   ]
  },
  {
   "cell_type": "markdown",
   "metadata": {
    "slideshow": {
     "slide_type": "subslide"
    }
   },
   "source": [
    "The lecture notes also explain how hard of a task it is to determine if two graphs are isomorphic or not, it gives some criterions to help us find the negative answer more quickly in many cases, and it gives the following two graphs that evade the (fast) criterion of degree sequences:\n",
    "\n",
    "![Two non-isomorphic graphs](11a-non_isomorphic.png)"
   ]
  },
  {
   "cell_type": "markdown",
   "metadata": {
    "slideshow": {
     "slide_type": "subslide"
    }
   },
   "source": [
    "These criteria are also supported by NetworkX, so let us test all that this module has to offer:"
   ]
  },
  {
   "cell_type": "code",
   "execution_count": null,
   "metadata": {
    "collapsed": false
   },
   "outputs": [],
   "source": [
    "import networkx as nx\n",
    "\n",
    "G1 = nx.Graph()\n",
    "G1.add_edges_from([\n",
    "    (\"v1\", \"v2\"), (\"v2\", \"v3\"), (\"v3\", \"v4\"), (\"v4\", \"v5\"), (\"v2\", \"v5\")\n",
    "])\n",
    "\n",
    "G2 = nx.Graph()\n",
    "G2.add_edges_from([\n",
    "    (\"u1\", \"u2\"), (\"u2\", \"u3\"), (\"u3\", \"u4\"), (\"u4\", \"u5\"), (\"u3\", \"u5\")\n",
    "])\n",
    "\n",
    "print(\"Could G1 and G2 be isomorphic (faster)?\", nx.faster_could_be_isomorphic(G1, G2))\n",
    "print(\"Could G1 and G2 be isomorphic (fast)?\", nx.fast_could_be_isomorphic(G1, G2))\n",
    "print(\"Could G1 and G2 be isomorphic?\", nx.could_be_isomorphic(G1, G2))\n",
    "print(\"Are G1 and G2 isomorphic?\", nx.is_isomorphic(G1, G2))"
   ]
  },
  {
   "cell_type": "markdown",
   "metadata": {
    "slideshow": {
     "slide_type": "subslide"
    }
   },
   "source": [
    "The functions used here are:\n",
    "\n",
    "* [<tt>faster_could_be_isomorphic</tt>](https://networkx.github.io/documentation/latest/reference/generated/networkx.algorithms.isomorphism.faster_could_be_isomorphic.html) -- checks for matching degree sequences,\n",
    "\n",
    "* [<tt>fast_could_be_isomorphic</tt>](https://networkx.github.io/documentation/latest/reference/generated/networkx.algorithms.isomorphism.fast_could_be_isomorphic.html) -- checks for matching degree and triangle sequences,\n",
    "\n",
    "* [<tt>could_be_isomorphic</tt>](https://networkx.github.io/documentation/latest/reference/generated/networkx.algorithms.isomorphism.could_be_isomorphic.html) -- checks for matching degree, triangle, and number of cliques sequences,\n",
    "\n",
    "* [<tt>is_isomorphic</tt>](https://networkx.github.io/documentation/latest/reference/generated/networkx.algorithms.isomorphism.is_isomorphic.html) -- returns `True` if the graphs are isomorphic and `False` otherwise. It can be slow on big graphs."
   ]
  },
  {
   "cell_type": "markdown",
   "metadata": {
    "slideshow": {
     "slide_type": "subslide"
    }
   },
   "source": [
    "## Plotting graphs\n",
    "\n",
    "NetworkX has some ability to plot graphs, but this is not its primary purpose. There are several interfaces that can be used, but some of them have to be installed separately. However, the support for plotting graphs via Matplotlib usually comes with the default installation. Let us first prepare Matplotlib for use in this document:"
   ]
  },
  {
   "cell_type": "code",
   "execution_count": null,
   "metadata": {
    "collapsed": false
   },
   "outputs": [],
   "source": [
    "%matplotlib inline\n",
    "import matplotlib.pylab as pylab\n",
    "pylab.rcParams['figure.figsize'] = (4, 3)"
   ]
  },
  {
   "cell_type": "markdown",
   "metadata": {
    "slideshow": {
     "slide_type": "subslide"
    }
   },
   "source": [
    "Here is a simple way to draw the previous two graphs:"
   ]
  },
  {
   "cell_type": "code",
   "execution_count": null,
   "metadata": {
    "collapsed": false
   },
   "outputs": [],
   "source": [
    "import matplotlib.pyplot as plt\n",
    "\n",
    "nx.draw_networkx(G1)\n",
    "plt.axis(\"off\")\n",
    "plt.show()\n",
    "\n",
    "nx.draw_networkx(G2)\n",
    "plt.axis(\"off\")\n",
    "plt.show()"
   ]
  },
  {
   "cell_type": "markdown",
   "metadata": {
    "slideshow": {
     "slide_type": "subslide"
    }
   },
   "source": [
    "Sometimes, it may be more convenient to draw graphs by putting their nodes on a circle:"
   ]
  },
  {
   "cell_type": "code",
   "execution_count": null,
   "metadata": {
    "collapsed": false
   },
   "outputs": [],
   "source": [
    "nx.draw_networkx(G1, pos=nx.circular_layout(G1))\n",
    "plt.axis(\"off\")\n",
    "plt.show()\n",
    "\n",
    "nx.draw_networkx(G2, pos=nx.circular_layout(G2))\n",
    "plt.axis(\"off\")\n",
    "plt.show()"
   ]
  },
  {
   "cell_type": "markdown",
   "metadata": {
    "slideshow": {
     "slide_type": "subslide"
    }
   },
   "source": [
    "Other (automatic) layouts are possible as well. You can find them [here](https://networkx.github.io/documentation/latest/reference/drawing.html#module-networkx.drawing.layout)."
   ]
  },
  {
   "cell_type": "markdown",
   "metadata": {
    "slideshow": {
     "slide_type": "subslide"
    }
   },
   "source": [
    "We can also do plenty of other customizations, like positions of nodes, the sizes of the nodes, color changes, and custom edge width:"
   ]
  },
  {
   "cell_type": "code",
   "execution_count": null,
   "metadata": {
    "collapsed": false
   },
   "outputs": [],
   "source": [
    "plt.figure(figsize=(6,2)) \n",
    "nx.draw_networkx(G1,\n",
    "    pos={\"v1\": (0,1), \"v2\": (2,1), \"v3\": (3.5,2), \"v4\": (5,1), \"v5\": (3.5,0)},\n",
    "    node_size=750, node_color=\"yellow\",\n",
    "    edge_color=\"red\", width=2\n",
    ")\n",
    "plt.axis(\"off\")\n",
    "plt.show()"
   ]
  },
  {
   "cell_type": "markdown",
   "metadata": {
    "slideshow": {
     "slide_type": "subslide"
    }
   },
   "source": [
    "We can also use the fact that Matplotlib can process $\\LaTeX$. With a more precise color adjustment (using the [HTML color codes](http://html-color-codes.info/)) and changing the thickness of the nodes circles, we can get a plot fairly similar to the one from the lecture notes:"
   ]
  },
  {
   "cell_type": "code",
   "execution_count": null,
   "metadata": {
    "collapsed": false
   },
   "outputs": [],
   "source": [
    "G2 = nx.Graph()\n",
    "G2.add_edges_from([\n",
    "    (\"$u_1$\", \"$u_2$\"), (\"$u_2$\", \"$u_3$\"), (\"$u_3$\", \"$u_4$\"), (\"$u_4$\", \"$u_5$\"), (\"$u_3$\", \"$u_5$\")\n",
    "])\n",
    "plt.figure(figsize=(6,2))\n",
    "nx.draw_networkx(G2,\n",
    "    pos={\"$u_1$\": (0,1), \"$u_2$\": (2,1), \"$u_3$\": (4,1), \"$u_4$\": (5.5,2), \"$u_5$\": (5.5,0)},\n",
    "    font_size=17,\n",
    "    node_size=750, node_color=\"#caeeeb\", linewidths=2,\n",
    "    width=2\n",
    ")\n",
    "plt.axis(\"off\")\n",
    "plt.show()"
   ]
  },
  {
   "cell_type": "markdown",
   "metadata": {
    "slideshow": {
     "slide_type": "subslide"
    }
   },
   "source": [
    "Plotting multigraphs, however, requires more advanced solutions, because the simple one that we used above will not show multiple edges, as we can see if we try to plot the original Königsberg bridges graph (the one with the exactly one walk over each bridge):"
   ]
  },
  {
   "cell_type": "code",
   "execution_count": null,
   "metadata": {
    "collapsed": false
   },
   "outputs": [],
   "source": [
    "import networkx as nx\n",
    "\n",
    "G = nx.MultiGraph()\n",
    "\n",
    "# The original Königsberg bridges graph\n",
    "G.add_nodes_from([\"C\", \"A\", \"D\", \"B\"])\n",
    "G.add_edges_from([\n",
    "    (\"C\",\"A\"), (\"C\",\"A\"), (\"A\",\"B\"), (\"A\",\"B\"), (\"C\", \"D\"), (\"A\", \"D\"), (\"B\", \"D\"),\n",
    "])\n",
    "\n",
    "nx.draw_networkx(G, pos=nx.circular_layout(G))\n",
    "plt.axis(\"off\")\n",
    "plt.show()"
   ]
  },
  {
   "cell_type": "markdown",
   "metadata": {
    "slideshow": {
     "slide_type": "subslide"
    }
   },
   "source": [
    "For those interested in better visual representations of graphs, you can plot your graphs using [<tt>draw_graphviz</tt>](https://networkx.github.io/documentation/latest/reference/generated/networkx.drawing.nx_pylab.draw_graphviz.html#networkx.drawing.nx_pylab.draw_graphviz). However, this requires [Graphviz](http://www.graphviz.org/) and its [Python module](https://pypi.python.org/pypi/graphviz).\n",
    "\n",
    "Without extra installations, you also export your graphs as [DOT files](http://www.graphviz.org/Documentation/dotguide.pdf) which can then be handled or drawn by Graphviz or some other program recognizing the format, without installing Graphviz Python module.\n",
    "\n",
    "Without much adjustments, the Königsberg bridges graph plotted with Graphviz looks like this:\n",
    "\n",
    "![Königsberg bridges graph plotted with Graphviz](11a-konigsberg_bridges_graphviz.png)\n",
    "\n",
    "As a program specialized for plotting graphs, [Graphviz can do much more](http://www.graphviz.org/Gallery.php)."
   ]
  },
  {
   "cell_type": "markdown",
   "metadata": {
    "slideshow": {
     "slide_type": "subslide"
    }
   },
   "source": [
    "## Paths and trees\n",
    "\n",
    "The [notes of the third MATH20902 lecture](http://www.maths.manchester.ac.uk/~mrm/Teaching/DiscreteMaths/LectureNotes/WalksTrailsAndPaths.pdf) introduce walks, trails, paths, and many other terms which go beyond the scope of this lecture. In the [notes of the fourth MATH20902 lecture](http://www.maths.manchester.ac.uk/~mrm/Teaching/DiscreteMaths/LectureNotes/TreesAndForests.pdf), this builds up to trees and forests. Let us observe the following four graphs from that lecture's Figure 4.1:\n",
    "\n",
    "![Trees and forests](11a-trees_and_forests.png)"
   ]
  },
  {
   "cell_type": "markdown",
   "metadata": {
    "slideshow": {
     "slide_type": "subslide"
    }
   },
   "source": [
    "First, we define these graphs:"
   ]
  },
  {
   "cell_type": "code",
   "execution_count": null,
   "metadata": {
    "collapsed": false
   },
   "outputs": [],
   "source": [
    "import networkx as nx\n",
    "\n",
    "white = nx.Graph()\n",
    "white.add_path([1, 2, 3, 4, 5])\n",
    "white.add_edges_from([(2,6), (3,7)])\n",
    "\n",
    "yellow = nx.Graph()\n",
    "yellow.add_path(list(range(1,9)))  # from bottom left to the lower one on the far right\n",
    "yellow.add_edges_from([\n",
    "    (2,9),   # far left\n",
    "    (3,10),  # next to it\n",
    "    (4,11), (11,12), (11,13),  # the left \"Y\"\n",
    "    (5,14), (14,15), (14,16),  # the bottom right \"Y\"\n",
    "    (6,17), (7,18)  # the remaining two branches on the top right\n",
    "])\n",
    "\n",
    "green = nx.Graph()\n",
    "green.add_edges_from([\n",
    "    (1,2), (3,4),  # two small trees\n",
    "])\n",
    "green.add_path([5, 6, 7])  # the V-shaped tree\n",
    "\n",
    "grey = nx.Graph()\n",
    "grey.add_path([list(range(1,10))])  # from top right, through the cycle, until almost closed\n",
    "grey.add_edges_from([\n",
    "    (3,9),  # close the cycle\n",
    "    (8,10), # the node inside the cycle\n",
    "    (2,11), (4,12), (5,13)  # the remaining nodes and edges\n",
    "])"
   ]
  },
  {
   "cell_type": "markdown",
   "metadata": {},
   "source": [
    "So, which of these are trees?"
   ]
  },
  {
   "cell_type": "markdown",
   "metadata": {
    "slideshow": {
     "slide_type": "subslide"
    }
   },
   "source": [
    "NetworkX documentation isn't helping much. There is no `is_tree` function nor anything similar. However, the solution is not hard: we can use Theorem 4.13 from the aforementioned notes:\n",
    "\n",
    "> Theorem 4.13 (Jungnickel’s Theorem 1.2.8). For a graph $G(V, E)$ on $|V| = n$ vertices, any two of the following imply the third:  \n",
    "(a) $G$ is connected.  \n",
    "(b) $G$ is acyclic.  \n",
    "(c) $G$ has $n-1$ edges.\n",
    "\n",
    "So, we can just compare the number of edges and the number of nodes and check that the graph is connected. A [simple Googling](https://www.google.co.uk/search?q=networkx+check+if+a+graph+is+a+tree) will even give us a ready-made solution by the user Aric in [this answer](http://stackoverflow.com/a/16628381/1667018) on Stack Overflow:"
   ]
  },
  {
   "cell_type": "code",
   "execution_count": null,
   "metadata": {
    "collapsed": false,
    "slideshow": {
     "slide_type": "subslide"
    }
   },
   "outputs": [],
   "source": [
    "def is_tree(G):\n",
    "    \"\"\"\n",
    "    Returns `True` if `G` is a tree and `False` otherwise.\n",
    "    \"\"\"\n",
    "    if nx.number_of_nodes(G) != nx.number_of_edges(G) + 1:\n",
    "        return False\n",
    "    return nx.is_connected(G)"
   ]
  },
  {
   "cell_type": "markdown",
   "metadata": {},
   "source": [
    "Let us now check our three graphs:"
   ]
  },
  {
   "cell_type": "code",
   "execution_count": null,
   "metadata": {
    "collapsed": false
   },
   "outputs": [],
   "source": [
    "print(\"Is the white graph a tree?\", is_tree(white))\n",
    "print(\"Is the yellow graph a tree?\", is_tree(yellow))\n",
    "print(\"Is the green graph a tree?\", is_tree(green))\n",
    "print(\"Is the grey graph a tree?\", is_tree(grey))"
   ]
  },
  {
   "cell_type": "markdown",
   "metadata": {},
   "source": [
    "Let us now plot the yellow graph:"
   ]
  },
  {
   "cell_type": "code",
   "execution_count": null,
   "metadata": {
    "collapsed": false
   },
   "outputs": [],
   "source": [
    "pos = {\n",
    "    # Main path\n",
    "    1: (0.1,0),\n",
    "    2: (1,0.9),\n",
    "    3: (1.9,1.7),\n",
    "    4: (3,2.2),\n",
    "    5: (4,2),\n",
    "    6: (4.5,2.5),\n",
    "    7: (5.5,2.2),\n",
    "    8: (6.5,1.5),\n",
    "    # Far left\n",
    "    9: (0,1),\n",
    "    # Next to it\n",
    "    10: (0.5,2.3),\n",
    "    # The left \"Y\"\n",
    "    11: (2.1,2.7),\n",
    "    12: (1,2.9),\n",
    "    13: (1.2,3.5),\n",
    "    # The bottom right \"Y\"\n",
    "    14: (5,1.5),\n",
    "    15: (4.5,0.75),\n",
    "    16: (5.7,0.7),\n",
    "    # The remaining two branches on the top right\n",
    "    17: (5.5,3.2),\n",
    "    18: (6.5,2.6),\n",
    "}\n",
    "plt.figure(figsize=(7,4))\n",
    "nx.draw_networkx(yellow,\n",
    "    pos=pos,\n",
    "    node_size=350, node_color=\"#fdde57\", linewidths=1,\n",
    "    width=1\n",
    ")\n",
    "plt.axis(\"off\")\n",
    "plt.show()"
   ]
  },
  {
   "cell_type": "markdown",
   "metadata": {
    "slideshow": {
     "slide_type": "subslide"
    }
   },
   "source": [
    "Not a perfect match of the positions, but close enough to see that it is the same graph."
   ]
  },
  {
   "cell_type": "markdown",
   "metadata": {
    "slideshow": {
     "slide_type": "subslide"
    }
   },
   "source": [
    "Now, let us plot the same graph without the labels:"
   ]
  },
  {
   "cell_type": "code",
   "execution_count": null,
   "metadata": {
    "collapsed": false
   },
   "outputs": [],
   "source": [
    "plt.figure(figsize=(7,4))\n",
    "nx.draw(yellow,\n",
    "    pos=pos,\n",
    "    node_size=350, node_color=\"#fdde57\", linewidths=1,\n",
    "    width=1\n",
    ")\n",
    "plt.axis(\"off\")\n",
    "plt.show()"
   ]
  },
  {
   "cell_type": "markdown",
   "metadata": {
    "slideshow": {
     "slide_type": "subslide"
    }
   },
   "source": [
    "And now let us plot the graph in the way that the leaves remain yellow, but the rest of the nodes are white.\n",
    "\n",
    "To achieve this, we shall plot our graph in three steps:\n",
    "\n",
    "1. Draw the edges,\n",
    "\n",
    "2. Draw the leaves,\n",
    "\n",
    "3. Draw the remaining nodes."
   ]
  },
  {
   "cell_type": "code",
   "execution_count": null,
   "metadata": {
    "collapsed": false,
    "slideshow": {
     "slide_type": "subslide"
    }
   },
   "outputs": [],
   "source": [
    "plt.figure(figsize=(7,4))\n",
    "\n",
    "# Draw the edges\n",
    "nx.draw_networkx_edges(yellow,\n",
    "    pos=pos,\n",
    "    width=1\n",
    ")\n",
    "# Draw the leaves\n",
    "nx.draw_networkx_nodes(yellow,\n",
    "    pos=pos,\n",
    "    node_size=350, node_color=\"#fdde57\", linewidths=1,\n",
    "    nodelist=[node for node in yellow.nodes() if len(yellow.neighbors(node)) == 1]\n",
    ")\n",
    "# Draw the remaining nodes\n",
    "nx.draw_networkx_nodes(yellow,\n",
    "    pos=pos,\n",
    "    node_size=350, node_color=\"white\", linewidths=1,\n",
    "    nodelist=[node for node in yellow.nodes() if len(yellow.neighbors(node)) != 1]\n",
    ")\n",
    "plt.axis(\"off\")\n",
    "plt.show()"
   ]
  },
  {
   "cell_type": "markdown",
   "metadata": {
    "slideshow": {
     "slide_type": "subslide"
    }
   },
   "source": [
    "Let us draw the same, but with the labels and with the path $(10, 3, 4, 5, 14, 15)$ marked light green (*lime*):"
   ]
  },
  {
   "cell_type": "code",
   "execution_count": null,
   "metadata": {
    "collapsed": false,
    "slideshow": {
     "slide_type": "-"
    }
   },
   "outputs": [],
   "source": [
    "plt.figure(figsize=(7,4))\n",
    "\n",
    "path = [10, 3, 4, 5, 14, 15]\n",
    "\n",
    "# Draw the edges\n",
    "nx.draw_networkx_edges(yellow,\n",
    "    pos=pos,\n",
    "    width=1\n",
    ")\n",
    "# Draw the leaves\n",
    "nx.draw_networkx_nodes(yellow,\n",
    "    pos=pos,\n",
    "    node_size=450, node_color=\"#fdde57\", linewidths=1,\n",
    "    nodelist=[node for node in yellow.nodes() if len(yellow.neighbors(node)) == 1]\n",
    ")\n",
    "# Draw the remaining nodes\n",
    "nx.draw_networkx_nodes(yellow,\n",
    "    pos=pos,\n",
    "    node_size=450, node_color=\"white\", linewidths=1,\n",
    "    nodelist=[node for node in yellow.nodes() if len(yellow.neighbors(node)) != 1]\n",
    ")\n",
    "# Draw labels\n",
    "nx.draw_networkx_labels(yellow,\n",
    "    pos=pos,\n",
    ")\n",
    "\n",
    "# Draw the path nodes in light red with a \"glow\" effect\n",
    "# (actually, a \"strong\" red with a low alpha and thick lines)\n",
    "nodes = nx.draw_networkx_nodes(yellow,\n",
    "    pos=pos,\n",
    "    alpha=0.2,\n",
    "    node_size=450, node_color=\"lime\", linewidths=5,\n",
    "    nodelist=path\n",
    ")\n",
    "nodes.set_edgecolor('lime')\n",
    "nx.draw_networkx_edges(yellow,\n",
    "    pos=pos,\n",
    "    alpha=0.2, edge_color=\"lime\",\n",
    "    width=5,\n",
    "    edgelist=[ (f,t) for f,t in zip(path, path[1:])]\n",
    ")\n",
    "\n",
    "plt.axis(\"off\")\n",
    "plt.show()"
   ]
  },
  {
   "cell_type": "markdown",
   "metadata": {
    "slideshow": {
     "slide_type": "subslide"
    }
   },
   "source": [
    "**Note:** Be careful when plotting graphs in several steps, as the positions of the nodes are given randomly by some layouts (for example, the [*spring* layout](https://networkx.github.io/documentation/latest/reference/generated/networkx.drawing.layout.spring_layout.html)). For example, our above \"yellow leaves, white inner nodes, no labels\" plot, with the positions defined by the `spring_layout` function, might not look as glamourous as before:"
   ]
  },
  {
   "cell_type": "code",
   "execution_count": null,
   "metadata": {
    "collapsed": false,
    "slideshow": {
     "slide_type": "-"
    }
   },
   "outputs": [],
   "source": [
    "plt.figure(figsize=(7,4))\n",
    "\n",
    "# Draw the edges\n",
    "nx.draw_networkx_edges(yellow,\n",
    "    pos=nx.spring_layout(yellow),\n",
    "    width=1\n",
    ")\n",
    "# Draw the leaves\n",
    "nx.draw_networkx_nodes(yellow,\n",
    "    pos=nx.spring_layout(yellow),\n",
    "    node_size=350, node_color=\"#fdde57\", linewidths=1,\n",
    "    nodelist=[node for node in yellow.nodes() if len(yellow.neighbors(node)) == 1]\n",
    ")\n",
    "# Draw the remaining nodes\n",
    "nx.draw_networkx_nodes(yellow,\n",
    "    pos=nx.spring_layout(yellow),\n",
    "    node_size=350, node_color=\"white\", linewidths=1,\n",
    "    nodelist=[node for node in yellow.nodes() if len(yellow.neighbors(node)) != 1]\n",
    ")\n",
    "plt.axis(\"off\")\n",
    "plt.show()"
   ]
  },
  {
   "cell_type": "markdown",
   "metadata": {
    "slideshow": {
     "slide_type": "subslide"
    }
   },
   "source": [
    "The proper way to do this is to preserve the positions in a variable and then use it in all three calls to the `draw_networkx_*` functions:"
   ]
  },
  {
   "cell_type": "code",
   "execution_count": null,
   "metadata": {
    "collapsed": false,
    "slideshow": {
     "slide_type": "-"
    }
   },
   "outputs": [],
   "source": [
    "plt.figure(figsize=(7,4))\n",
    "\n",
    "# Define the positions via Fruchterman-Reingold force-directed algorithm\n",
    "spos = nx.spring_layout(yellow)\n",
    "\n",
    "# Draw the edges\n",
    "nx.draw_networkx_edges(yellow,\n",
    "    pos=spos,\n",
    "    width=1\n",
    ")\n",
    "# Draw the leaves\n",
    "nx.draw_networkx_nodes(yellow,\n",
    "    pos=spos,\n",
    "    node_size=350, node_color=\"#fdde57\", linewidths=1,\n",
    "    nodelist=[node for node in yellow.nodes() if len(yellow.neighbors(node)) == 1]\n",
    ")\n",
    "# Draw the remaining nodes\n",
    "nx.draw_networkx_nodes(yellow,\n",
    "    pos=spos,\n",
    "    node_size=350, node_color=\"white\", linewidths=1,\n",
    "    nodelist=[node for node in yellow.nodes() if len(yellow.neighbors(node)) != 1]\n",
    ")\n",
    "plt.axis(\"off\")\n",
    "plt.show()"
   ]
  },
  {
   "cell_type": "markdown",
   "metadata": {},
   "source": [
    "Not the prettiest sight, but at least it is correct now. <span style=\"font-size: 23px;\">☺</span>"
   ]
  },
  {
   "cell_type": "markdown",
   "metadata": {
    "slideshow": {
     "slide_type": "subslide"
    }
   },
   "source": [
    "Here is a simple display of all the available layouts in action (each one twice, to see which are randomized):"
   ]
  },
  {
   "cell_type": "code",
   "execution_count": null,
   "metadata": {
    "collapsed": false
   },
   "outputs": [],
   "source": [
    "for layout in [ nx.circular_layout, nx.random_layout,\n",
    "                nx.shell_layout, nx.spring_layout, nx.spectral_layout ]:\n",
    "    for k in range(1,3):\n",
    "\n",
    "        print(\"{} ({})\".format(layout.__name__, k))\n",
    "\n",
    "        plt.figure(figsize=(7,4))\n",
    "\n",
    "        # Define the positions via Fruchterman-Reingold force-directed algorithm\n",
    "        spos = layout(yellow)\n",
    "\n",
    "        # Draw the edges\n",
    "        nx.draw_networkx_edges(yellow,\n",
    "            pos=spos,\n",
    "            width=1\n",
    "        )\n",
    "        # Draw the leaves\n",
    "        nx.draw_networkx_nodes(yellow,\n",
    "            pos=spos,\n",
    "            node_size=350, node_color=\"#fdde57\", linewidths=1,\n",
    "            nodelist=[node for node in yellow.nodes() if len(yellow.neighbors(node)) == 1]\n",
    "        )\n",
    "        # Draw the remaining nodes\n",
    "        nx.draw_networkx_nodes(yellow,\n",
    "            pos=spos,\n",
    "            node_size=350, node_color=\"white\", linewidths=1,\n",
    "            nodelist=[node for node in yellow.nodes() if len(yellow.neighbors(node)) != 1]\n",
    "        )\n",
    "        plt.axis(\"off\")\n",
    "        plt.show()"
   ]
  },
  {
   "cell_type": "markdown",
   "metadata": {
    "slideshow": {
     "slide_type": "subslide"
    }
   },
   "source": [
    "## What more can be done?\n",
    "\n",
    "We can do a lot more:\n",
    "\n",
    "* The plots can be saved, the same way anything else in Matplotlib is saved: using the [<tt>savefig</tt>](http://matplotlib.org/api/pyplot_api.html#matplotlib.pyplot.savefig) function.\n",
    "\n",
    "* We can work with weighted and with [directed graphs](http://networkx.lanl.gov/reference/classes.digraph.html).\n",
    "\n",
    "* We can do most of the usual things that are done with graphs, using NetworkX' rich [algorithms collection](https://networkx.github.io/documentation/latest/reference/algorithms.html)."
   ]
  }
 ],
 "metadata": {
  "celltoolbar": "Slideshow"
 },
 "nbformat": 4,
 "nbformat_minor": 0
}
