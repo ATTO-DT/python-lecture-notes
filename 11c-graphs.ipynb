{
 "cells": [
  {
   "cell_type": "markdown",
   "metadata": {},
   "source": [
    "# Programming with Python (lab classes)\n",
    "#### Vedran Šego, [vsego.org](http://vsego.org/)\n",
    "\n",
    "## Content:\n",
    "\n",
    "1. Flow networks"
   ]
  },
  {
   "cell_type": "markdown",
   "metadata": {},
   "source": [
    "**Note:** Some older versions of Anaconda have an old version of NetworkX that lacks some of the functionality needed to solve the problems below. Execute this program:\n",
    "```python\n",
    "import networkx\n",
    "print(networkx.__version__)\n",
    "```\n",
    "and if it prints the version smaller than 1.9.1, uninstall your Anaconda and download and install the new version.\n",
    "\n",
    "As a quick fix, you can instead download [<tt>networkx-anaconda_patch.zip</tt>](networkx-anaconda_patch.zip) (3.1MiB) and unzip it in the same directory in which you will write the solutions for the problems below."
   ]
  },
  {
   "cell_type": "markdown",
   "metadata": {},
   "source": [
    "A [*flow network*](http://en.wikipedia.org/wiki/Flow_network) is a directed graph in which every arc (a directed edge) has a real-numbered, nonnegative *capacity*, and in which two nodes are distinguished from the others: the *source* (a node in which no arcs enter) and the *sink* (a node which no arcs leave). Here is an example of a flow:\n",
    "\n",
    "![Flow](11c-flow.png)\n",
    "\n",
    "The basic idea is to see how much of *something* can be \"sent\" through the network in a way that\n",
    "\n",
    "1. we never overflow the capacity of any of the edges, and\n",
    "\n",
    "2. each node except the source and the sink recieves and sends the same amount of *something* (i.e., nothing is retained nor created).\n",
    "\n",
    "This has a plethora of applications in modeling of electrical networks, internet traffic, public transportation, water supply networks, transportation of goods, international travel, etc.\n",
    "\n",
    "The most common questions here are:\n",
    "\n",
    "1. What is the capacity of the network, i.e., how much can we send from the source to the sink?\n",
    "\n",
    "2. What are the weak links in the network, i.e., where can we improve the network?\n",
    "\n",
    "The answer to the first one is the [maximum flow of the network](http://en.wikipedia.org/wiki/Maximum_flow_problem), while the answer to the second one is its *minimum cut* (the set of edges of the minimum total capacity that, when cut, split the graph in two or more unconnected components). Incidentally, [these two are the same](http://en.wikipedia.org/wiki/Max-flow_min-cut_theorem). For the above flow, the minimum cut is marked on the following image:\n",
    "\n",
    "![Minimum cut](11c-flow-min_cut.png)\n",
    "\n",
    "The maximum flow is simply the sum of the capacities of all the edges of the minimum cut. In our example, this is $5$.\n",
    "\n",
    "While it is nice to know *how much* we can send via network, it would also be nice to find out *how to actually achieve it*. For our problem, here is one such solution:\n",
    "\n",
    "![Maximum flow](11c-flow-max_flow.png)\n",
    "\n",
    "The numbers on the arcs now represent how much is transported through them. The function that assigns these numbers to the arcs (visualised in the above image) is called a *flow*."
   ]
  },
  {
   "cell_type": "markdown",
   "metadata": {},
   "source": [
    "**Problem 1.** Write a module with a function\n",
    "```python\n",
    "def csv2digraph(fname, encoding=\"utf8\", delimiter=\",\", has_header=True, default_capacity=1):\n",
    "```\n",
    "that reads the CSV file `fname` with the columns \"From\", \"To\", and \"Weight\", creates a [<tt>networkx.DiGraph</tt>](http://networkx.lanl.gov/reference/classes.digraph.html) with the arcs (directed edges) corresponding to that info, and returns it.\n",
    "\n",
    "If `has_header` is `True`, the first line of the file is considered a header and is skipped. In case some of the capacity data is missing or malformed (not convertible to a number), the value `default_capacity` is used instead.\n",
    "\n",
    "If something is wrong with the file, the function should raise (actually, just pass on) the appropriate [<tt>OSError</tt>](https://docs.python.org/3/library/exceptions.html#os-exceptions) exception.\n",
    "\n",
    "**Hint:** To add an arc from `node_from` to `node_to` with a capacity `cap`, use\n",
    "```python\n",
    "networkx.add_edge(node_from, node_to, capacity=cap)\n",
    "```\n",
    "Since the data from the CSV files is loaded as strings, convert the capacities to integers. Those for which this conversion failes, should be converted to floats, and -- if that fails as well -- their value should be set to `default_capacity`.\n",
    "\n",
    "**Example:** The graphs that are plotted above are defined with the following CSV file:\n",
    "```\n",
    "From,To,Weight\n",
    "01,02,2\n",
    "01,03,5\n",
    "02,04,1\n",
    "02,05,2\n",
    "03,05,2\n",
    "03,06,1\n",
    "04,07,2\n",
    "05,07,5\n",
    "05,08,2\n",
    "05,09,1\n",
    "06,10,1\n",
    "04,11,2\n",
    "06,11,5\n",
    "07,12,2\n",
    "08,12,5\n",
    "09,12,2\n",
    "10,12,3\n",
    "11,12,7\n",
    "```"
   ]
  },
  {
   "cell_type": "markdown",
   "metadata": {},
   "source": [
    "**Problem 2.** Add to the module the function `is_network(G)` that returns `True` if `G` is a [flow network](http://en.wikipedia.org/wiki/Flow_network) and `False` otherwise.\n",
    "\n",
    "You need to check that `G` has exactly one source and one sink, and that all of the capacities are convertible to floats (the `csv2digraph` function should make sure of that, but it is possible to create `G` without using that function).\n",
    "\n",
    "**Hint:** Additional functions `sources(G)`, `source(G)`, `sinks(G)`, and `sink(G)` could be useful for implementing this function and for solving the remaining problems in this document."
   ]
  },
  {
   "cell_type": "markdown",
   "metadata": {},
   "source": [
    "**Problem 3.** Add to the module the function `network_layout(G)` that returns the layout for a network-like plotting of `G` (if `G` is not a network, it should raise a custom `NotNetworkError` exception).\n",
    "\n",
    "A layout is a dictionary in which the keys are the node labels and the values are tuples of their positions (in any scale). For example, the graphs above use the following layout:\n",
    "```python\n",
    "{\n",
    "    '01': (0, 2.0),\n",
    "    '02': (1, 1.5),\n",
    "    '03': (1, 2.5),\n",
    "    '04': (2, 1.0),\n",
    "    '05': (2, 2.0),\n",
    "    '06': (2, 3.0),\n",
    "    '07': (3, 0.0),\n",
    "    '08': (3, 1.0),\n",
    "    '09': (3, 2.0),\n",
    "    '10': (3, 3.0),\n",
    "    '11': (3, 4.0),\n",
    "    '12': (4, 2.0)\n",
    "}\n",
    "```"
   ]
  },
  {
   "cell_type": "markdown",
   "metadata": {},
   "source": [
    "___\n",
    "The following problems involve plotting graphs. In order to do that more easily, find what is required (minimum cut arcs and maximum flow) and print them first to see the format of the data. Then use that data for plotting."
   ]
  },
  {
   "cell_type": "markdown",
   "metadata": {},
   "source": [
    "**Problem 4.** Write a program that inputs the name of a CSV file, creates a digraph from its data, and plots it in a manner similar to the first image above. The graph should be shown on the screen and saved to the file with the same name as the CSV file, but with the extension changed to `\"png\"`.\n",
    "\n",
    "If you make a plotting function in the module, it should always check if the graph that it gets is a network."
   ]
  },
  {
   "cell_type": "markdown",
   "metadata": {},
   "source": [
    "**Problem 5.** Write a program that inputs the name of a CSV file, creates a digraph from its data, finds its maximum flow value (how much can be sent through the network) and minimal cut, prints the former and plots the network in a manner similar to the second image above. The graph should be shown on the screen and saved to the file with the same name as the CSV file, but with the extension changed to `\"png\"`.\n",
    "\n",
    "Note that there can be more than one minimum cut (for example, in some of the graphs that have all their capacities set to the same value), so your drawing might differ from the above. However, the value of the maximum flow is unique for every flow network (as it must correspond to the total capacity of the edges in the minimum cut)."
   ]
  },
  {
   "cell_type": "markdown",
   "metadata": {},
   "source": [
    "**Problem 6.** Write a program that inputs the name of a CSV file, creates a digraph from its data, finds one of its maximum flows and plots it in a manner similar to the third image above. The graph should be shown on the screen and saved to the file with the same name as the CSV file, but with the extension changed to `\"png\"`.\n",
    "\n",
    "Note that there can be more than one maximum flow (for example, in most of the graphs that have all their capacities set to the same value), so your drawing might differ from the above."
   ]
  },
  {
   "cell_type": "markdown",
   "metadata": {},
   "source": [
    "## An additional example\n",
    "\n",
    "For the following CSV file:\n",
    "```\n",
    "From,To,Capacity\n",
    "01,02,1\n",
    "01,03,3\n",
    "01,04,5\n",
    "01,05,5\n",
    "01,06,3\n",
    "01,07,1\n",
    "02,08,1\n",
    "02,09,2\n",
    "03,09,3\n",
    "03,10,4\n",
    "04,10,5\n",
    "04,11,6\n",
    "05,11,6\n",
    "05,12,5\n",
    "06,12,4\n",
    "06,13,3\n",
    "07,13,2\n",
    "07,14,1\n",
    "08,15,2\n",
    "09,15,2\n",
    "10,15,2\n",
    "10,15,2\n",
    "11,15,2\n",
    "11,16,2\n",
    "12,15,2\n",
    "12,16,2\n",
    "13,16,2\n",
    "14,16,2\n",
    "09,16,2\n",
    "15,17,11\n",
    "16,17,11\n",
    "```\n",
    "the graphs plotted by the solutions of the above problems should look like this:\n",
    "![A flow network](11c-flow2.png)\n",
    "<div style=\"font-size: 83%; text-align: center;\">A flow network</div>\n",
    "![Minimum cut](11c-flow2-min_cut.png)\n",
    "<div style=\"font-size: 83%; text-align: center;\">A minimum cut</div>\n",
    "![Maximum flow](11c-flow2-max_flow.png)\n",
    "<div style=\"font-size: 83%; text-align: center;\">A maximum flow</div>\n",
    "The maximum flow value is $17$."
   ]
  }
 ],
 "metadata": {},
 "nbformat": 4,
 "nbformat_minor": 0
}
