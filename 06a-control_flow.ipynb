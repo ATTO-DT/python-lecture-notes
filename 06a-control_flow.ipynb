{
 "cells": [
  {
   "cell_type": "markdown",
   "metadata": {},
   "source": [
    "# Programming with Python\n",
    "#### Vedran Šego, [vsego.org](http://vsego.org/)\n",
    "\n",
    "## Contents:\n",
    "\n",
    "1. Control flow\n",
    "2. Finer control of the loops\n",
    "3. Breaking a function execution\n",
    "4. Exceptions\n",
    "5. Doing nothing\n",
    "6. Breaking out of several loops"
   ]
  },
  {
   "cell_type": "markdown",
   "metadata": {
    "slideshow": {
     "slide_type": "slide"
    }
   },
   "source": [
    "# Control flow\n",
    "\n",
    "To quote from [Wikipedia's definition of control flow](http://en.wikipedia.org/wiki/Control_flow):\n",
    "\n",
    "> In computer science, control flow (or alternatively, flow of control) refers to the order in which the individual statements, instructions or function calls of an imperative or a declarative program are executed or evaluated.\n",
    "\n",
    "We have already seen some methods of controling the flow:\n",
    "\n",
    "* loops: *repeat this part of the code as long as some condition is met*,\n",
    "* branches: *execute different parts of the code, depending on some condition(s)*,\n",
    "* functions: *execute a part of the code that is located somewhere away from the currently executed line (i.e., not immediatelly after it).*\n",
    "\n",
    "However, there are various ways to affect the flow even further, thus achieving a finer control of the execution, a simpler or a more readable code, or a better error control."
   ]
  },
  {
   "cell_type": "markdown",
   "metadata": {
    "slideshow": {
     "slide_type": "slide"
    }
   },
   "source": [
    "# Finer control of loops\n",
    "\n",
    "We have already seen loops in Python:\n",
    "```python\n",
    "for some_variable in range(arguments):\n",
    "    do_something\n",
    "```\n",
    "or\n",
    "```python\n",
    "while some_condition:\n",
    "    do_something\n",
    "```\n",
    "\n",
    "Recall that the body of the loop is executed completely, i.e., **the loop's condition gets checked only before the body's execution, not during.**\n",
    "\n",
    "So, how can we handle the following two cases **in the middle of the body** (i.e., not in the beginning or the end)?\n",
    "\n",
    "1. *If some condition is met, exit the loop.*\n",
    "2. *If some condition is met, stop executing the body and go back to the begining of the loop.*"
   ]
  },
  {
   "cell_type": "markdown",
   "metadata": {
    "slideshow": {
     "slide_type": "subslide"
    }
   },
   "source": [
    "## `break` and `continue`\n",
    "\n",
    "**Example:** Write a program that loads integers until a zero is loaded. The program has to write the sum of all the digits of all the positive loaded numbers (ignoring the negative ones)."
   ]
  },
  {
   "cell_type": "markdown",
   "metadata": {
    "slideshow": {
     "slide_type": "subslide"
    }
   },
   "source": [
    "Let us first define the function to compute the sum of the digits of a **positive** integer (to reduce the amount of typing later, as well as to make the code more readable):"
   ]
  },
  {
   "cell_type": "code",
   "execution_count": 1,
   "metadata": {
    "collapsed": false
   },
   "outputs": [],
   "source": [
    "def digitsum(n):\n",
    "    \"\"\"\n",
    "    Return the sum of the digits of `n`, which is assumed to be a positive integer.\n",
    "    \"\"\"\n",
    "    s = 0\n",
    "    while n > 0:\n",
    "        s += n % 10\n",
    "        n //= 10\n",
    "    return s"
   ]
  },
  {
   "cell_type": "markdown",
   "metadata": {
    "slideshow": {
     "slide_type": "subslide"
    }
   },
   "source": [
    "Let us now solve the problem using only what we've learned so far:"
   ]
  },
  {
   "cell_type": "code",
   "execution_count": 2,
   "metadata": {
    "collapsed": false
   },
   "outputs": [
    {
     "name": "stdout",
     "output_type": "stream",
     "text": [
      "n = 17\n"
     ]
    },
    {
     "name": "stdout",
     "output_type": "stream",
     "text": [
      "n = -17\n"
     ]
    },
    {
     "name": "stdout",
     "output_type": "stream",
     "text": [
      "n = 0\n"
     ]
    },
    {
     "name": "stdout",
     "output_type": "stream",
     "text": [
      "The sum of the digits of positive integers: 8\n"
     ]
    }
   ],
   "source": [
    "s = 0\n",
    "last = False\n",
    "while not last:\n",
    "    n = int(input(\"n = \"))\n",
    "    if n == 0:\n",
    "        last = True\n",
    "    elif n > 0:\n",
    "        s += digitsum(n)\n",
    "print(\"The sum of the digits of positive integers:\", s)"
   ]
  },
  {
   "cell_type": "markdown",
   "metadata": {
    "slideshow": {
     "slide_type": "subslide"
    }
   },
   "source": [
    "Alternatively, we could have done this:"
   ]
  },
  {
   "cell_type": "code",
   "execution_count": 3,
   "metadata": {
    "collapsed": false
   },
   "outputs": [
    {
     "name": "stdout",
     "output_type": "stream",
     "text": [
      "n = 17\n"
     ]
    },
    {
     "name": "stdout",
     "output_type": "stream",
     "text": [
      "n = -17\n"
     ]
    },
    {
     "name": "stdout",
     "output_type": "stream",
     "text": [
      "n = 0\n"
     ]
    },
    {
     "name": "stdout",
     "output_type": "stream",
     "text": [
      "The sum of the digits of positive integers: 8\n"
     ]
    }
   ],
   "source": [
    "s = 0\n",
    "n = int(input(\"n = \"))\n",
    "while n != 0:\n",
    "    if n > 0:\n",
    "        s += digitsum(n)\n",
    "    n = int(input(\"n = \"))\n",
    "print(\"The sum of the digits of positive integers:\", s)"
   ]
  },
  {
   "cell_type": "markdown",
   "metadata": {
    "slideshow": {
     "slide_type": "subslide"
    }
   },
   "source": [
    "Notice that each of these simple examples is clumsy:\n",
    "\n",
    "* The first solution uses an extra variable `last` and has most of the body wrapped in an `if` or `else` block.\n",
    "\n",
    "* The second solution also has most of the body wrapped in an `if` or `else` block.  \n",
    "  Further, the body is badly organized: it first handles some `n` loaded before and then loads a new version of `n` (which naturally belongs to the next run of the body).\n",
    "\n",
    "These may not seem like big issues, but do remember that this is just a simple example. Literally every part of the above code can be more complex:\n",
    "\n",
    "* `input` could have been some complex data gathering (i.e., from the internet). Notice that, in the second case, we would either need to copy such a more complex loading twice in the code, or create a separate function (which could be messy if there is a big number of arguments to pass to such a function).\n",
    "\n",
    "* The conditions `n != 0` and `n > 0` could have been far more complex (for example, some data analysis).\n",
    "\n",
    "* We may have encountered far more than just two simple conditions, which could have easily lead to very deep indentation (`if` inside `if` inside `if` inside...).\n",
    "\n",
    "So how to do it better?"
   ]
  },
  {
   "cell_type": "markdown",
   "metadata": {
    "slideshow": {
     "slide_type": "subslide"
    }
   },
   "source": [
    "### A better way\n",
    "\n",
    "Let us write the algorithm in English:\n",
    "\n",
    "> Load numbers until you load a zero.  \n",
    "> Ignore each negative loaded number `n`.  \n",
    "> For positive `n` compute the sum of its digits and add it to the global sum. \n",
    "> Print the solution."
   ]
  },
  {
   "cell_type": "markdown",
   "metadata": {
    "slideshow": {
     "slide_type": "subslide"
    }
   },
   "source": [
    "Let us now rewrite it a bit (but still in English), to better resemble a program structure:\n",
    "\n",
    "> Repeat this:\n",
    "\n",
    ">> Load `n`.  \n",
    ">> If `n == 0`, **break** this loop.  \n",
    ">> If `n < 0`, **continue** this loop (i.e., skip the rest of the body and go back to loading a number).  \n",
    ">> Increase `s` by the sum of digits of `n`.\n",
    "\n",
    "> Print `s`."
   ]
  },
  {
   "cell_type": "markdown",
   "metadata": {
    "slideshow": {
     "slide_type": "subslide"
    }
   },
   "source": [
    "Python has statements `break` and `continue` that behave exactly the way our \"English code\" expects them to:\n",
    "\n",
    "* `break` -- break the loop (i.e., continue the execution on the first command **after** the loop's body),\n",
    "\n",
    "* `continue` -- stop the current execution of the body, but don't exit the loop (i.e., continue the execution on the **loop's header**).\n",
    "\n",
    "The only question is how to handle \"repeat this\". Notice that this is equivalent to \"repeat this unconditionally\", which in Python is written as\n",
    "\n",
    "```python\n",
    "while True:\n",
    "    ...\n",
    "```"
   ]
  },
  {
   "cell_type": "markdown",
   "metadata": {
    "slideshow": {
     "slide_type": "subslide"
    }
   },
   "source": [
    "### The Python code\n",
    "\n",
    "We are now ready to write the program neatly:"
   ]
  },
  {
   "cell_type": "code",
   "execution_count": 4,
   "metadata": {
    "collapsed": false,
    "slideshow": {
     "slide_type": "-"
    }
   },
   "outputs": [
    {
     "name": "stdout",
     "output_type": "stream",
     "text": [
      "n = 17\n"
     ]
    },
    {
     "name": "stdout",
     "output_type": "stream",
     "text": [
      "n = -17\n"
     ]
    },
    {
     "name": "stdout",
     "output_type": "stream",
     "text": [
      "n = 0\n"
     ]
    },
    {
     "name": "stdout",
     "output_type": "stream",
     "text": [
      "The sum of the digits of positive integers: 8\n"
     ]
    }
   ],
   "source": [
    "s = 0\n",
    "while True:\n",
    "    n = int(input(\"n = \"))\n",
    "    if n == 0:\n",
    "        break\n",
    "    if n < 0:\n",
    "        continue\n",
    "    s += digitsum(n)\n",
    "print(\"The sum of the digits of positive integers:\", s)"
   ]
  },
  {
   "cell_type": "markdown",
   "metadata": {
    "slideshow": {
     "slide_type": "subslide"
    }
   },
   "source": [
    "Observe how the code is now naturally organized and easy to read:\n",
    "\n",
    "1. `while True`, a so called *infinite loop*, tells us that the execution will be terminated somewhere in the body, most likely depending on the input. This means that the final input will **probably** be ignored. Otherwise, we'd break the loop after the body's execution, i.e., using an appropriate loop condition.\n",
    "\n",
    "2. The first thing we do in the body is load the data that will be processed in that execution of the body.\n",
    "\n",
    "3. We have some condition that leads to `break`ing, which means that this is the condition to stop.  \n",
    "   If we had more than one such condition, we could have easily written\n",
    "   ```python\n",
    "   if condition1:\n",
    "       break\n",
    "   if condition2:\n",
    "       break\n",
    "   ...\n",
    "   ```\n",
    "   which would be a very easy to read sequance of obviously breaking conditions."
   ]
  },
  {
   "cell_type": "markdown",
   "metadata": {
    "slideshow": {
     "slide_type": "subslide"
    }
   },
   "source": [
    "## Remarks\n",
    "\n",
    "* `break` and `continue` exist in most of the modern languages (including Python 2) and have the same functionality.\n",
    "\n",
    "* \"Infinite\" loops are not directly related to either `break` or `continue`.  \n",
    "  However, remember the (somewhat informal) definition of an algorithm:  \n",
    "> A **sequence** of actions that are always executed in a <span style=\"color: red;\">**finite** number of steps</span>, used to solve a certain problem.\n",
    "\n",
    "  It is very important to **always terminate your loops**, be it via their conditions or a `break` statement or some other breaking technique.\n",
    "\n",
    "* The `break` and `continue` affect the innermost loop. In other words, in the following code\n",
    "  ```python\n",
    "  while condition1:\n",
    "      ...\n",
    "      while condition2:\n",
    "          ...\n",
    "          if condition3:\n",
    "              break\n",
    "          ... # this is skipped by break\n",
    "      ... # break \"jumps\" here\n",
    "  ... # not here\n",
    "  ```\n",
    "  the `break` statement will break only the inner `while` loop (the one with a condition `condition2`).\n",
    "\n",
    "* The `break` and `continue` have no meaning outside of the loops (for example, in an `if` block that is not inside of some loop). Using them there will cause a syntax error (*SyntaxError: 'break' outside loop*) as soon as you try to run your program. Even this will not work:"
   ]
  },
  {
   "cell_type": "code",
   "execution_count": 5,
   "metadata": {
    "collapsed": false
   },
   "outputs": [
    {
     "ename": "SyntaxError",
     "evalue": "'break' outside loop (<ipython-input-5-248c41f8ba9d>, line 2)",
     "output_type": "error",
     "traceback": [
      "\u001b[1;36m  File \u001b[1;32m\"<ipython-input-5-248c41f8ba9d>\"\u001b[1;36m, line \u001b[1;32m2\u001b[0m\n\u001b[1;33m    break\u001b[0m\n\u001b[1;37m    ^\u001b[0m\n\u001b[1;31mSyntaxError\u001b[0m\u001b[1;31m:\u001b[0m 'break' outside loop\n"
     ]
    }
   ],
   "source": [
    "def f():\n",
    "    break\n",
    "\n",
    "for i in range(17):\n",
    "    f()"
   ]
  },
  {
   "cell_type": "markdown",
   "metadata": {
    "slideshow": {
     "slide_type": "subslide"
    }
   },
   "source": [
    "### Loading a list\n",
    "\n",
    "We had this example two weeks ago:\n",
    "\n",
    "> **Example:** Input integers until $-17$ is loaded, then print them all (**except** $-17$) sorted descendingly.\n",
    "\n",
    "This was the solution:"
   ]
  },
  {
   "cell_type": "code",
   "execution_count": 6,
   "metadata": {
    "collapsed": false
   },
   "outputs": [
    {
     "name": "stdout",
     "output_type": "stream",
     "text": [
      "Please type an integer: 17\n"
     ]
    },
    {
     "name": "stdout",
     "output_type": "stream",
     "text": [
      "Please type an integer: 19\n"
     ]
    },
    {
     "name": "stdout",
     "output_type": "stream",
     "text": [
      "Please type an integer: 13\n"
     ]
    },
    {
     "name": "stdout",
     "output_type": "stream",
     "text": [
      "Please type an integer: -17\n"
     ]
    },
    {
     "name": "stdout",
     "output_type": "stream",
     "text": [
      "The sorted list: [19, 17, 13]\n"
     ]
    }
   ],
   "source": [
    "lst = list()  # Create an empty list\n",
    "not_done = True\n",
    "while not_done:\n",
    "    x = int(input(\"Please type an integer: \"))\n",
    "    if x == -17:\n",
    "        not_done = False\n",
    "    else:\n",
    "        lst.append(x)\n",
    "print(\"The sorted list:\", sorted(lst, reverse=True))"
   ]
  },
  {
   "cell_type": "markdown",
   "metadata": {
    "slideshow": {
     "slide_type": "subslide"
    }
   },
   "source": [
    "However, using a `break` is much more natural here:"
   ]
  },
  {
   "cell_type": "code",
   "execution_count": 7,
   "metadata": {
    "collapsed": false
   },
   "outputs": [
    {
     "name": "stdout",
     "output_type": "stream",
     "text": [
      "Please type an integer: 17\n"
     ]
    },
    {
     "name": "stdout",
     "output_type": "stream",
     "text": [
      "Please type an integer: 19\n"
     ]
    },
    {
     "name": "stdout",
     "output_type": "stream",
     "text": [
      "Please type an integer: 13\n"
     ]
    },
    {
     "name": "stdout",
     "output_type": "stream",
     "text": [
      "Please type an integer: -17\n"
     ]
    },
    {
     "name": "stdout",
     "output_type": "stream",
     "text": [
      "The sorted list: [19, 17, 13]\n"
     ]
    }
   ],
   "source": [
    "lst = list()  # Create an empty list\n",
    "while True:\n",
    "    x = int(input(\"Please type an integer: \"))\n",
    "    if x == -17:\n",
    "        break\n",
    "    lst.append(x)\n",
    "print(\"The sorted list:\", sorted(lst, reverse=True))"
   ]
  },
  {
   "cell_type": "markdown",
   "metadata": {
    "slideshow": {
     "slide_type": "subslide"
    }
   },
   "source": [
    "Similarly, if we want to **keep** $-17$ in the list, we just append the new number **before** checking if the loop should stop:"
   ]
  },
  {
   "cell_type": "code",
   "execution_count": 8,
   "metadata": {
    "collapsed": false
   },
   "outputs": [
    {
     "name": "stdout",
     "output_type": "stream",
     "text": [
      "Please type an integer: 17\n"
     ]
    },
    {
     "name": "stdout",
     "output_type": "stream",
     "text": [
      "Please type an integer: 19\n"
     ]
    },
    {
     "name": "stdout",
     "output_type": "stream",
     "text": [
      "Please type an integer: 13\n"
     ]
    },
    {
     "name": "stdout",
     "output_type": "stream",
     "text": [
      "Please type an integer: -17\n"
     ]
    },
    {
     "name": "stdout",
     "output_type": "stream",
     "text": [
      "The sorted list: [19, 17, 13, -17]\n"
     ]
    }
   ],
   "source": [
    "lst = list()  # Create an empty list\n",
    "while True:\n",
    "    x = int(input(\"Please type an integer: \"))\n",
    "    lst.append(x)\n",
    "    if x == -17:\n",
    "        break\n",
    "print(\"The sorted list:\", sorted(lst, reverse=True))"
   ]
  },
  {
   "cell_type": "markdown",
   "metadata": {
    "slideshow": {
     "slide_type": "subslide"
    }
   },
   "source": [
    "### Using `else` with loops\n",
    "\n",
    "As we have mentioned before, it is possible to use `else` in conjuction with loops in Python.\n",
    "\n",
    "The body of a loop's `else` is executed if the loop was **not terminated by a `break` statement** (but by its condition).\n",
    "\n",
    "Observe the following example (try running it twice: once with loading a zero, and once with loading a negative number):"
   ]
  },
  {
   "cell_type": "code",
   "execution_count": 9,
   "metadata": {
    "collapsed": false
   },
   "outputs": [
    {
     "name": "stdout",
     "output_type": "stream",
     "text": [
      "n = -17\n"
     ]
    },
    {
     "name": "stdout",
     "output_type": "stream",
     "text": [
      "The loop was terminated with a negative number (not a zero!).\n"
     ]
    }
   ],
   "source": [
    "n = 17\n",
    "while n > 0:\n",
    "    n = int(input(\"n = \"))\n",
    "    if n == 0:\n",
    "        break\n",
    "else:\n",
    "    print(\"The loop was terminated with a negative number (not a zero!).\")"
   ]
  },
  {
   "cell_type": "markdown",
   "metadata": {
    "slideshow": {
     "slide_type": "subslide"
    }
   },
   "source": [
    "**Warning:** If you use this, be careful with your indentation! The above is **not** the same as"
   ]
  },
  {
   "cell_type": "code",
   "execution_count": 10,
   "metadata": {
    "collapsed": false
   },
   "outputs": [
    {
     "name": "stdout",
     "output_type": "stream",
     "text": [
      "n = 17\n"
     ]
    },
    {
     "name": "stdout",
     "output_type": "stream",
     "text": [
      "The loop was terminated with a negative number (not a zero!).\n"
     ]
    },
    {
     "name": "stdout",
     "output_type": "stream",
     "text": [
      "n = 19\n"
     ]
    },
    {
     "name": "stdout",
     "output_type": "stream",
     "text": [
      "The loop was terminated with a negative number (not a zero!).\n"
     ]
    },
    {
     "name": "stdout",
     "output_type": "stream",
     "text": [
      "n = -17\n"
     ]
    },
    {
     "name": "stdout",
     "output_type": "stream",
     "text": [
      "The loop was terminated with a negative number (not a zero!).\n"
     ]
    }
   ],
   "source": [
    "n = 17\n",
    "while n > 0:\n",
    "    n = int(input(\"n = \"))\n",
    "    if n == 0:\n",
    "        break\n",
    "    else:\n",
    "        print(\"The loop was terminated with a negative number (not a zero!).\")"
   ]
  },
  {
   "cell_type": "markdown",
   "metadata": {
    "slideshow": {
     "slide_type": "slide"
    }
   },
   "source": [
    "# Breaking a function execution\n",
    "\n",
    "This one we already know, but it is worth mentioning it here as well:\n",
    "\n",
    "> `return` returns a value from the function, but it also **immediatelly terminates the function's execution**.\n",
    "\n",
    "This makes it very convenient to do various tasks without using some extra variables. Let us observe an example:"
   ]
  },
  {
   "cell_type": "code",
   "execution_count": 11,
   "metadata": {
    "collapsed": false
   },
   "outputs": [
    {
     "name": "stdout",
     "output_type": "stream",
     "text": [
      "n = 26\n"
     ]
    },
    {
     "name": "stdout",
     "output_type": "stream",
     "text": [
      "The number 26 is not a prime.\n"
     ]
    }
   ],
   "source": [
    "n = int(input(\"n = \"))\n",
    "if n < 2:\n",
    "    is_prime = False\n",
    "else:\n",
    "    is_prime = True\n",
    "if is_prime:\n",
    "    for d in range(2, n):\n",
    "        if n % d == 0:\n",
    "            is_prime = False\n",
    "            break\n",
    "if is_prime:\n",
    "    print(\"The number\", n, \"is a prime.\")\n",
    "else:\n",
    "    print(\"The number\", n, \"is not a prime.\")"
   ]
  },
  {
   "cell_type": "markdown",
   "metadata": {
    "slideshow": {
     "slide_type": "subslide"
    }
   },
   "source": [
    "A somewhat shorter (albeit a bit more cryptic) version:"
   ]
  },
  {
   "cell_type": "code",
   "execution_count": 12,
   "metadata": {
    "collapsed": false
   },
   "outputs": [
    {
     "name": "stdout",
     "output_type": "stream",
     "text": [
      "n = 26\n"
     ]
    },
    {
     "name": "stdout",
     "output_type": "stream",
     "text": [
      "The number 26 is not a prime.\n"
     ]
    }
   ],
   "source": [
    "n = int(input(\"n = \"))\n",
    "is_prime = (n >= 2)\n",
    "if is_prime:\n",
    "    for d in range(2, n):\n",
    "        if n % d == 0:\n",
    "            is_prime = False\n",
    "            break\n",
    "if is_prime:\n",
    "    print(\"The number\", n, \"is a prime.\")\n",
    "else:\n",
    "    print(\"The number\", n, \"is not a prime.\")"
   ]
  },
  {
   "cell_type": "markdown",
   "metadata": {
    "slideshow": {
     "slide_type": "subslide"
    }
   },
   "source": [
    "Let us now observe how this can be done with a function:"
   ]
  },
  {
   "cell_type": "code",
   "execution_count": 13,
   "metadata": {
    "collapsed": false
   },
   "outputs": [
    {
     "name": "stdout",
     "output_type": "stream",
     "text": [
      "Input an integer: 26\n"
     ]
    },
    {
     "name": "stdout",
     "output_type": "stream",
     "text": [
      "The number 26 is not a prime.\n"
     ]
    }
   ],
   "source": [
    "def is_prime(n):\n",
    "    \"\"\"\n",
    "    Return True if `n` is a prime; False otherwise.\n",
    "    \"\"\"\n",
    "\n",
    "    if n < 2: return False\n",
    "\n",
    "    for d in range(2, n):\n",
    "        if n % d == 0:\n",
    "            return False\n",
    "\n",
    "    return True\n",
    "\n",
    "n = int(input(\"Input an integer: \"))\n",
    "if is_prime(n):\n",
    "    print(\"The number\", n, \"is a prime.\")\n",
    "else:\n",
    "    print(\"The number\", n, \"is not a prime.\")"
   ]
  },
  {
   "cell_type": "markdown",
   "metadata": {
    "slideshow": {
     "slide_type": "subslide"
    }
   },
   "source": [
    "Observe the natural organization of the function code:\n",
    "\n",
    "1. If `n < 2`, we know that `n` is not a prime, so **stop analyzing it** and just return `False`.\n",
    "\n",
    "2. Check the potential divisors ($2, 3, \\dots, n-1$). If any of them divides `n`, we have found out that `n` is not a prime, so **stop analyzing it** and just return `False`.\n",
    "\n",
    "3. After the loop, if we are still here, that means that we found no divisors (otherwise, the `return` in the loop would stop the function's execution), which means that the number is a prime, so return `True`."
   ]
  },
  {
   "cell_type": "markdown",
   "metadata": {
    "slideshow": {
     "slide_type": "subslide"
    }
   },
   "source": [
    "**Note:** A more Pythonic way to do the above would be:"
   ]
  },
  {
   "cell_type": "code",
   "execution_count": 14,
   "metadata": {
    "collapsed": false
   },
   "outputs": [
    {
     "name": "stdout",
     "output_type": "stream",
     "text": [
      "Input an integer: 26\n"
     ]
    },
    {
     "name": "stdout",
     "output_type": "stream",
     "text": [
      "The number 26 is not a prime.\n"
     ]
    }
   ],
   "source": [
    "def is_prime(n):\n",
    "    \"\"\"\n",
    "    Return True if `n` is a prime; False otherwise.\n",
    "    \"\"\"\n",
    "    return (n > 1) and all(n % d > 0 for d in range(2, n))\n",
    "\n",
    "n = int(input(\"Input an integer: \"))\n",
    "if is_prime(n):\n",
    "    print(\"The number\", n, \"is a prime.\")\n",
    "else:\n",
    "    print(\"The number\", n, \"is not a prime.\")"
   ]
  },
  {
   "cell_type": "markdown",
   "metadata": {
    "slideshow": {
     "slide_type": "slide"
    }
   },
   "source": [
    "# Exceptions\n",
    "\n",
    "We have seen how to break loops and how to break functions. In those terms, exceptions could be regarded as *break anything (no matter how deep)*.\n",
    "\n",
    "The basic use of exceptions, written in plain English, is like this:\n",
    "\n",
    "> Do this:\n",
    "\n",
    ">> Some work (may include loops, function calls, more exceptions,... anything!)\n",
    "\n",
    "> If something \"unexpected\" happened,\n",
    "\n",
    ">> Handle it like this.\n",
    "\n",
    "The simpliest example of an exception is a division by zero. See what happens if you try to do it in the following simple program that loads `a` and `b` and computes $\\sqrt{a/b}$."
   ]
  },
  {
   "cell_type": "code",
   "execution_count": 15,
   "metadata": {
    "collapsed": false
   },
   "outputs": [
    {
     "name": "stdout",
     "output_type": "stream",
     "text": [
      "a = 1\n"
     ]
    },
    {
     "name": "stdout",
     "output_type": "stream",
     "text": [
      "b = 0\n"
     ]
    },
    {
     "ename": "ZeroDivisionError",
     "evalue": "float division by zero",
     "output_type": "error",
     "traceback": [
      "\u001b[1;31m---------------------------------------------------------------------------\u001b[0m\n\u001b[1;31mZeroDivisionError\u001b[0m                         Traceback (most recent call last)",
      "\u001b[1;32m<ipython-input-15-d4bcbb23fd21>\u001b[0m in \u001b[0;36m<module>\u001b[1;34m()\u001b[0m\n\u001b[0;32m      2\u001b[0m \u001b[0ma\u001b[0m \u001b[1;33m=\u001b[0m \u001b[0mfloat\u001b[0m\u001b[1;33m(\u001b[0m\u001b[0minput\u001b[0m\u001b[1;33m(\u001b[0m\u001b[1;34m\"a = \"\u001b[0m\u001b[1;33m)\u001b[0m\u001b[1;33m)\u001b[0m\u001b[1;33m\u001b[0m\u001b[0m\n\u001b[0;32m      3\u001b[0m \u001b[0mb\u001b[0m \u001b[1;33m=\u001b[0m \u001b[0mfloat\u001b[0m\u001b[1;33m(\u001b[0m\u001b[0minput\u001b[0m\u001b[1;33m(\u001b[0m\u001b[1;34m\"b = \"\u001b[0m\u001b[1;33m)\u001b[0m\u001b[1;33m)\u001b[0m\u001b[1;33m\u001b[0m\u001b[0m\n\u001b[1;32m----> 4\u001b[1;33m \u001b[0mprint\u001b[0m\u001b[1;33m(\u001b[0m\u001b[1;34m\"sqrt({} / {}) = {}\"\u001b[0m\u001b[1;33m.\u001b[0m\u001b[0mformat\u001b[0m\u001b[1;33m(\u001b[0m\u001b[0ma\u001b[0m\u001b[1;33m,\u001b[0m \u001b[0mb\u001b[0m\u001b[1;33m,\u001b[0m \u001b[0msqrt\u001b[0m\u001b[1;33m(\u001b[0m\u001b[0ma\u001b[0m\u001b[1;33m/\u001b[0m\u001b[0mb\u001b[0m\u001b[1;33m)\u001b[0m\u001b[1;33m)\u001b[0m\u001b[1;33m)\u001b[0m\u001b[1;33m\u001b[0m\u001b[0m\n\u001b[0m",
      "\u001b[1;31mZeroDivisionError\u001b[0m: float division by zero"
     ]
    }
   ],
   "source": [
    "from math import sqrt\n",
    "a = float(input(\"a = \"))\n",
    "b = float(input(\"b = \"))\n",
    "print(\"sqrt({} / {}) = {}\".format(a, b, sqrt(a/b)))"
   ]
  },
  {
   "cell_type": "markdown",
   "metadata": {
    "slideshow": {
     "slide_type": "subslide"
    }
   },
   "source": [
    "Notice the last line?\n",
    "\n",
    "    ZeroDivisionError: float division by zero\n",
    "\n",
    "This is an unhandled exception. What happened is that `a/b` produced an error which then exits the current block of execution (be it `if`, `for`, a function,...), then the one that's surrounding it, and so on, until it is either handled or it exists the program.\n",
    "\n",
    "Since we didn't handle that exception, the program was terminated, with a rather ugly (but informative!) message.\n",
    "\n",
    "See what happens when we handle an exception:"
   ]
  },
  {
   "cell_type": "code",
   "execution_count": 16,
   "metadata": {
    "collapsed": false,
    "slideshow": {
     "slide_type": "-"
    }
   },
   "outputs": [
    {
     "name": "stdout",
     "output_type": "stream",
     "text": [
      "a = 1\n"
     ]
    },
    {
     "name": "stdout",
     "output_type": "stream",
     "text": [
      "b = 0\n"
     ]
    },
    {
     "name": "stdout",
     "output_type": "stream",
     "text": [
      "Your a and/or b are wrong.\n"
     ]
    }
   ],
   "source": [
    "from math import sqrt\n",
    "try:\n",
    "    a = float(input(\"a = \"))\n",
    "    b = float(input(\"b = \"))\n",
    "    print(\"sqrt({} / {}) = {}\".format(a, b, sqrt(a/b)))\n",
    "except Exception:\n",
    "    print(\"Your a and/or b are wrong.\")"
   ]
  },
  {
   "cell_type": "markdown",
   "metadata": {
    "slideshow": {
     "slide_type": "subslide"
    }
   },
   "source": [
    "It is possible to make a general `exception` block that catches all the exceptions:\n",
    "\n",
    "```python\n",
    "try:\n",
    "    ...\n",
    "except:\n",
    "    ...\n",
    "```\n",
    "\n",
    "However, **never do that**, as it masks the errors you did not anticipate and disables breaking the program with `Ctrl+C` and similar mechanisms.\n",
    "\n",
    "At minimum, use `except Exception`. However, it is much better to catch more specific exception(s) when possible."
   ]
  },
  {
   "cell_type": "markdown",
   "metadata": {
    "slideshow": {
     "slide_type": "subslide"
    }
   },
   "source": [
    "## Distinguishing between different exceptions\n",
    "\n",
    "Notice how both `(a,b) = (1,0)` and `(a,b) = (-1,1)` will give you the same error (that *your a and/or b are wrong*), even though these are different errors: the first input causes the divison by zero, while the second one contains the real square root of a negative number. So, how do we distinguish between these two?"
   ]
  },
  {
   "cell_type": "markdown",
   "metadata": {
    "slideshow": {
     "slide_type": "subslide"
    }
   },
   "source": [
    "Notice the `ZeroDivisionError` above? This is the name of the exception that has happened. We can specify it, so that our `try...except` block handles exactly this error (while leaving all other errors unhandled):"
   ]
  },
  {
   "cell_type": "code",
   "execution_count": 17,
   "metadata": {
    "collapsed": false
   },
   "outputs": [
    {
     "name": "stdout",
     "output_type": "stream",
     "text": [
      "a = 1\n"
     ]
    },
    {
     "name": "stdout",
     "output_type": "stream",
     "text": [
      "b = 0\n"
     ]
    },
    {
     "name": "stdout",
     "output_type": "stream",
     "text": [
      "Division by zero.\n"
     ]
    }
   ],
   "source": [
    "from math import sqrt\n",
    "try:\n",
    "    a = float(input(\"a = \"))\n",
    "    b = float(input(\"b = \"))\n",
    "    print(\"sqrt({} / {}) = {}\".format(a, b, sqrt(a/b)))\n",
    "except ZeroDivisionError:\n",
    "    print(\"Division by zero.\")"
   ]
  },
  {
   "cell_type": "markdown",
   "metadata": {
    "slideshow": {
     "slide_type": "subslide"
    }
   },
   "source": [
    "What happens if you load `(a,b) = (-1,1)` in the above code?"
   ]
  },
  {
   "cell_type": "markdown",
   "metadata": {
    "slideshow": {
     "slide_type": "subslide"
    }
   },
   "source": [
    "To handle more than one exception, we can just add more `except` blocks (using the names of the appropriate exceptions):"
   ]
  },
  {
   "cell_type": "code",
   "execution_count": 18,
   "metadata": {
    "collapsed": false
   },
   "outputs": [
    {
     "name": "stdout",
     "output_type": "stream",
     "text": [
      "a = -1\n"
     ]
    },
    {
     "name": "stdout",
     "output_type": "stream",
     "text": [
      "b = 1\n"
     ]
    },
    {
     "name": "stdout",
     "output_type": "stream",
     "text": [
      "a/b does not have a real square root!\n"
     ]
    }
   ],
   "source": [
    "from math import sqrt\n",
    "try:\n",
    "    a = float(input(\"a = \"))\n",
    "    b = float(input(\"b = \"))\n",
    "    print(\"sqrt({} / {}) = {}\".format(a, b, sqrt(a/b)))\n",
    "except ZeroDivisionError:\n",
    "    print(\"Division by zero.\")\n",
    "except ValueError:\n",
    "    print(\"a/b does not have a real square root!\")"
   ]
  },
  {
   "cell_type": "markdown",
   "metadata": {
    "slideshow": {
     "slide_type": "subslide"
    }
   },
   "source": [
    "### Remark: complex arithmetic in Python\n",
    "\n",
    "Pyhton can do complex arithmetic:"
   ]
  },
  {
   "cell_type": "code",
   "execution_count": 19,
   "metadata": {
    "collapsed": false
   },
   "outputs": [
    {
     "name": "stdout",
     "output_type": "stream",
     "text": [
      "a = -1\n"
     ]
    },
    {
     "name": "stdout",
     "output_type": "stream",
     "text": [
      "b = 1\n"
     ]
    },
    {
     "name": "stdout",
     "output_type": "stream",
     "text": [
      "sqrt(-1.0 / 1.0) = 1.0i\n"
     ]
    }
   ],
   "source": [
    "from cmath import sqrt\n",
    "try:\n",
    "    a = float(input(\"a = \"))\n",
    "    b = float(input(\"b = \"))\n",
    "    result = sqrt(a/b)\n",
    "    if result.imag > 0:\n",
    "        print(\"sqrt({} / {}) = {}i\".format(a, b, result.imag))\n",
    "    else:\n",
    "        print(\"sqrt({} / {}) = {}\".format(a, b, result.real))\n",
    "except ZeroDivisionError:\n",
    "    print(\"Division by zero.\")\n",
    "except ValueError:\n",
    "    print(\"a/b does not have a square root!\")"
   ]
  },
  {
   "cell_type": "markdown",
   "metadata": {},
   "source": [
    "Note the following two details:\n",
    "\n",
    "1. The imaginary unit in Python is displayed as `j` (instead of `i`), which is the reason why we handled the two cases ourselves instead of directly printing the result.\n",
    "\n",
    "2. The `except ValueError` block in the above code is useless, as there is no input that can cause a `ValueError` with a complex square root."
   ]
  },
  {
   "cell_type": "markdown",
   "metadata": {
    "slideshow": {
     "slide_type": "subslide"
    }
   },
   "source": [
    "## `else` = \"all is fine\"\n",
    "\n",
    "A `try...except` block can also have an `else` part. This one is executed if no exception has happened in the `try` block. For example:"
   ]
  },
  {
   "cell_type": "code",
   "execution_count": 20,
   "metadata": {
    "collapsed": false
   },
   "outputs": [
    {
     "name": "stdout",
     "output_type": "stream",
     "text": [
      "a = 17\n"
     ]
    },
    {
     "name": "stdout",
     "output_type": "stream",
     "text": [
      "b = 19\n"
     ]
    },
    {
     "name": "stdout",
     "output_type": "stream",
     "text": [
      "sqrt(17.0 / 19.0) = 0.9459053029269173\n"
     ]
    }
   ],
   "source": [
    "from math import sqrt\n",
    "try:\n",
    "    a = float(input(\"a = \"))\n",
    "    b = float(input(\"b = \"))\n",
    "    result = sqrt(a/b)\n",
    "except ZeroDivisionError:\n",
    "    print(\"Division by zero.\")\n",
    "except ValueError:\n",
    "    print(\"a/b does not have a square root!\")\n",
    "else:\n",
    "    print(\"sqrt({} / {}) = {}\".format(a, b, result))"
   ]
  },
  {
   "cell_type": "markdown",
   "metadata": {},
   "source": [
    "This is very similar to the previuous code (the last one without an `else` part). Can you spot in what way do the two codes differ in their behaviour?"
   ]
  },
  {
   "cell_type": "markdown",
   "metadata": {
    "slideshow": {
     "slide_type": "subslide"
    }
   },
   "source": [
    "## A more lively example\n",
    "\n",
    "In the above example, we could have easily make it work without using exceptions:"
   ]
  },
  {
   "cell_type": "code",
   "execution_count": 21,
   "metadata": {
    "collapsed": false
   },
   "outputs": [
    {
     "name": "stdout",
     "output_type": "stream",
     "text": [
      "a = 17\n"
     ]
    },
    {
     "name": "stdout",
     "output_type": "stream",
     "text": [
      "b = 19\n"
     ]
    },
    {
     "name": "stdout",
     "output_type": "stream",
     "text": [
      "sqrt(17.0 / 19.0) = 0.9459053029269173\n"
     ]
    }
   ],
   "source": [
    "from math import sqrt\n",
    "\n",
    "a = float(input(\"a = \"))\n",
    "b = float(input(\"b = \"))\n",
    "\n",
    "if b == 0:\n",
    "    print(\"Division by zero.\")\n",
    "else:\n",
    "    result1 = a/b\n",
    "    if result1 < 0:\n",
    "        print(\"a/b does not have a real square root!\")\n",
    "    else:\n",
    "        result2 = sqrt(result1)\n",
    "        print(\"sqrt({} / {}) = {}\".format(a, b, result2))"
   ]
  },
  {
   "cell_type": "markdown",
   "metadata": {},
   "source": [
    "Obviously, the code is not very nice. A few more checks, and the indentation would get quite messy. Notice that there is an easy way around that by using a function (how?)."
   ]
  },
  {
   "cell_type": "markdown",
   "metadata": {
    "slideshow": {
     "slide_type": "subslide"
    }
   },
   "source": [
    "However, while the above code just got a bit \"uglier\" without exceptions, it is far more often that it would be much harder or even impossible to go without them. Consider the following, trivial yet very real example:\n",
    "\n",
    "> Make sure that the user inputs proper real numbers. If they don't, do not crash the program, but warn the user and ask them to try again."
   ]
  },
  {
   "cell_type": "markdown",
   "metadata": {
    "slideshow": {
     "slide_type": "subslide"
    }
   },
   "source": [
    "One way to deal with this problem is:\n",
    "\n",
    "> Load a string with `s = input()` and then check if `s` contains a real number. If it does, convert it with `x = float(s)`; otherwise, report an error and go back to the input.\n",
    "\n",
    "This seems simple enough. However, **the user's input is never to be trusted.** It can contain anything that is possible to type on the keyboard (and much, much more!), due to typos, errors, malicious intent, or some other reason.\n",
    "\n",
    "If you try to write a code that will check if the input contains a valid \"real\" number, you'll see that it's not an easy thing to do (it gets easier with [regular expressions](https://docs.python.org/3/library/re.html), but it's still not trivial). Here is what you'd have to consider:\n",
    "\n",
    "* ignoring leading and trailing whitespaces (spaces, new lines, tabs,...),\n",
    "* negative and positive numbers (with or without the prefixed `+`),\n",
    "* with at most one decimal point (including without any),\n",
    "* decimal (example: `-17.19`) and scientific (example: `-1.719e1`) format, with or without the exponent's sign.\n",
    "\n",
    "So, while checking that the string `\"-17.19\"` can be converted to a (real) number seems easy, doing the same for `\" \\n \\t -1.719e+1\\f\"`, while still disallowing any illegal inputs (like, for example, `\" \\n \\t -1.719e+1\\f1\"` or `\"1719e1.1\"`), is much harder.\n",
    "\n",
    "And all of this for just a simple input of a single real number!"
   ]
  },
  {
   "cell_type": "markdown",
   "metadata": {
    "slideshow": {
     "slide_type": "subslide"
    }
   },
   "source": [
    "Using the exceptions, this gets trivial:"
   ]
  },
  {
   "cell_type": "code",
   "execution_count": 22,
   "metadata": {
    "collapsed": false
   },
   "outputs": [
    {
     "name": "stdout",
     "output_type": "stream",
     "text": [
      "Input a real number: :-)\n"
     ]
    },
    {
     "name": "stdout",
     "output_type": "stream",
     "text": [
      "Shame on you! Don't you know what a real number is?!? :-P\n"
     ]
    },
    {
     "name": "stdout",
     "output_type": "stream",
     "text": [
      "Input a real number: 17\n"
     ]
    },
    {
     "name": "stdout",
     "output_type": "stream",
     "text": [
      "Your real number: 17.0\n"
     ]
    }
   ],
   "source": [
    "while True:\n",
    "    try:\n",
    "        x = float(input(\"Input a real number: \"))\n",
    "    except ValueError:\n",
    "        print(\"Shame on you! Don't you know what a real number is?!? :-P\")\n",
    "    else:\n",
    "        break\n",
    "print(\"Your real number:\", x)"
   ]
  },
  {
   "cell_type": "markdown",
   "metadata": {
    "slideshow": {
     "slide_type": "subslide"
    }
   },
   "source": [
    "**Note:** When writing \"real programs\" (i.e., not just \"school examples\" or small utilities that only you will be using), you should always check that the input is valid. If it is not, handle it appropriately (print a message, request the input again, stop the program,... whatever you deem fit for that specific situation)."
   ]
  },
  {
   "cell_type": "markdown",
   "metadata": {
    "slideshow": {
     "slide_type": "subslide"
    }
   },
   "source": [
    "## `finally` = \"wrap it up\"\n",
    "\n",
    "One can also add a `finally` block to an exception handler:\n",
    "\n",
    "```python\n",
    "try:\n",
    "    do_something_1()\n",
    "    do_something_2()\n",
    "except SomeException:\n",
    "    handle_exception()\n",
    "else:\n",
    "    no_error()\n",
    "finally:\n",
    "    wrap_it_all_up()\n",
    "```\n",
    "\n",
    "Here is what happens in some possible scenarios:\n",
    "\n",
    "1. If no error occurs:  \n",
    "   ```python\n",
    "   do_something_1()\n",
    "   do_something_2()\n",
    "   no_error()\n",
    "   wrap_it_all_up()\n",
    "   ```\n",
    "\n",
    "2. If `SomeException` occurs at the end of `do_something_1()`:  \n",
    "   ```python\n",
    "   do_something_1()\n",
    "   handle_exception()\n",
    "   wrap_it_all_up()\n",
    "   ```\n",
    "\n",
    "3. If `SomeOtherException` occurs at the end of `do_something_1()`:  \n",
    "   ```python\n",
    "   do_something_1()\n",
    "   wrap_it_all_up()\n",
    "   ```\n",
    "   and `SomeOtherException` is still raised (as if `raise SomeOtherException(...)` was called after `wrap_it_all_up()`).\n",
    "\n",
    "If it exists, **`finally` block is always executed before leaving the `try` block.**"
   ]
  },
  {
   "cell_type": "markdown",
   "metadata": {
    "slideshow": {
     "slide_type": "subslide"
    }
   },
   "source": [
    "## `finally` with `break`, `continue`, and `return`\n",
    "\n",
    "Yes, even when `break`, `continue`, or `return` is called within a `try` block, `finally` block will be executed before leaving."
   ]
  },
  {
   "cell_type": "code",
   "execution_count": 23,
   "metadata": {
    "collapsed": false
   },
   "outputs": [
    {
     "name": "stdout",
     "output_type": "stream",
     "text": [
      "x = 9\n"
     ]
    },
    {
     "name": "stdout",
     "output_type": "stream",
     "text": [
      "This is executed for i = 0\n",
      "This is executed for i = 1\n",
      "This is executed for i = 2\n",
      "9 is a complete square of 3\n",
      "This is executed for i = 3\n"
     ]
    }
   ],
   "source": [
    "n = int(input(\"x = \"))\n",
    "for i in range(n):\n",
    "    try:\n",
    "        if i*i == n:\n",
    "            print(n, \"is a complete square of\", i)\n",
    "            break\n",
    "    finally:\n",
    "        print(\"This is executed for i =\", i)"
   ]
  },
  {
   "cell_type": "markdown",
   "metadata": {
    "slideshow": {
     "slide_type": "subslide"
    }
   },
   "source": [
    "However, `finally` itself catches no exceptions. For examle:"
   ]
  },
  {
   "cell_type": "code",
   "execution_count": 24,
   "metadata": {
    "collapsed": false
   },
   "outputs": [
    {
     "name": "stdout",
     "output_type": "stream",
     "text": [
      "x = 9\n"
     ]
    },
    {
     "name": "stdout",
     "output_type": "stream",
     "text": [
      "This is executed for i = 0\n",
      "This is executed for i = 1\n",
      "This is executed for i = 2\n",
      "9 is a complete square of 3\n",
      "This is executed for i = 3\n"
     ]
    },
    {
     "ename": "Exception",
     "evalue": "",
     "output_type": "error",
     "traceback": [
      "\u001b[1;31m---------------------------------------------------------------------------\u001b[0m\n\u001b[1;31mException\u001b[0m                                 Traceback (most recent call last)",
      "\u001b[1;32m<ipython-input-24-700820e14c62>\u001b[0m in \u001b[0;36m<module>\u001b[1;34m()\u001b[0m\n\u001b[0;32m      4\u001b[0m         \u001b[1;32mif\u001b[0m \u001b[0mi\u001b[0m\u001b[1;33m*\u001b[0m\u001b[0mi\u001b[0m \u001b[1;33m==\u001b[0m \u001b[0mn\u001b[0m\u001b[1;33m:\u001b[0m\u001b[1;33m\u001b[0m\u001b[0m\n\u001b[0;32m      5\u001b[0m             \u001b[0mprint\u001b[0m\u001b[1;33m(\u001b[0m\u001b[0mn\u001b[0m\u001b[1;33m,\u001b[0m \u001b[1;34m\"is a complete square of\"\u001b[0m\u001b[1;33m,\u001b[0m \u001b[0mi\u001b[0m\u001b[1;33m)\u001b[0m\u001b[1;33m\u001b[0m\u001b[0m\n\u001b[1;32m----> 6\u001b[1;33m             \u001b[1;32mraise\u001b[0m \u001b[0mException\u001b[0m\u001b[1;33m\u001b[0m\u001b[0m\n\u001b[0m\u001b[0;32m      7\u001b[0m     \u001b[1;32mfinally\u001b[0m\u001b[1;33m:\u001b[0m\u001b[1;33m\u001b[0m\u001b[0m\n\u001b[0;32m      8\u001b[0m         \u001b[0mprint\u001b[0m\u001b[1;33m(\u001b[0m\u001b[1;34m\"This is executed for i =\"\u001b[0m\u001b[1;33m,\u001b[0m \u001b[0mi\u001b[0m\u001b[1;33m)\u001b[0m\u001b[1;33m\u001b[0m\u001b[0m\n",
      "\u001b[1;31mException\u001b[0m: "
     ]
    }
   ],
   "source": [
    "n = int(input(\"x = \"))\n",
    "for i in range(n):\n",
    "    try:\n",
    "        if i*i == n:\n",
    "            print(n, \"is a complete square of\", i)\n",
    "            raise Exception\n",
    "    finally:\n",
    "        print(\"This is executed for i =\", i)"
   ]
  },
  {
   "cell_type": "markdown",
   "metadata": {
    "slideshow": {
     "slide_type": "subslide"
    }
   },
   "source": [
    "## Some general rules\n",
    "\n",
    "1. Catch as specific exception(s) as possible.\n",
    "\n",
    "2. Put as little code as possible in the single exception block, to ensure that you catch exactly those exceptions that you want to catch.\n",
    "\n",
    "3. Any clean-up should go in a `finally` block."
   ]
  },
  {
   "cell_type": "markdown",
   "metadata": {
    "slideshow": {
     "slide_type": "subslide"
    }
   },
   "source": [
    "## How deep does the rabbit hole go?\n",
    "\n",
    "The beauty of the exceptions is that they allow us to control the flow over many levels of invocations, between several embedded loops, function calls, etc. Try the following example for $n = 2, 5, 11$:"
   ]
  },
  {
   "cell_type": "code",
   "execution_count": 25,
   "metadata": {
    "collapsed": false
   },
   "outputs": [
    {
     "name": "stdout",
     "output_type": "stream",
     "text": [
      "n = 11\n"
     ]
    },
    {
     "name": "stdout",
     "output_type": "stream",
     "text": [
      "The number is odd, so let's call this function:\n",
      "1 / -11 = -0.09090909090909091\n",
      "1 / -10 = -0.1\n",
      "1 / -9 = -0.1111111111111111\n",
      "1 / -8 = -0.125\n",
      "1 / -7 = -0.14285714285714285\n",
      "1 / -6 = -0.16666666666666666\n",
      "1 / -5 = -0.2\n",
      "1 / -4 = -0.25\n",
      "1 / -3 = -0.3333333333333333\n",
      "1 / -2 = -0.5\n",
      "1 / -1 = -1.0\n",
      "Whoops... You really do like dividing by zero!\n"
     ]
    }
   ],
   "source": [
    "def f(n, f, t):\n",
    "    for i in range(1, n):\n",
    "        for j in range(f, t):\n",
    "            print(\"{} / {} = {}\".format(i, j, i / j))\n",
    "\n",
    "n = int(input(\"n = \"))\n",
    "if n % 2 == 0:\n",
    "    print(\"The number is even, so let's call this function without handling any exceptions:\")\n",
    "    f(n, -n, n)\n",
    "else:\n",
    "    print(\"The number is odd, so let's call this function:\")\n",
    "    try:\n",
    "        if n > 7:\n",
    "            f(n, -n, n)\n",
    "        else:\n",
    "            f(n, 1, n)\n",
    "    except ZeroDivisionError:\n",
    "        print(\"Whoops... You really do like dividing by zero!\")"
   ]
  },
  {
   "cell_type": "markdown",
   "metadata": {
    "slideshow": {
     "slide_type": "subslide"
    }
   },
   "source": [
    "## Raising exceptions\n",
    "\n",
    "Exceptions are in no way something magical that *just happens*. You can trigger them yourself, either to report an error or to achieve a fine control of your code's execution.\n",
    "\n",
    "The correct term for triggering an exception is *raising* it, which is done with the keyword `raise` (other modern languages will use either `raise` or `throw`).\n",
    "\n",
    "Consider the following problem:\n",
    "\n",
    "> Write a function that takes an (integer) argument `n`, loads `n` real numbers, and returns the arithmetic mean of the loaded numbers.\n",
    "\n",
    "This one should be trivial to write:"
   ]
  },
  {
   "cell_type": "code",
   "execution_count": 26,
   "metadata": {
    "collapsed": false
   },
   "outputs": [
    {
     "name": "stdout",
     "output_type": "stream",
     "text": [
      "Number #1: 17\n"
     ]
    },
    {
     "name": "stdout",
     "output_type": "stream",
     "text": [
      "Number #2: 19\n"
     ]
    },
    {
     "name": "stdout",
     "output_type": "stream",
     "text": [
      "Number #3: 23\n"
     ]
    },
    {
     "name": "stdout",
     "output_type": "stream",
     "text": [
      "Result: 19.666666666666668\n"
     ]
    }
   ],
   "source": [
    "def arithmetic_mean(n):\n",
    "    \"\"\"\n",
    "    Load `n` real numbers and return the arithmetic mean of the loaded numbers.\n",
    "    \"\"\"\n",
    "    sum_ = 0\n",
    "    for i in range(n):\n",
    "        x = int(input(\"Number #{}: \".format(i+1)))\n",
    "        sum_ += x\n",
    "    return sum_ / n\n",
    "\n",
    "print(\"Result:\", arithmetic_mean(3))"
   ]
  },
  {
   "cell_type": "markdown",
   "metadata": {
    "slideshow": {
     "slide_type": "subslide"
    }
   },
   "source": [
    "This code will execute as expected. However, there is a designer flaw in it. Can you spot it?"
   ]
  },
  {
   "cell_type": "markdown",
   "metadata": {
    "slideshow": {
     "slide_type": "subslide"
    }
   },
   "source": [
    "What happens if we do this?"
   ]
  },
  {
   "cell_type": "code",
   "execution_count": 27,
   "metadata": {
    "collapsed": false
   },
   "outputs": [
    {
     "ename": "ZeroDivisionError",
     "evalue": "division by zero",
     "output_type": "error",
     "traceback": [
      "\u001b[1;31m---------------------------------------------------------------------------\u001b[0m\n\u001b[1;31mZeroDivisionError\u001b[0m                         Traceback (most recent call last)",
      "\u001b[1;32m<ipython-input-27-e3171e379fdb>\u001b[0m in \u001b[0;36m<module>\u001b[1;34m()\u001b[0m\n\u001b[1;32m----> 1\u001b[1;33m \u001b[0mprint\u001b[0m\u001b[1;33m(\u001b[0m\u001b[1;34m\"Result:\"\u001b[0m\u001b[1;33m,\u001b[0m \u001b[0marithmetic_mean\u001b[0m\u001b[1;33m(\u001b[0m\u001b[1;36m0\u001b[0m\u001b[1;33m)\u001b[0m\u001b[1;33m)\u001b[0m\u001b[1;33m\u001b[0m\u001b[0m\n\u001b[0m",
      "\u001b[1;32m<ipython-input-26-a1961cc5aec1>\u001b[0m in \u001b[0;36marithmetic_mean\u001b[1;34m(n)\u001b[0m\n\u001b[0;32m      7\u001b[0m         \u001b[0mx\u001b[0m \u001b[1;33m=\u001b[0m \u001b[0mint\u001b[0m\u001b[1;33m(\u001b[0m\u001b[0minput\u001b[0m\u001b[1;33m(\u001b[0m\u001b[1;34m\"Number #{}: \"\u001b[0m\u001b[1;33m.\u001b[0m\u001b[0mformat\u001b[0m\u001b[1;33m(\u001b[0m\u001b[0mi\u001b[0m\u001b[1;33m+\u001b[0m\u001b[1;36m1\u001b[0m\u001b[1;33m)\u001b[0m\u001b[1;33m)\u001b[0m\u001b[1;33m)\u001b[0m\u001b[1;33m\u001b[0m\u001b[0m\n\u001b[0;32m      8\u001b[0m         \u001b[0msum_\u001b[0m \u001b[1;33m+=\u001b[0m \u001b[0mx\u001b[0m\u001b[1;33m\u001b[0m\u001b[0m\n\u001b[1;32m----> 9\u001b[1;33m     \u001b[1;32mreturn\u001b[0m \u001b[0msum_\u001b[0m \u001b[1;33m/\u001b[0m \u001b[0mn\u001b[0m\u001b[1;33m\u001b[0m\u001b[0m\n\u001b[0m\u001b[0;32m     10\u001b[0m \u001b[1;33m\u001b[0m\u001b[0m\n\u001b[0;32m     11\u001b[0m \u001b[0mprint\u001b[0m\u001b[1;33m(\u001b[0m\u001b[1;34m\"Result:\"\u001b[0m\u001b[1;33m,\u001b[0m \u001b[0marithmetic_mean\u001b[0m\u001b[1;33m(\u001b[0m\u001b[1;36m3\u001b[0m\u001b[1;33m)\u001b[0m\u001b[1;33m)\u001b[0m\u001b[1;33m\u001b[0m\u001b[0m\n",
      "\u001b[1;31mZeroDivisionError\u001b[0m: division by zero"
     ]
    }
   ],
   "source": [
    "print(\"Result:\", arithmetic_mean(0))"
   ]
  },
  {
   "cell_type": "markdown",
   "metadata": {
    "slideshow": {
     "slide_type": "subslide"
    }
   },
   "source": [
    "One could argue that the input is faulty and makes no sense, hence the error is expected. While this is true, and the code should do this, the error itself is confusing:\n",
    "\n",
    "> ZeroDivisionError: division by zero\n",
    "\n",
    "What division? The user of our function knows that they have to get an arithmetic mean, but they need not know how it is calculated. Imagine if the problem was more complex than a simple arithmetic mean: it would be perfectly OK for a user to not know the internal functioning of a function that you wrote.\n",
    "\n",
    "Further, this will report no error:"
   ]
  },
  {
   "cell_type": "code",
   "execution_count": 28,
   "metadata": {
    "collapsed": false
   },
   "outputs": [
    {
     "name": "stdout",
     "output_type": "stream",
     "text": [
      "Result: -0.0\n"
     ]
    }
   ],
   "source": [
    "print(\"Result:\", arithmetic_mean(-17))"
   ]
  },
  {
   "cell_type": "markdown",
   "metadata": {
    "slideshow": {
     "slide_type": "subslide"
    }
   },
   "source": [
    "This result is a nonsense, in a way that an arithmetic mean is not defined for a negative number of numbers (actually, \"-17 numbers\" is a nonsense itself). One could argue that the result $0$ makes some sense, but it is certainly different from the arithmetic mean of, for example, `{-17,-2,19}`. The user should be made aware of that.\n",
    "\n",
    "So, how to deal with this?"
   ]
  },
  {
   "cell_type": "markdown",
   "metadata": {
    "slideshow": {
     "slide_type": "subslide"
    }
   },
   "source": [
    "Traditionally, the function would return an invalid value. For example, if we were computing the sum of digits, $-1$ would be an invalid result. However, there is no \"invalid arithmetic mean\" -- every real number is an arithmetic mean of an infinite number of sets of real numbers.\n",
    "\n",
    "We could return `None`, but this solution is bad because it doesn't really imply an error. Unless the user checks specifically for `None`, they might never realize that there was an error. Any value can be compared with `None` (the result will be `False`, unless that value is also `None`). Also, returning `None` or its equivalent will not work in strongly typed languages (C++, for example)."
   ]
  },
  {
   "cell_type": "markdown",
   "metadata": {
    "slideshow": {
     "slide_type": "subslide"
    }
   },
   "source": [
    "The proper way to do this is to raise your own exception.\n",
    "\n",
    "First we need to determine the type of an exception, so that the exception properly describes what has happened. We can always define our own exceptions, but usually we can pick among the [existing ones](https://docs.python.org/3/library/exceptions.html).\n",
    "\n",
    "Here, the problem is in the wrong value of `n`, which fits perfectly in the description of the [`ValueError`](https://docs.python.org/3/library/exceptions.html#ValueError) type:\n",
    "\n",
    "> *exception* `ValueError`\n",
    "\n",
    "> Raised when a built-in operation or function receives an argument that has the right type but an inappropriate value, and the situation is not described by a more precise exception such as [`IndexError`](https://docs.python.org/3/library/exceptions.html#IndexError).\n",
    "\n",
    "We are now ready to go:"
   ]
  },
  {
   "cell_type": "code",
   "execution_count": 29,
   "metadata": {
    "collapsed": false,
    "slideshow": {
     "slide_type": "subslide"
    }
   },
   "outputs": [
    {
     "name": "stdout",
     "output_type": "stream",
     "text": [
      "Number #1: 17\n"
     ]
    },
    {
     "name": "stdout",
     "output_type": "stream",
     "text": [
      "Number #2: 19\n"
     ]
    },
    {
     "name": "stdout",
     "output_type": "stream",
     "text": [
      "Number #3: 23\n"
     ]
    },
    {
     "name": "stdout",
     "output_type": "stream",
     "text": [
      "Result: 19.666666666666668\n"
     ]
    }
   ],
   "source": [
    "def arithmetic_mean(n):\n",
    "    \"\"\"\n",
    "    Load `n` real numbers and return the arithmetic mean of the loaded numbers.\n",
    "    If `n` has an illegal value (i.e., `n <= 0`), the function rises a ValueError exception.\n",
    "    \"\"\"\n",
    "    \n",
    "    if n <= 0:\n",
    "        raise ValueError(\"Arithmetic mean of zero or less numbers is undefined\")\n",
    "        \n",
    "    sum_ = 0\n",
    "    for i in range(n):\n",
    "        x = int(input(\"Number #{}: \".format(i+1)))\n",
    "        sum_ += x\n",
    "    return sum_ / n\n",
    "\n",
    "print(\"Result:\", arithmetic_mean(3))"
   ]
  },
  {
   "cell_type": "markdown",
   "metadata": {
    "slideshow": {
     "slide_type": "subslide"
    }
   },
   "source": [
    "The previous illegal value example will now raise an exception:"
   ]
  },
  {
   "cell_type": "code",
   "execution_count": 30,
   "metadata": {
    "collapsed": false
   },
   "outputs": [
    {
     "ename": "ValueError",
     "evalue": "Arithmetic mean of zero or less numbers is undefined",
     "output_type": "error",
     "traceback": [
      "\u001b[1;31m---------------------------------------------------------------------------\u001b[0m\n\u001b[1;31mValueError\u001b[0m                                Traceback (most recent call last)",
      "\u001b[1;32m<ipython-input-30-3080ce387349>\u001b[0m in \u001b[0;36m<module>\u001b[1;34m()\u001b[0m\n\u001b[1;32m----> 1\u001b[1;33m \u001b[0mprint\u001b[0m\u001b[1;33m(\u001b[0m\u001b[1;34m\"Result:\"\u001b[0m\u001b[1;33m,\u001b[0m \u001b[0marithmetic_mean\u001b[0m\u001b[1;33m(\u001b[0m\u001b[1;33m-\u001b[0m\u001b[1;36m17\u001b[0m\u001b[1;33m)\u001b[0m\u001b[1;33m)\u001b[0m\u001b[1;33m\u001b[0m\u001b[0m\n\u001b[0m",
      "\u001b[1;32m<ipython-input-29-1834822a092f>\u001b[0m in \u001b[0;36marithmetic_mean\u001b[1;34m(n)\u001b[0m\n\u001b[0;32m      6\u001b[0m \u001b[1;33m\u001b[0m\u001b[0m\n\u001b[0;32m      7\u001b[0m     \u001b[1;32mif\u001b[0m \u001b[0mn\u001b[0m \u001b[1;33m<=\u001b[0m \u001b[1;36m0\u001b[0m\u001b[1;33m:\u001b[0m\u001b[1;33m\u001b[0m\u001b[0m\n\u001b[1;32m----> 8\u001b[1;33m         \u001b[1;32mraise\u001b[0m \u001b[0mValueError\u001b[0m\u001b[1;33m(\u001b[0m\u001b[1;34m\"Arithmetic mean of zero or less numbers is undefined\"\u001b[0m\u001b[1;33m)\u001b[0m\u001b[1;33m\u001b[0m\u001b[0m\n\u001b[0m\u001b[0;32m      9\u001b[0m \u001b[1;33m\u001b[0m\u001b[0m\n\u001b[0;32m     10\u001b[0m     \u001b[0msum_\u001b[0m \u001b[1;33m=\u001b[0m \u001b[1;36m0\u001b[0m\u001b[1;33m\u001b[0m\u001b[0m\n",
      "\u001b[1;31mValueError\u001b[0m: Arithmetic mean of zero or less numbers is undefined"
     ]
    }
   ],
   "source": [
    "print(\"Result:\", arithmetic_mean(-17))"
   ]
  },
  {
   "cell_type": "markdown",
   "metadata": {
    "slideshow": {
     "slide_type": "subslide"
    }
   },
   "source": [
    "We can now make a call like this, to report our own error message:"
   ]
  },
  {
   "cell_type": "code",
   "execution_count": 31,
   "metadata": {
    "collapsed": false
   },
   "outputs": [
    {
     "name": "stdout",
     "output_type": "stream",
     "text": [
      "n = -17\n"
     ]
    },
    {
     "name": "stdout",
     "output_type": "stream",
     "text": [
      "The arithmetic mean is well defined only when n > 0\n"
     ]
    }
   ],
   "source": [
    "n = int(input(\"n = \"))\n",
    "try:\n",
    "    print(\"Result:\", arithmetic_mean(n))\n",
    "except ValueError:\n",
    "    print(\"The arithmetic mean is well defined only when n > 0\")"
   ]
  },
  {
   "cell_type": "markdown",
   "metadata": {
    "slideshow": {
     "slide_type": "subslide"
    }
   },
   "source": [
    "or like this, to use the one defined in the function:"
   ]
  },
  {
   "cell_type": "code",
   "execution_count": 32,
   "metadata": {
    "collapsed": false
   },
   "outputs": [
    {
     "name": "stdout",
     "output_type": "stream",
     "text": [
      "n = -17\n"
     ]
    },
    {
     "name": "stdout",
     "output_type": "stream",
     "text": [
      "Arithmetic mean of zero or less numbers is undefined\n"
     ]
    }
   ],
   "source": [
    "n = int(input(\"n = \"))\n",
    "try:\n",
    "    print(\"Result:\", arithmetic_mean(n))\n",
    "except ValueError as e:\n",
    "    print(e)"
   ]
  },
  {
   "cell_type": "markdown",
   "metadata": {
    "slideshow": {
     "slide_type": "subslide"
    }
   },
   "source": [
    "or like this, to treat \"bad input\" as if the result was zero:"
   ]
  },
  {
   "cell_type": "code",
   "execution_count": 33,
   "metadata": {
    "collapsed": false
   },
   "outputs": [
    {
     "name": "stdout",
     "output_type": "stream",
     "text": [
      "n = -17\n"
     ]
    },
    {
     "name": "stdout",
     "output_type": "stream",
     "text": [
      "Result: 0\n"
     ]
    }
   ],
   "source": [
    "n = int(input(\"n = \"))\n",
    "try:\n",
    "    am = arithmetic_mean(n)\n",
    "except ValueError:\n",
    "    am = 0\n",
    "print(\"Result:\", am)"
   ]
  },
  {
   "cell_type": "markdown",
   "metadata": {
    "slideshow": {
     "slide_type": "subslide"
    }
   },
   "source": [
    "## Silently handling exceptions\n",
    "\n",
    "How do we silently handle an error (i.e., prevent it from crashing a program, but not really do anything about it)?\n",
    "\n",
    "This won't work (because `except` must be followed by at least one command):"
   ]
  },
  {
   "cell_type": "code",
   "execution_count": 34,
   "metadata": {
    "collapsed": false
   },
   "outputs": [
    {
     "ename": "IndentationError",
     "evalue": "expected an indented block (<ipython-input-34-6f51868040c3>, line 5)",
     "output_type": "error",
     "traceback": [
      "\u001b[1;36m  File \u001b[1;32m\"<ipython-input-34-6f51868040c3>\"\u001b[1;36m, line \u001b[1;32m5\u001b[0m\n\u001b[1;33m    print(\"We're OK!\")\u001b[0m\n\u001b[1;37m        ^\u001b[0m\n\u001b[1;31mIndentationError\u001b[0m\u001b[1;31m:\u001b[0m expected an indented block\n"
     ]
    }
   ],
   "source": [
    "try:\n",
    "    x = 0 / 0\n",
    "except ZeroDivisionError:\n",
    "\n",
    "print(\"We're OK!\")"
   ]
  },
  {
   "cell_type": "markdown",
   "metadata": {},
   "source": [
    "This leads us to..."
   ]
  },
  {
   "cell_type": "markdown",
   "metadata": {
    "slideshow": {
     "slide_type": "slide"
    }
   },
   "source": [
    "# Doing nothing\n",
    "\n",
    "A favourite activity of many people, doing nothing, is implemented in Python as the `pass` statement. It literally means \"do nothing\" (so, it's not a part of control flow in the strict sense) and it is used when the syntax requires at least one command, but there is none to be executed.\n",
    "\n",
    "Here is an example:"
   ]
  },
  {
   "cell_type": "code",
   "execution_count": 35,
   "metadata": {
    "collapsed": false
   },
   "outputs": [
    {
     "name": "stdout",
     "output_type": "stream",
     "text": [
      "n = 19\n"
     ]
    }
   ],
   "source": [
    "n = int(input(\"n = \"))\n",
    "if n > 17:\n",
    "    pass\n",
    "else:\n",
    "    print(\"Your number is smaller than or equal to 17.\")"
   ]
  },
  {
   "cell_type": "markdown",
   "metadata": {},
   "source": [
    "Without `pass`, this would fail:"
   ]
  },
  {
   "cell_type": "code",
   "execution_count": 36,
   "metadata": {
    "collapsed": false
   },
   "outputs": [
    {
     "ename": "IndentationError",
     "evalue": "expected an indented block (<ipython-input-36-bb95733acf99>, line 4)",
     "output_type": "error",
     "traceback": [
      "\u001b[1;36m  File \u001b[1;32m\"<ipython-input-36-bb95733acf99>\"\u001b[1;36m, line \u001b[1;32m4\u001b[0m\n\u001b[1;33m    else:\u001b[0m\n\u001b[1;37m       ^\u001b[0m\n\u001b[1;31mIndentationError\u001b[0m\u001b[1;31m:\u001b[0m expected an indented block\n"
     ]
    }
   ],
   "source": [
    "n = int(input(\"n =\"))\n",
    "if n > 17:\n",
    "    \n",
    "else:\n",
    "    print(\"Your number is smaller than or equal to 17.\")"
   ]
  },
  {
   "cell_type": "markdown",
   "metadata": {
    "slideshow": {
     "slide_type": "subslide"
    }
   },
   "source": [
    "Obviously, there is a better way to do the above:"
   ]
  },
  {
   "cell_type": "code",
   "execution_count": 37,
   "metadata": {
    "collapsed": true
   },
   "outputs": [
    {
     "name": "stdout",
     "output_type": "stream",
     "text": [
      "n =19\n"
     ]
    }
   ],
   "source": [
    "n = int(input(\"n =\"))\n",
    "if n <= 17:\n",
    "    print(\"Your number is smaller than or equal to 17.\")"
   ]
  },
  {
   "cell_type": "markdown",
   "metadata": {
    "slideshow": {
     "slide_type": "subslide"
    }
   },
   "source": [
    "However, there are legitimate situations when we need to have empty blocks.\n",
    "\n",
    "One such example can be \"I need to add some code here, but I'll do it later\":\n",
    "\n",
    "```python\n",
    "if some_condition:\n",
    "    pass # TODO: write the code to solve the problem if some_condition happens\n",
    "else:\n",
    "    a_general_solution()\n",
    "```"
   ]
  },
  {
   "cell_type": "markdown",
   "metadata": {
    "slideshow": {
     "slide_type": "subslide"
    }
   },
   "source": [
    "Another example is defining our own exceptions:\n",
    "\n",
    "```python\n",
    "class SomeNewError(Exception):\n",
    "    pass\n",
    "```\n",
    "\n",
    "All we need here is a new type of exception (so it can be distinguished from other exceptions), but with no new functionality. This can now be used the same way we used `ValueError` above:"
   ]
  },
  {
   "cell_type": "code",
   "execution_count": 38,
   "metadata": {
    "collapsed": false
   },
   "outputs": [
    {
     "ename": "SomeNewError",
     "evalue": "This is a very informative message",
     "output_type": "error",
     "traceback": [
      "\u001b[1;31m---------------------------------------------------------------------------\u001b[0m\n\u001b[1;31mSomeNewError\u001b[0m                              Traceback (most recent call last)",
      "\u001b[1;32m<ipython-input-38-19612a2b0833>\u001b[0m in \u001b[0;36m<module>\u001b[1;34m()\u001b[0m\n\u001b[0;32m      5\u001b[0m     \u001b[1;32mpass\u001b[0m\u001b[1;33m\u001b[0m\u001b[0m\n\u001b[0;32m      6\u001b[0m \u001b[1;33m\u001b[0m\u001b[0m\n\u001b[1;32m----> 7\u001b[1;33m \u001b[1;32mraise\u001b[0m \u001b[0mSomeNewError\u001b[0m\u001b[1;33m(\u001b[0m\u001b[1;34m\"This is a very informative message\"\u001b[0m\u001b[1;33m)\u001b[0m\u001b[1;33m\u001b[0m\u001b[0m\n\u001b[0m",
      "\u001b[1;31mSomeNewError\u001b[0m: This is a very informative message"
     ]
    }
   ],
   "source": [
    "class SomeNewError(Exception):\n",
    "    \"\"\"\n",
    "    Description of the error (never forget docstrings when defining something!)\n",
    "    \"\"\"\n",
    "    pass\n",
    "\n",
    "raise SomeNewError(\"This is a very informative message\")"
   ]
  },
  {
   "cell_type": "markdown",
   "metadata": {
    "slideshow": {
     "slide_type": "subslide"
    }
   },
   "source": [
    "While the word \"`Error`\" in the name \"`SomeNewError`\" is not mandatory, it is a Python standard to use it for all exceptions that describe some error (see [Exception Names in PEP 8](https://www.python.org/dev/peps/pep-0008/#exception-names))."
   ]
  },
  {
   "cell_type": "markdown",
   "metadata": {
    "slideshow": {
     "slide_type": "subslide"
    }
   },
   "source": [
    "The statement `pass` can also give us a solution to the question about handling exceptions silently:"
   ]
  },
  {
   "cell_type": "code",
   "execution_count": 39,
   "metadata": {
    "collapsed": false
   },
   "outputs": [
    {
     "name": "stdout",
     "output_type": "stream",
     "text": [
      "We're OK!\n"
     ]
    }
   ],
   "source": [
    "try:\n",
    "    x = 0 / 0\n",
    "except ZeroDivisionError:\n",
    "    pass\n",
    "\n",
    "print(\"We're OK!\")"
   ]
  },
  {
   "cell_type": "markdown",
   "metadata": {},
   "source": [
    "Note that it is usually desirable to not just ignore an error, but it can come in handy."
   ]
  },
  {
   "cell_type": "markdown",
   "metadata": {
    "slideshow": {
     "slide_type": "slide"
    }
   },
   "source": [
    "# Breaking out of several loops\n",
    "\n",
    "As we have mentioned earlier, `break` will get you out of a single loop. However, using exceptions, you can break out of as many levels as you want. For example:"
   ]
  },
  {
   "cell_type": "code",
   "execution_count": 40,
   "metadata": {
    "collapsed": false
   },
   "outputs": [
    {
     "name": "stdout",
     "output_type": "stream",
     "text": [
      "n = 3\n"
     ]
    },
    {
     "name": "stdout",
     "output_type": "stream",
     "text": [
      "m = 3\n"
     ]
    },
    {
     "name": "stdout",
     "output_type": "stream",
     "text": [
      "\n",
      "i = 0\n",
      "i + j + k = 0 + 0 + 0 = 0\n",
      "i + j + k = 0 + 0 + 1 = 1\n",
      "i + j + k = 0 + 0 + 2 = 2\n",
      "i + j + k = 0 + 1 + 0 = 1\n",
      "i + j + k = 0 + 1 + 1 = 2\n",
      "i + j + k = 0 + 1 + 2 = 3\n",
      "Stop!\n",
      "\n",
      "i = 1\n",
      "i + j + k = 1 + 0 + 0 = 1\n",
      "i + j + k = 1 + 0 + 1 = 2\n",
      "i + j + k = 1 + 0 + 2 = 3\n",
      "Stop!\n",
      "\n",
      "i = 2\n",
      "i + j + k = 2 + 0 + 0 = 2\n",
      "i + j + k = 2 + 0 + 1 = 3\n",
      "Stop!\n"
     ]
    }
   ],
   "source": [
    "class BreakException(Exception):\n",
    "    pass\n",
    "\n",
    "n = int(input(\"n = \"))\n",
    "m = int(input(\"m = \"))\n",
    "\n",
    "for i in range(n):\n",
    "    print(\"\\ni =\", i)\n",
    "    try:\n",
    "        for j in range(n):\n",
    "            for k in range(n):\n",
    "                s = i+j+k\n",
    "                print(\"i + j + k = {} + {} + {} = {}\".format(i, j, k, s))\n",
    "                if s == m:\n",
    "                    print(\"Stop!\")\n",
    "                    raise BreakException()\n",
    "    except BreakException:\n",
    "        pass"
   ]
  },
  {
   "cell_type": "markdown",
   "metadata": {
    "slideshow": {
     "slide_type": "subslide"
    }
   },
   "source": [
    "**Note:** The name `BreakException` is just something we have chosen. It can be called any way we like, but it is highly desirable to make it descriptive."
   ]
  },
  {
   "cell_type": "markdown",
   "metadata": {
    "slideshow": {
     "slide_type": "subslide"
    }
   },
   "source": [
    "Note that the code can almost always be *refactored* (i.e., rewritten) by converting its parts to functions and then breaking loops with `return`. For the above code, it would look like this:"
   ]
  },
  {
   "cell_type": "code",
   "execution_count": 41,
   "metadata": {
    "collapsed": false
   },
   "outputs": [
    {
     "name": "stdout",
     "output_type": "stream",
     "text": [
      "n = 3\n"
     ]
    },
    {
     "name": "stdout",
     "output_type": "stream",
     "text": [
      "m = 3\n"
     ]
    },
    {
     "name": "stdout",
     "output_type": "stream",
     "text": [
      "\n",
      "i = 0\n",
      "i + j + k = 0 + 0 + 0 = 0\n",
      "i + j + k = 0 + 0 + 1 = 1\n",
      "i + j + k = 0 + 0 + 2 = 2\n",
      "i + j + k = 0 + 1 + 0 = 1\n",
      "i + j + k = 0 + 1 + 1 = 2\n",
      "i + j + k = 0 + 1 + 2 = 3\n",
      "Stop!\n",
      "\n",
      "i = 1\n",
      "i + j + k = 1 + 0 + 0 = 1\n",
      "i + j + k = 1 + 0 + 1 = 2\n",
      "i + j + k = 1 + 0 + 2 = 3\n",
      "Stop!\n",
      "\n",
      "i = 2\n",
      "i + j + k = 2 + 0 + 0 = 2\n",
      "i + j + k = 2 + 0 + 1 = 3\n",
      "Stop!\n"
     ]
    }
   ],
   "source": [
    "n = int(input(\"n = \"))\n",
    "m = int(input(\"m = \"))\n",
    "\n",
    "def inner_loops(i):\n",
    "    \"\"\"\n",
    "    Inner loops that sometimes need to be interrupted all at once.\n",
    "    We are using `return` to achieve that effect.\n",
    "    \"\"\"\n",
    "    for j in range(n):\n",
    "        for k in range(n):\n",
    "            s = i+j+k\n",
    "            print(\"i + j + k = {} + {} + {} = {}\".format(i, j, k, s))\n",
    "            if s == m:\n",
    "                print(\"Stop!\")\n",
    "                return\n",
    "\n",
    "for i in range(n):\n",
    "    print(\"\\ni =\", i)\n",
    "    inner_loops(i)"
   ]
  }
 ],
 "metadata": {},
 "nbformat": 4,
 "nbformat_minor": 0
}
