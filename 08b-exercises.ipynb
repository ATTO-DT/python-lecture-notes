{
 "cells": [
  {
   "cell_type": "markdown",
   "metadata": {},
   "source": [
    "# Programming with Python\n",
    "#### Vedran Šego, [vsego.org](http://vsego.org/)\n",
    "\n",
    "## Exercises: File I/O"
   ]
  },
  {
   "cell_type": "markdown",
   "metadata": {},
   "source": [
    "**Reminder:** To test your solutions, you need to create one or more text files. You can do so in Spyder, Notepad, or any other text editor."
   ]
  },
  {
   "cell_type": "markdown",
   "metadata": {},
   "source": [
    "**Problem 1.** Write a program that loads names of two files. Each file contains integers, one per each line. The program has to print a message describing if the sets of numbers contained in those files are equal, or the first one is a proper subset of the second one, or the second one is a proper subset of the first one, or neither.\n",
    "\n",
    "**Hint:** Since the program needs to read from two files, make a function that reads a file into a set and returns that set."
   ]
  },
  {
   "cell_type": "markdown",
   "metadata": {},
   "source": [
    "**Problem 2.** Write a program that loads a name of a text file and reverses the order of its lines (overwriting the original file). You may assume that the file ends with an empty line (i.e., all lines end with a new line character).\n",
    "\n",
    "**Hint:** Read the file, line by line, reverse it, and save it."
   ]
  },
  {
   "cell_type": "markdown",
   "metadata": {},
   "source": [
    "**Problem 3.** Write a program that loads an integer `n` and a file name, and then creates a text file with that name containing the [multiplication table](http://en.wikipedia.org/wiki/Multiplication_table) for all numbers between 1 and `abs(n)` (including both of them).\n",
    "\n",
    "Save the table in the following format:\n",
    "\n",
    "     *  | 1  | 2  | 3  | 4  | 5  \n",
    "    ----|----|----|----|----|----\n",
    "     1  | 1  | 2  | 3  | 4  | 5  \n",
    "     2  | 2  | 4  | 6  | 8  | 10 \n",
    "     3  | 3  | 6  | 9  | 12 | 15 \n",
    "     4  | 4  | 8  | 12 | 16 | 20 \n",
    "     5  | 5  | 10 | 15 | 20 | 25 \n",
    "\n",
    "So, a `*` in the top left cell, a horizontal dashed line after the header, and all the numbers should be centered in 2 characters more than is needed to display $n^2$.\n",
    "\n",
    "**A note on the purpose of these tables (not part of the problem):** Text formatted as required by this problem can be used in [GFM](http://github.github.com/github-flavored-markdown/) as tables. For example, the above text is displayed like this:\n",
    "\n",
    " *  | 1  | 2  | 3  | 4  | 5  \n",
    "----|----|----|----|----|----\n",
    " 1  | 1  | 2  | 3  | 4  | 5  \n",
    " 2  | 2  | 4  | 6  | 8  | 10 \n",
    " 3  | 3  | 6  | 9  | 12 | 15 \n",
    " 4  | 4  | 8  | 12 | 16 | 20 \n",
    " 5  | 5  | 10 | 15 | 20 | 25 \n",
    " \n",
    "A bit more advanced version is to replace each `\"----\"` with \"`:--:`\":\n",
    "\n",
    "     *  | 1  | 2  | 3  | 4  | 5  \n",
    "    :--:|:--:|:--:|:--:|:--:|:--:\n",
    "     1  | 1  | 2  | 3  | 4  | 5  \n",
    "     2  | 2  | 4  | 6  | 8  | 10 \n",
    "     3  | 3  | 6  | 9  | 12 | 15 \n",
    "     4  | 4  | 8  | 12 | 16 | 20 \n",
    "     5  | 5  | 10 | 15 | 20 | 25 \n",
    "\n",
    "This achieves the centered display of the numbers when processed as GFM:\n",
    "\n",
    " *  | 1  | 2  | 3  | 4  | 5  \n",
    ":--:|:--:|:--:|:--:|:--:|:--:\n",
    " 1  | 1  | 2  | 3  | 4  | 5  \n",
    " 2  | 2  | 4  | 6  | 8  | 10 \n",
    " 3  | 3  | 6  | 9  | 12 | 15 \n",
    " 4  | 4  | 8  | 12 | 16 | 20 \n",
    " 5  | 5  | 10 | 15 | 20 | 25 "
   ]
  }
 ],
 "metadata": {},
 "nbformat": 4,
 "nbformat_minor": 0
}
