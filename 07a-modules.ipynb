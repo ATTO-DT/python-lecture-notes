{
 "cells": [
  {
   "cell_type": "markdown",
   "metadata": {
    "slideshow": {
     "slide_type": "slide"
    }
   },
   "source": [
    "# Programming with Python\n",
    "#### Vedran Šego, [vsego.org](http://vsego.org/)\n",
    "\n",
    "## Contents:\n",
    "\n",
    "1. Modules in Python\n",
    "2. Making your own modules\n",
    "3. Some modules that come with Python"
   ]
  },
  {
   "cell_type": "markdown",
   "metadata": {
    "slideshow": {
     "slide_type": "slide"
    }
   },
   "source": [
    "# Modules\n",
    "\n",
    "General purpose programming languages like Python have a very wide area of applications and building all the required functionality into any of them would be almost impossible, and certainly cumbersome at best. The main reasons for this are:\n",
    "\n",
    "1. Such language would grow huge, in terms of disk requirements and in the syntax it would have to support. Consequentially, it would also grow very slow and become very memory greedy.\n",
    "\n",
    "2. All new features and upgrades would require reinstall of the whole language (compiler or interpreter).\n",
    "\n",
    "3. Only the developers of the language itself would be able to implement the features, which would require a huge effort and a wide area of expertise from a relatively small group of people.\n",
    "\n",
    "For this reason, programming languages are made extensible. In Python (and PERL, for example), these extensions are called *modules*. In other languages they may be called libraries (C, PHP,...) or packages (MATLAB, Mathematica, $\\LaTeX$...), but they all work on a fairly similar concept: inclusion of some code written in that or even another language.\n",
    "\n",
    "Modules contain functions and other objects. We can *include* or, equvalently, *import* them, making some or all of these objects available in our program."
   ]
  },
  {
   "cell_type": "markdown",
   "metadata": {
    "slideshow": {
     "slide_type": "slide"
    }
   },
   "source": [
    "## Modules in Python\n",
    "\n",
    "There are several ways to import a module in Python, each of them making for a slightly different use of the objects (usually functions) that they provide."
   ]
  },
  {
   "cell_type": "markdown",
   "metadata": {
    "slideshow": {
     "slide_type": "subslide"
    }
   },
   "source": [
    "Among [many modules that usually come with Python](https://docs.python.org/3/py-modindex.html) and many more that can be obtained separately (for example, over 50000 of them on [PyPI](https://pypi.python.org/) alone), we demonstrate how to use them on the example of [`itertools`](https://docs.python.org/3/library/itertools.html) and its function [`permutations`](https://docs.python.org/3/library/itertools.html#itertools.permutations).\n",
    "\n",
    "Here is that function's description:\n",
    "\n",
    "> `permutations(iterable, r=None)`\n",
    "\n",
    "> Return successive `r` length permutations of elements in the iterable.\n",
    "\n",
    "> If `r` is not specified or is `None`, then `r` defaults to the length of the iterable and all possible full-length permutations are generated.\n",
    "\n",
    "In other words,\n",
    "```python\n",
    "permutations(\"abc\")\n",
    "```\n",
    "will produce a generator that gives us all six full-length permutations of the string `\"abc\"`. However, `permutations` returns a generator of tuples, i.e., `list(permutations(\"abc\"))` returns a list of tuples, each representing one permutation of `\"abc\"`:\n",
    "\n",
    "    [('a', 'b', 'c'), ('a', 'c', 'b'), ('b', 'a', 'c'), ('b', 'c', 'a'), ('c', 'a', 'b'), ('c', 'b', 'a')]\n",
    "\n",
    "To make the output easier to read, we `join` those tuples into strings, using the following list comprehension:\n",
    "```python\n",
    "[\"\".join(x) for x in permutations(\"abc\")]\n",
    "```\n",
    "thus obtaining the list of strings:\n",
    "\n",
    "    ['abc', 'acb', 'bac', 'bca', 'cab', 'cba']\n",
    "\n",
    "We do not go further into analysing how `premutations` works. We simply use it to show how to use modules and their functions."
   ]
  },
  {
   "cell_type": "markdown",
   "metadata": {
    "slideshow": {
     "slide_type": "subslide"
    }
   },
   "source": [
    "## Importing functions and other objects\n",
    "\n",
    "Whenever we want to use something from a module, we have to announce it (so that Python knows what to look for, among many modules that are usually available to it). The process of doing so is called *importing* a module or a function, and it is conveniently done with the `import` keyword."
   ]
  },
  {
   "cell_type": "markdown",
   "metadata": {
    "slideshow": {
     "slide_type": "subslide"
    }
   },
   "source": [
    "### `import modulename`\n",
    "\n",
    "The shortest way to import a module (and everything it contains) is to call\n",
    "```python\n",
    "import modulename\n",
    "```\n",
    "where `modulename` is the name of the module. After that, all its objects can be used by calling `modulename.object`, but not just `object` (without `modulename.`).\n",
    "\n",
    "For example:"
   ]
  },
  {
   "cell_type": "code",
   "execution_count": 1,
   "metadata": {
    "collapsed": false
   },
   "outputs": [
    {
     "name": "stdout",
     "output_type": "stream",
     "text": [
      "['abc', 'acb', 'bac', 'bca', 'cab', 'cba']\n"
     ]
    }
   ],
   "source": [
    "import itertools\n",
    "\n",
    "print([\"\".join(x) for x in itertools.permutations(\"abc\")])"
   ]
  },
  {
   "cell_type": "markdown",
   "metadata": {
    "slideshow": {
     "slide_type": "subslide"
    }
   },
   "source": [
    "### `import modulename as abbr`\n",
    "\n",
    "Sometimes, the name of the module is too long to be used as often as we want to. In this case, we can do\n",
    "```python\n",
    "import modulename as abbrev\n",
    "```\n",
    "where `modulename` is the name of the module. After that, all its objects can be used by calling `abbr.object`, but still not just `object` (without `abbr.`). Also, `modulename.object` will not work.\n",
    "\n",
    "For example:"
   ]
  },
  {
   "cell_type": "code",
   "execution_count": 2,
   "metadata": {
    "collapsed": false
   },
   "outputs": [
    {
     "name": "stdout",
     "output_type": "stream",
     "text": [
      "['abc', 'acb', 'bac', 'bca', 'cab', 'cba']\n"
     ]
    }
   ],
   "source": [
    "import itertools as it\n",
    "\n",
    "print([\"\".join(x) for x in it.permutations(\"abc\")])"
   ]
  },
  {
   "cell_type": "markdown",
   "metadata": {
    "slideshow": {
     "slide_type": "subslide"
    }
   },
   "source": [
    "This form is especially convenient when using modules that have several different implementations with exactly the same objects that they provide (among those we want to use).\n",
    "\n",
    "Let us suppose that we need a function `some_function`, that is provided by the modules:\n",
    "* `free_and_slow`, which is free, but `some_function` implemented in it is slow; and\n",
    "* `expensive_and_fast`, which costs money, but `some_function` implemented in it is fast (yet it still does the same job as the \"free and slow\" one).\n",
    "\n",
    "Some users of our program might have the module `expensive_and_fast` and we want to use `some_function` that is defined in it. However, other users might not have that module, but they could still have the module `free_and_slow`, which we want to utilize, as it is better that a program runs slowly than not at all.\n",
    "\n",
    "Instead of doing checks which of the modules is available whenever we want to call the function `some_function`, we can import the module like this:\n",
    "```python\n",
    "try:\n",
    "    import expensive_and_fast as abbr\n",
    "except ImportError:\n",
    "    import free_and_slow as abbr\n",
    "```\n",
    "after which we can use `abbr.some_function` (and everything else these two modules might have in common), without worrying which of the modules was actually imported."
   ]
  },
  {
   "cell_type": "markdown",
   "metadata": {
    "slideshow": {
     "slide_type": "subslide"
    }
   },
   "source": [
    "### `from modulename import obj1, obj2,...`\n",
    "\n",
    "Often, modules will provide a plethora of objects, among which we only want a few. In this case, we can do\n",
    "```python\n",
    "from modulename import obj1, obj2,...\n",
    "```\n",
    "where `modulename` is the name of the module and `obj1`, `obj2`, etc. are names of the objects in that module that we wish to import. After that, all of these objects can be used by calling `obj1`, `obj2`, etc., but not just `modulename.obj1` and likes. Other objects from that module will not be available, unless imported separately.\n",
    "\n",
    "For example:"
   ]
  },
  {
   "cell_type": "code",
   "execution_count": 3,
   "metadata": {
    "collapsed": false
   },
   "outputs": [
    {
     "name": "stdout",
     "output_type": "stream",
     "text": [
      "['abc', 'acb', 'bac', 'bca', 'cab', 'cba']\n"
     ]
    }
   ],
   "source": [
    "from itertools import permutations\n",
    "\n",
    "print([\"\".join(x) for x in permutations(\"abc\")])"
   ]
  },
  {
   "cell_type": "markdown",
   "metadata": {
    "slideshow": {
     "slide_type": "subslide"
    }
   },
   "source": [
    "### Possible to do, but avoid it: `from modulename import *`\n",
    "\n",
    "Looking at other people's codes, you might stumble upon the following statement:\n",
    "```python\n",
    "from modulename import *\n",
    "```\n",
    "This is equivalent to\n",
    "```python\n",
    "from modulename import obj1, obj2,...\n",
    "```\n",
    "with all the objects from the module `modulename` being listed behind the `import` keyword.\n",
    "\n",
    "This is almost never a good idea, as it will usually import far too many objects, with some potentially clashing with other objects of the same name from other modules."
   ]
  },
  {
   "cell_type": "markdown",
   "metadata": {
    "slideshow": {
     "slide_type": "subslide"
    }
   },
   "source": [
    "## Packages\n",
    "\n",
    "Python also has *packages* which are, technically, collections of modules. One can use them just as if they were modules. For example, here we import `scipy.linalg` and display the docstring of the [function implementing the Cholesky factorization](http://docs.scipy.org/doc/numpy/reference/generated/numpy.linalg.cholesky.html):"
   ]
  },
  {
   "cell_type": "code",
   "execution_count": 4,
   "metadata": {
    "collapsed": false
   },
   "outputs": [
    {
     "name": "stdout",
     "output_type": "stream",
     "text": [
      "Help on function cholesky in module scipy.linalg.decomp_cholesky:\n",
      "\n",
      "cholesky(a, lower=False, overwrite_a=False, check_finite=True)\n",
      "    Compute the Cholesky decomposition of a matrix.\n",
      "    \n",
      "    Returns the Cholesky decomposition, :math:`A = L L^*` or\n",
      "    :math:`A = U^* U` of a Hermitian positive-definite matrix A.\n",
      "    \n",
      "    Parameters\n",
      "    ----------\n",
      "    a : (M, M) array_like\n",
      "        Matrix to be decomposed\n",
      "    lower : bool\n",
      "        Whether to compute the upper or lower triangular Cholesky\n",
      "        factorization.  Default is upper-triangular.\n",
      "    overwrite_a : bool\n",
      "        Whether to overwrite data in `a` (may improve performance).\n",
      "    check_finite : boolean, optional\n",
      "        Whether to check the input matrixes contain only finite numbers.\n",
      "        Disabling may give a performance gain, but may result to problems\n",
      "        (crashes, non-termination) if the inputs do contain infinities or NaNs.\n",
      "    \n",
      "    Returns\n",
      "    -------\n",
      "    c : (M, M) ndarray\n",
      "        Upper- or lower-triangular Cholesky factor of `a`.\n",
      "    \n",
      "    Raises\n",
      "    ------\n",
      "    LinAlgError : if decomposition fails.\n",
      "    \n",
      "    Examples\n",
      "    --------\n",
      "    >>> from scipy import array, linalg, dot\n",
      "    >>> a = array([[1,-2j],[2j,5]])\n",
      "    >>> L = linalg.cholesky(a, lower=True)\n",
      "    >>> L\n",
      "    array([[ 1.+0.j,  0.+0.j],\n",
      "           [ 0.+2.j,  1.+0.j]])\n",
      "    >>> dot(L, L.T.conj())\n",
      "    array([[ 1.+0.j,  0.-2.j],\n",
      "           [ 0.+2.j,  5.+0.j]])\n",
      "\n"
     ]
    }
   ],
   "source": [
    "import scipy.linalg\n",
    "\n",
    "help(scipy.linalg.cholesky)"
   ]
  },
  {
   "cell_type": "markdown",
   "metadata": {
    "slideshow": {
     "slide_type": "subslide"
    }
   },
   "source": [
    "**Q:** How do we find these functions?! There must be thousands of them.\n",
    "\n",
    "**A:** Tens of even hundreds of thousands is probably a better estimate. Still, it's simple: by searching on the internet. For example, looking for the Cholesky factorization, we can simply search for [*python3 Cholesky factorization*](https://www.google.co.uk/search?q=python3+Cholesky+factorization) and the first link will be the one we used above."
   ]
  },
  {
   "cell_type": "markdown",
   "metadata": {
    "slideshow": {
     "slide_type": "subslide"
    }
   },
   "source": [
    "## Making your own module\n",
    "\n",
    "At first sight, this might seem like an advanced topic, but it really isn't. Any Python program can be imported as a module. When that happens, its functions, global variables, etc. are created and any code outside of the functions is executed.\n",
    "\n",
    "This makes for a great way to reuse the functions we wrote, without copying them in each program."
   ]
  },
  {
   "cell_type": "markdown",
   "metadata": {
    "slideshow": {
     "slide_type": "subslide"
    }
   },
   "source": [
    "Let us make a program to find all the prime factors of an integer:"
   ]
  },
  {
   "cell_type": "code",
   "execution_count": 5,
   "metadata": {
    "collapsed": false
   },
   "outputs": [
    {
     "name": "stdout",
     "output_type": "stream",
     "text": [
      "n = 12345\n"
     ]
    },
    {
     "name": "stdout",
     "output_type": "stream",
     "text": [
      "Prime factors of 12345: 3, 5, 823\n"
     ]
    }
   ],
   "source": [
    "def is_prime(n):\n",
    "    \"\"\"\n",
    "    Return True if `n` is a prime; False otherwise.\n",
    "    \"\"\"\n",
    "\n",
    "    if n < 2: return False\n",
    "\n",
    "    for d in range(2, n):\n",
    "        if n % d == 0:\n",
    "            return False\n",
    "\n",
    "    return True\n",
    "\n",
    "def prime_factors(n):\n",
    "    \"\"\"Returns the generator that makes an iterator for\n",
    "    the prime factoris of `n`.\"\"\"\n",
    "    p = 2\n",
    "    n = abs(n)\n",
    "    for p in range(2, n):\n",
    "        if n % p == 0 and is_prime(p):\n",
    "            yield p\n",
    "\n",
    "n = int(input(\"n = \"))\n",
    "print(\"Prime factors of {}: {}\".format(n, \", \".join(str(x) for x in prime_factors(n))))"
   ]
  },
  {
   "cell_type": "markdown",
   "metadata": {},
   "source": [
    "**Note:** This is not a good algorithm for finding the prime factors of a number. We shall do a better one in a later lecture."
   ]
  },
  {
   "cell_type": "markdown",
   "metadata": {
    "slideshow": {
     "slide_type": "subslide"
    }
   },
   "source": [
    "Save the above program into a file \"`prim_factors.py`\" and make the following new program in the same directory:"
   ]
  },
  {
   "cell_type": "code",
   "execution_count": 6,
   "metadata": {
    "collapsed": false
   },
   "outputs": [
    {
     "name": "stdout",
     "output_type": "stream",
     "text": [
      "n = 12345\n"
     ]
    },
    {
     "name": "stdout",
     "output_type": "stream",
     "text": [
      "Prime factors of 12345: 3, 5, 823\n",
      "Prime factors of 1719: (3, 191)\n"
     ]
    }
   ],
   "source": [
    "import prime_factors as pf\n",
    "\n",
    "print(\"Prime factors of 1719:\", tuple(pf.prime_factors(1719)))"
   ]
  },
  {
   "cell_type": "markdown",
   "metadata": {
    "slideshow": {
     "slide_type": "subslide"
    }
   },
   "source": [
    "Notice how we had to input `n`, even though our code here has no calls to the `input` function. This is because `import prime_factors` executes \"`prim_factors.py`\" as if it was run as a program.\n",
    "\n",
    "To avoid this, edit \"`prim_factors.py`\" by wrapping all the code that should not be executed when importing in\n",
    "```python\n",
    "if __name__ == \"__main__\":\n",
    "```\n",
    "\n",
    "Notice that `name` and `main` are both prefixed and suffixed by **two** underscores."
   ]
  },
  {
   "cell_type": "code",
   "execution_count": 7,
   "metadata": {
    "collapsed": false
   },
   "outputs": [
    {
     "name": "stdout",
     "output_type": "stream",
     "text": [
      "n = 12345\n"
     ]
    },
    {
     "name": "stdout",
     "output_type": "stream",
     "text": [
      "Prime factors of 12345: 3, 5, 823\n"
     ]
    }
   ],
   "source": [
    "def is_prime(n):\n",
    "    \"\"\"\n",
    "    Return True if `n` is a prime; False otherwise.\n",
    "    \"\"\"\n",
    "\n",
    "    if n < 2: return False\n",
    "\n",
    "    for d in range(2, n):\n",
    "        if n % d == 0:\n",
    "            return False\n",
    "\n",
    "    return True\n",
    "\n",
    "def prime_factors(n):\n",
    "    \"\"\"Returns the generator that makes an iterator for\n",
    "    the prime factoris of `n`.\"\"\"\n",
    "    p = 2\n",
    "    n = abs(n)\n",
    "    for p in range(2, n):\n",
    "        if n % p == 0 and is_prime(p):\n",
    "            yield p\n",
    "\n",
    "if __name__ == \"__main__\":\n",
    "    n = int(input(\"n = \"))\n",
    "    print(\"Prime factors of {}: {}\".format(n, \", \".join(str(x) for x in prime_factors(n))))"
   ]
  },
  {
   "cell_type": "markdown",
   "metadata": {
    "slideshow": {
     "slide_type": "subslide"
    }
   },
   "source": [
    "So, it still runs as it did before. However, when we import it, its `input` and `print` will not run.\n",
    "\n",
    "We named this file \"`prime_factors_wrap`\", so we can test this separately:"
   ]
  },
  {
   "cell_type": "code",
   "execution_count": 8,
   "metadata": {
    "collapsed": false
   },
   "outputs": [
    {
     "name": "stdout",
     "output_type": "stream",
     "text": [
      "Prime factorization summands for 1719: (3, 191)\n"
     ]
    }
   ],
   "source": [
    "import prime_factors_wrap as pf\n",
    "\n",
    "print(\"Prime factorization summands for 1719:\", tuple(pf.prime_factors(1719)))"
   ]
  },
  {
   "cell_type": "markdown",
   "metadata": {
    "slideshow": {
     "slide_type": "subslide"
    }
   },
   "source": [
    "The variable `__name__` is a special one (as are all that begin with \"`__`\"). It contains:\n",
    "\n",
    "* the string `\"__main__\"` when used in a file that was run as a program, or\n",
    "\n",
    "* the name of the module when used in a file that was imported as a module."
   ]
  },
  {
   "cell_type": "markdown",
   "metadata": {
    "slideshow": {
     "slide_type": "subslide"
    }
   },
   "source": [
    "Of course, sometimes it makes sense to run some code as soon as the module is imported. This is usually some kind of initialization (maybe establishing a database connection or creating a directory or something similar), or a check that the module can be used properly (maybe checking if it has all the data it needs, if all the external programs it needs to run are installed, etc).\n",
    "\n",
    "For example, some internet services require the user to have some kind of code, used to identify them as valid users. A module using such service would have to obtain that code and, in case it fails, it would have to interrupt the execution of the program with the appropriate message. Such a module could look like this:\n",
    "\n",
    "```python\n",
    "\"\"\"\n",
    "The module's docstring.\n",
    "\"\"\"\n",
    "\n",
    "from sys import exit\n",
    "\n",
    "user_code = ...  # A built-in value or a function call to obtain the code\n",
    "\n",
    "...  # Other module definitions (functions, variables,...)\n",
    "\n",
    "if user_code == \"\":\n",
    "    print(\"The program was not set up properly.\")\n",
    "    print(\"You need to provide your code <explain where and how>.\")\n",
    "    exit(1)  # Stop the program\n",
    "\n",
    "...  # Anything else the module has to run, inside and/or outside `if __name__ == \"__main__\":`\n",
    "```"
   ]
  },
  {
   "cell_type": "markdown",
   "metadata": {
    "slideshow": {
     "slide_type": "slide"
    }
   },
   "source": [
    "# Some modules that come with Python\n",
    "\n",
    "Let us take a look at some modules (and packages) that usually come with Python."
   ]
  },
  {
   "cell_type": "markdown",
   "metadata": {
    "slideshow": {
     "slide_type": "subslide"
    }
   },
   "source": [
    "## `sys`\n",
    "\n",
    "The [`sys` module](https://docs.python.org/3.0/library/sys.html) provides system-specific constants and functions in the most generic way possible. These help you write programs that rely on the operating system specifics as little as possible. Here are some of the things it provides:\n",
    "\n",
    "* `argv` -- the list of the command-line arguments (the zeroth one being the command by which the program itself was invoked, exactly as the way it was called),\n",
    "\n",
    "* `exit` -- a function to stop the program's execution; it takes a single integer argument which should be zero if the stop is due to work being done, and a unique non-zero value for each error that stops the program's execution,\n",
    "\n",
    "* `modules` -- a dictionary of all the loaded modules,\n",
    "\n",
    "* `path` -- list of directories where Python will look for modules when a program tries to import them,\n",
    "\n",
    "* `platform` -- a string describing the platform (usually the OS) on which the program is currently running,\n",
    "\n",
    "* `stdin`, `stdout`, `stderr`, `__stdin__`, `__stdout__`, `__stderr__` -- [standard streams](http://en.wikipedia.org/wiki/Standard_streams) (**st**an**d**ard **in**put/**out**put/**err**or) and their original values when the program was started,\n",
    "\n",
    "* `maxsize` -- the biggest integer that the processor supports (for bigger integers, Python simulates all the needed operations, but this is somewhat slower than for those smaller than `maxsize`).\n",
    "\n",
    "For example:"
   ]
  },
  {
   "cell_type": "code",
   "execution_count": 9,
   "metadata": {
    "collapsed": false
   },
   "outputs": [
    {
     "name": "stdout",
     "output_type": "stream",
     "text": [
      "This is same as print.\n",
      "We can import modules from these directories:\n",
      " ['', '/usr/lib64/python33.zip', '/usr/lib64/python3.3', '/usr/lib64/python3.3/plat-linux', '/usr/lib64/python3.3/lib-dynload', '/usr/lib64/python3.3/site-packages', '/usr/lib/python3.3/site-packages', '/usr/lib/python3.3/site-packages/IPython/extensions']\n"
     ]
    },
    {
     "name": "stderr",
     "output_type": "stream",
     "text": [
      "This is a wee bit different.\n"
     ]
    }
   ],
   "source": [
    "from sys import stdout, stderr\n",
    "import sys\n",
    "\n",
    "stdout.write(\"This is same as print.\\n\")\n",
    "stderr.write(\"This is a wee bit different.\\n\")\n",
    "print(\"We can import modules from these directories:\\n\", sys.path)"
   ]
  },
  {
   "cell_type": "markdown",
   "metadata": {
    "slideshow": {
     "slide_type": "subslide"
    }
   },
   "source": [
    "## `os`\n",
    "\n",
    "Not surprisingly, the [`os` package](https://docs.python.org/3/library/os.html) is a home to many OS-related functions.\n",
    "\n",
    "**If you're doing anything with files or directories, read more about [`os.path` module](https://docs.python.org/3/library/os.path.html)**. Many of its functions seem easy enough to be done through simple string manipulation, but that would be wrong (due to security and portability reasons)."
   ]
  },
  {
   "cell_type": "code",
   "execution_count": 10,
   "metadata": {
    "collapsed": false
   },
   "outputs": [
    {
     "name": "stdout",
     "output_type": "stream",
     "text": [
      "Working directory:\n",
      "    /home/vsego/python\n",
      "Absoulte path from a relative one:\n",
      "    /home/example.py\n",
      "Extract the directory name:\n",
      "    /home/vsego/test/directory/and\n",
      "Extract the file name:\n",
      "    file.txt\n",
      "Properly set path for a subdirectory of the current directory:\n",
      "    /home/vsego/python/some/path\n"
     ]
    }
   ],
   "source": [
    "import os\n",
    "\n",
    "# Change the active directory to the directory \"python\" in the user's home directory (~)\n",
    "os.chdir(os.path.expanduser(\"~/python\"))\n",
    "\n",
    "print(\"Working directory:\\n   \", os.getcwd())\n",
    "print(\"Absoulte path from a relative one:\\n   \", os.path.abspath(\"../../example.py\"))\n",
    "print(\"Extract the directory name:\\n   \", os.path.dirname(\"/home/vsego/test/directory/and/file.txt\"))\n",
    "print(\"Extract the file name:\\n   \", os.path.basename(\"/home/vsego/test/directory/and/file.txt\"))\n",
    "print(\"Properly set path for a subdirectory of the current directory:\\n   \",\n",
    "      os.path.join(os.getcwd(), \"some\", \"path\"))"
   ]
  },
  {
   "cell_type": "markdown",
   "metadata": {
    "slideshow": {
     "slide_type": "subslide"
    }
   },
   "source": [
    "## `time`\n",
    "\n",
    "Quite obviously, the [`time` module](https://docs.python.org/3/library/time.html) provides various functions related with time and timezones. To obtain current time as the `float` number of seconds since [the epoch (00:00 1.1.1970. UTC)](http://en.wikipedia.org/wiki/Unix_time), we use the function [`time.time`](https://docs.python.org/3/library/time.html#time.time). This can be used to measure the time that was spent on a certain part of the code:"
   ]
  },
  {
   "cell_type": "code",
   "execution_count": 11,
   "metadata": {
    "collapsed": false
   },
   "outputs": [
    {
     "name": "stdout",
     "output_type": "stream",
     "text": [
      "n = 123456789\n"
     ]
    },
    {
     "name": "stdout",
     "output_type": "stream",
     "text": [
      "Prime factors of 123456789: 3, 3607, 3803\n",
      "Total time: 23.785 seconds\n"
     ]
    }
   ],
   "source": [
    "from time import time\n",
    "from math import floor, sqrt\n",
    "\n",
    "n = int(input(\"n = \"))\n",
    "\n",
    "st = time()  # staring time\n",
    "pfs_of_n = list(prime_factors(n))\n",
    "dt = time() - st  # time difference\n",
    "\n",
    "print(\"Prime factors of {}: {}\".format(n, \", \".join(str(x) for x in pfs_of_n)))\n",
    "print(\"Total time: {:.3f} seconds\".format(dt))"
   ]
  },
  {
   "cell_type": "markdown",
   "metadata": {},
   "source": [
    "This module also contains functions to convert date to string and vice versa (`strftime`, `strptime`), a function to delay the execution of some part of the code (`sleep`), etc."
   ]
  },
  {
   "cell_type": "markdown",
   "metadata": {
    "slideshow": {
     "slide_type": "subslide"
    }
   },
   "source": [
    "## `random`\n",
    "\n",
    "The [`random` module](https://docs.python.org/3/library/random.html) contains many functions working with pseudo-random numbers (ordinary computers cannot generate truly random numbers, but they can simulate them well enough for many purposes).\n",
    "\n",
    "Among these are `randrange` (returns a pseudo-random element from a \"list\" that the `range` call would produce if called with the same arguments as `randrange`), `randint` (pseudo-random integer between and including the arguments), `choice` (a pseudo-random element form a given sequence), `random` (a pseudo-random `float` in $[0,1)$), `uniform` (a pseudo-random `float` between and (usually) including the arguments), etc.\n",
    "\n",
    "For example:"
   ]
  },
  {
   "cell_type": "code",
   "execution_count": 12,
   "metadata": {
    "collapsed": false
   },
   "outputs": [
    {
     "name": "stdout",
     "output_type": "stream",
     "text": [
      "Five pseudo-random numbers in [17,19]:\n",
      " [18.3034216222976, 18.43811970165947, 17.6760784585337, 17.0215038397719, 18.17486819105332]\n"
     ]
    }
   ],
   "source": [
    "from random import uniform\n",
    "\n",
    "print(\"Five pseudo-random numbers in [17,19]:\\n\", list(uniform(17,19) for _ in range(5)))"
   ]
  },
  {
   "cell_type": "markdown",
   "metadata": {
    "slideshow": {
     "slide_type": "subslide"
    }
   },
   "source": [
    "Pseudo-random generators have a *seed*: a value that determines how the pseudo-random numbers are to be generated. The seed can be set using the function [`seed`](https://docs.python.org/3/library/random.html#random.seed), which makes it easy to regenerate exactly the same sequence of numbers. For example:"
   ]
  },
  {
   "cell_type": "code",
   "execution_count": 13,
   "metadata": {
    "collapsed": false
   },
   "outputs": [
    {
     "name": "stdout",
     "output_type": "stream",
     "text": [
      "Seed:17\n"
     ]
    },
    {
     "name": "stdout",
     "output_type": "stream",
     "text": [
      "Five pseudo-random numbers in [17,19]:\n",
      " [18.043967819424985, 18.613381554237357, 18.920989548647754, 17.579250755528932, 18.532214875595905]\n",
      "Five pseudo-random numbers in [17,19]:\n",
      " [18.043967819424985, 18.613381554237357, 18.920989548647754, 17.579250755528932, 18.532214875595905]\n"
     ]
    }
   ],
   "source": [
    "import random\n",
    "\n",
    "seed = int(input(\"Seed:\"))\n",
    "\n",
    "random.seed(seed)\n",
    "print(\"Five pseudo-random numbers in [17,19]:\\n\", list(random.uniform(17,19) for _ in range(5)))\n",
    "\n",
    "random.seed(seed)\n",
    "print(\"Five pseudo-random numbers in [17,19]:\\n\", list(random.uniform(17,19) for _ in range(5)))"
   ]
  },
  {
   "cell_type": "markdown",
   "metadata": {
    "slideshow": {
     "slide_type": "subslide"
    }
   },
   "source": [
    "This can be useful for performing pseudo-random numerical tests that we might wish to repeat.\n",
    "\n",
    "For example:"
   ]
  },
  {
   "cell_type": "code",
   "execution_count": 14,
   "metadata": {
    "collapsed": false
   },
   "outputs": [
    {
     "name": "stdout",
     "output_type": "stream",
     "text": [
      "Seed: 2838660839172700364\n",
      "Five pseudo-random numbers in [17,19]:\n",
      " [17.05218659923978, 18.374632899412074, 18.285158590224523, 17.345611750752898, 17.534021038256437]\n",
      "Seed: 2838660839172700364\n",
      "Five pseudo-random numbers in [17,19]:\n",
      " [17.05218659923978, 18.374632899412074, 18.285158590224523, 17.345611750752898, 17.534021038256437]\n"
     ]
    }
   ],
   "source": [
    "import random\n",
    "import sys\n",
    "\n",
    "# This _kinda_ resets to seed to something \"random\"\n",
    "# (a current time or something else, depending on the OS and installed libraries)\n",
    "random.seed()\n",
    "\n",
    "# We generate the numbers for our testing\n",
    "seed = random.randint(0, sys.maxsize)\n",
    "print(\"Seed:\", seed)\n",
    "random.seed(seed)\n",
    "print(\"Five pseudo-random numbers in [17,19]:\\n\", list(random.uniform(17,19) for _ in range(5)))\n",
    "\n",
    "# Later, or even in a different program, we regenerate them,\n",
    "# using the same seed and the same generating algorithm as we did before\n",
    "print(\"Seed:\", seed)\n",
    "random.seed(seed)\n",
    "print(\"Five pseudo-random numbers in [17,19]:\\n\", list(random.uniform(17,19) for _ in range(5)))"
   ]
  },
  {
   "cell_type": "markdown",
   "metadata": {
    "slideshow": {
     "slide_type": "subslide"
    }
   },
   "source": [
    "## `math` and `cmath`\n",
    "\n",
    "The [`math` module](https://docs.python.org/3/library/math.html) provides various functions that work with real numbers:\n",
    "\n",
    "* logarithms (`log`, `log1p`, `log2`, `log10`) and exponents (`exp`, `expm1`),\n",
    "\n",
    "* square root (`sqrt`) and power (`pow`),\n",
    "\n",
    "* rounding functions (`ceil`, `floor`, `trunc`; [`round`](https://docs.python.org/3/library/functions.html#round), however, is a built-in function),\n",
    "\n",
    "* trigonometric functions (`sin`, `cos`, `tan`, `atan` and -- usually more advisable to use -- `atan2`,...),\n",
    "\n",
    "and many more.\n",
    "\n",
    "Many of these functions also have their complex counterparts, provided by [`cmath`](https://docs.python.org/3/library/cmath.html) (along with some other complex number functions).\n",
    "\n",
    "Both of the modules provide constants `pi` and `e`."
   ]
  },
  {
   "cell_type": "code",
   "execution_count": 15,
   "metadata": {
    "collapsed": false
   },
   "outputs": [
    {
     "name": "stdout",
     "output_type": "stream",
     "text": [
      "Number -1 doesn't have a real square root!\n",
      "A complex square root of -1: 1j\n"
     ]
    }
   ],
   "source": [
    "import math\n",
    "import cmath\n",
    "\n",
    "try:\n",
    "    print(\"A real square root of -1:\", math.sqrt(-1))\n",
    "except ValueError:\n",
    "    print(\"Number -1 doesn't have a real square root!\")\n",
    "\n",
    "try:\n",
    "    print(\"A complex square root of -1:\", cmath.sqrt(-1))\n",
    "except ValueError:\n",
    "    print(\"Number -1 doesn't have a complex square root!\")"
   ]
  },
  {
   "cell_type": "markdown",
   "metadata": {
    "slideshow": {
     "slide_type": "subslide"
    }
   },
   "source": [
    "One thing has to be said about the sign function: it doesn't exist, for certain technical reasons. However, one can use [`math.copysign`](https://docs.python.org/3/library/math.html#math.copysign) instead."
   ]
  },
  {
   "cell_type": "code",
   "execution_count": 16,
   "metadata": {
    "collapsed": false
   },
   "outputs": [
    {
     "name": "stdout",
     "output_type": "stream",
     "text": [
      "Sign of -17.19: -1\n"
     ]
    }
   ],
   "source": [
    "import math\n",
    "\n",
    "print(\"Sign of -17.19:\", int(math.copysign(1, -17.19)))"
   ]
  },
  {
   "cell_type": "markdown",
   "metadata": {
    "slideshow": {
     "slide_type": "subslide"
    }
   },
   "source": [
    "## SciPy\n",
    "\n",
    "To quote from the [SciPy website](http://www.scipy.org/):\n",
    "\n",
    "> SciPy (pronounced “Sigh Pie”) is a Python-based ecosystem of open-source software for mathematics, science, and engineering.\n",
    "\n",
    "The packages provided in this exhaustive collection are:\n",
    "\n",
    "* [NumPy](http://numpy.scipy.org/) -- multidimensional arrays (including matrices),\n",
    "\n",
    "* [Matplotlib](http://matplotlib.org/) -- graph plotting,\n",
    "\n",
    "* [Simpy](http://sympy.org/) -- symbolic mathematics,\n",
    "\n",
    "* [SciPy library](http://www.scipy.org/scipylib/index.html) -- scientific computing,\n",
    "\n",
    "* [IPython](http://ipython.org/) -- enhanced interactive console (these lecture are written in its subsystem called IPython Notebook),\n",
    "\n",
    "* [pandas](http://pandas.pydata.org/) -- data structures and analysis.\n",
    "\n",
    "Technically, SciPy doesn't \"come with Python\", but it is widely distributed and easily available to all major Python implementations (currently, it is not completely implemented for QPython on Android)."
   ]
  },
  {
   "cell_type": "markdown",
   "metadata": {
    "slideshow": {
     "slide_type": "subslide"
    }
   },
   "source": [
    "### Matplotlib\n",
    "\n",
    "[Matplotlib](http://matplotlib.org/) is a very powerfull and feature-rich graph plotting library for Python. It's capabilities alone would be enough to fill a whole course, so we provide a simple example of its basic usage:"
   ]
  },
  {
   "cell_type": "code",
   "execution_count": 17,
   "metadata": {
    "collapsed": false
   },
   "outputs": [
    {
     "data": {
      "image/png": "[encoded data removed]",
      "text/plain": [
       "<matplotlib.figure.Figure at 0x7f450eea1cd0>"
      ]
     },
     "metadata": {},
     "output_type": "display_data"
    }
   ],
   "source": [
    "# The following line causes the graph to be displayed inside\n",
    "# this presentation. It should not be used in regular programs,\n",
    "# as the regular Python won't recognize it.\n",
    "%matplotlib inline\n",
    "\n",
    "import matplotlib.pyplot as plt\n",
    "import pylab\n",
    "from math import pi, sin\n",
    "\n",
    "domain = [ 2*pi * t / 100 for t in range(-500, 501) ]\n",
    "image = [ abs(x)**1.5 * sin(x) for x in domain ]\n",
    "\n",
    "pylab.figure()\n",
    "plt.plot(domain, image, 'purple')\n",
    "pylab.xlabel('x')\n",
    "pylab.ylabel('y')\n",
    "pylab.title('title')\n",
    "pylab.show()"
   ]
  },
  {
   "cell_type": "markdown",
   "metadata": {},
   "source": [
    "**Hint:** You don't always have to display the plot. Instead, you can also [save it as an image file](http://matplotlib.org/api/pyplot_api.html#matplotlib.pyplot.savefig)."
   ]
  },
  {
   "cell_type": "markdown",
   "metadata": {
    "slideshow": {
     "slide_type": "subslide"
    }
   },
   "source": [
    "### NumPy\n",
    "\n",
    "[NumPy](http://numpy.scipy.org/) offers a very advanced support for multi-dimensional arrays and matrices, along with high-level mathematical functions to operate on them.\n",
    "\n",
    "The basic object is `ndarray` that incorporates these arrays and it is created by NumPy functions `array`, `arange`, and [many more](http://docs.scipy.org/doc/numpy/reference/routines.array-creation.html). These objects are quite different from Python lists:\n",
    "\n",
    "* all the elements of `ndarray` must be of the same type,\n",
    "\n",
    "* all the elements of `ndarray` must occupy a contiguous block of memory,\n",
    "\n",
    "* (obviously) more than one dimension can be used, so there is no need for \"array of arrays\" to simulate more than one dimension,\n",
    "\n",
    "* very advanced (MATLAB-like) indexing.\n",
    "\n",
    "While some of these features may seem limiting, they actually improve performance and make the code compatible with the code written in faster languages like C and FORTRAN (an old language which is still the backbone of the fastest numerical libraries; the name comes from \"FORmula TRANslation\")."
   ]
  },
  {
   "cell_type": "markdown",
   "metadata": {
    "slideshow": {
     "slide_type": "subslide"
    }
   },
   "source": [
    "While NumPy can be imported as any other module (i.e., with `import numpy`), it is customary to import it with an alias `np`:\n",
    "\n",
    "```python\n",
    "import numpy as np\n",
    "```\n",
    "\n",
    "Functions in NumPy go from \"ordinary\" [mathematical ones](http://docs.scipy.org/doc/numpy/reference/routines.math.html) applicable to whole arrays (for example, trigonometric, hyperbolic, and rounding functions) and those for [array manipulation](http://docs.scipy.org/doc/numpy/reference/routines.array-manipulation.html) (like transpose and reshaping), to those for [discrete Fourier transforms](http://docs.scipy.org/doc/numpy/reference/routines.fft.html), [finance computations](http://docs.scipy.org/doc/numpy/reference/routines.financial.html), [linear algebra](http://docs.scipy.org/doc/numpy/reference/routines.linalg.html), [random sampling](http://docs.scipy.org/doc/numpy/reference/routines.random.html) with support for various probability distributions, [statistics](http://docs.scipy.org/doc/numpy/reference/routines.statistics.html), etc.\n",
    "\n",
    "The detailed NumPy reference can be found [here](http://docs.scipy.org/doc/numpy/reference/)."
   ]
  },
  {
   "cell_type": "markdown",
   "metadata": {
    "slideshow": {
     "slide_type": "subslide"
    }
   },
   "source": [
    "**Problem:** Solve the following system of linear equations:\n",
    "\n",
    "$$\\begin{array}{rcrcrcl}\n",
    "2x &+&  y &+&  3z &=& 1 \\\\\n",
    "2x &+& 6y &+&  8z &=& 3 \\\\\n",
    "6x &+& 8y &+& 18z &=& 5.\n",
    "\\end{array}$$\n",
    "\n",
    "If the solution doesn't exist, recognize that case. If there are infinitely many solutions, produce one of them."
   ]
  },
  {
   "cell_type": "code",
   "execution_count": 18,
   "metadata": {
    "collapsed": false
   },
   "outputs": [
    {
     "name": "stdout",
     "output_type": "stream",
     "text": [
      "Solution:\n",
      " [  3.00000000e-01   4.00000000e-01  -5.55111512e-17]\n"
     ]
    }
   ],
   "source": [
    "import numpy as np\n",
    "\n",
    "A = np.array([\n",
    "    [2, 1,  3],\n",
    "    [2, 6,  8],\n",
    "    [6, 8, 18]\n",
    "])\n",
    "b = np.array([1, 3, 5])\n",
    "x = np.linalg.solve(A, b)\n",
    "print(\"Solution:\\n\", x)"
   ]
  },
  {
   "cell_type": "markdown",
   "metadata": {
    "slideshow": {
     "slide_type": "subslide"
    }
   },
   "source": [
    "Let us verify the solution:"
   ]
  },
  {
   "cell_type": "code",
   "execution_count": 19,
   "metadata": {
    "collapsed": false
   },
   "outputs": [
    {
     "name": "stdout",
     "output_type": "stream",
     "text": [
      "True\n"
     ]
    }
   ],
   "source": [
    "print(np.allclose(np.dot(A, x), b))"
   ]
  },
  {
   "cell_type": "markdown",
   "metadata": {
    "slideshow": {
     "slide_type": "subslide"
    }
   },
   "source": [
    "However, `numpy.linalg.solve` doesn't work if the coefficient matrix $A$ is singular. For example,\n",
    "\n",
    "$$\\begin{array}{rcrcrcl}\n",
    "2x &+&  y &+&  3z &=& 1 \\\\\n",
    "2x &+& 6y &+&  8z &=& 3 \\\\\n",
    "6x &+& 3y &+& 9z &=& 5.\n",
    "\\end{array}$$"
   ]
  },
  {
   "cell_type": "code",
   "execution_count": 20,
   "metadata": {
    "collapsed": false
   },
   "outputs": [
    {
     "ename": "LinAlgError",
     "evalue": "Singular matrix",
     "output_type": "error",
     "traceback": [
      "\u001b[1;31m---------------------------------------------------------------------------\u001b[0m\n\u001b[1;31mLinAlgError\u001b[0m                               Traceback (most recent call last)",
      "\u001b[1;32m<ipython-input-20-c7b6201d97c6>\u001b[0m in \u001b[0;36m<module>\u001b[1;34m()\u001b[0m\n\u001b[0;32m      7\u001b[0m ])\n\u001b[0;32m      8\u001b[0m \u001b[0mb\u001b[0m \u001b[1;33m=\u001b[0m \u001b[0mnp\u001b[0m\u001b[1;33m.\u001b[0m\u001b[0marray\u001b[0m\u001b[1;33m(\u001b[0m\u001b[1;33m[\u001b[0m\u001b[1;36m1\u001b[0m\u001b[1;33m,\u001b[0m \u001b[1;36m3\u001b[0m\u001b[1;33m,\u001b[0m \u001b[1;36m5\u001b[0m\u001b[1;33m]\u001b[0m\u001b[1;33m)\u001b[0m\u001b[1;33m\u001b[0m\u001b[0m\n\u001b[1;32m----> 9\u001b[1;33m \u001b[0mx\u001b[0m \u001b[1;33m=\u001b[0m \u001b[0mnp\u001b[0m\u001b[1;33m.\u001b[0m\u001b[0mlinalg\u001b[0m\u001b[1;33m.\u001b[0m\u001b[0msolve\u001b[0m\u001b[1;33m(\u001b[0m\u001b[0mA\u001b[0m\u001b[1;33m,\u001b[0m \u001b[0mb\u001b[0m\u001b[1;33m)\u001b[0m\u001b[1;33m\u001b[0m\u001b[0m\n\u001b[0m\u001b[0;32m     10\u001b[0m \u001b[0mprint\u001b[0m\u001b[1;33m(\u001b[0m\u001b[1;34m\"Solution:\\n\"\u001b[0m\u001b[1;33m,\u001b[0m \u001b[0mx\u001b[0m\u001b[1;33m)\u001b[0m\u001b[1;33m\u001b[0m\u001b[0m\n",
      "\u001b[1;32m/usr/lib64/python3.3/site-packages/numpy/linalg/linalg.py\u001b[0m in \u001b[0;36msolve\u001b[1;34m(a, b)\u001b[0m\n\u001b[0;32m    379\u001b[0m     \u001b[0msignature\u001b[0m \u001b[1;33m=\u001b[0m \u001b[1;34m'DD->D'\u001b[0m \u001b[1;32mif\u001b[0m \u001b[0misComplexType\u001b[0m\u001b[1;33m(\u001b[0m\u001b[0mt\u001b[0m\u001b[1;33m)\u001b[0m \u001b[1;32melse\u001b[0m \u001b[1;34m'dd->d'\u001b[0m\u001b[1;33m\u001b[0m\u001b[0m\n\u001b[0;32m    380\u001b[0m     \u001b[0mextobj\u001b[0m \u001b[1;33m=\u001b[0m \u001b[0mget_linalg_error_extobj\u001b[0m\u001b[1;33m(\u001b[0m\u001b[0m_raise_linalgerror_singular\u001b[0m\u001b[1;33m)\u001b[0m\u001b[1;33m\u001b[0m\u001b[0m\n\u001b[1;32m--> 381\u001b[1;33m     \u001b[0mr\u001b[0m \u001b[1;33m=\u001b[0m \u001b[0mgufunc\u001b[0m\u001b[1;33m(\u001b[0m\u001b[0ma\u001b[0m\u001b[1;33m,\u001b[0m \u001b[0mb\u001b[0m\u001b[1;33m,\u001b[0m \u001b[0msignature\u001b[0m\u001b[1;33m=\u001b[0m\u001b[0msignature\u001b[0m\u001b[1;33m,\u001b[0m \u001b[0mextobj\u001b[0m\u001b[1;33m=\u001b[0m\u001b[0mextobj\u001b[0m\u001b[1;33m)\u001b[0m\u001b[1;33m\u001b[0m\u001b[0m\n\u001b[0m\u001b[0;32m    382\u001b[0m \u001b[1;33m\u001b[0m\u001b[0m\n\u001b[0;32m    383\u001b[0m     \u001b[1;32mreturn\u001b[0m \u001b[0mwrap\u001b[0m\u001b[1;33m(\u001b[0m\u001b[0mr\u001b[0m\u001b[1;33m.\u001b[0m\u001b[0mastype\u001b[0m\u001b[1;33m(\u001b[0m\u001b[0mresult_t\u001b[0m\u001b[1;33m)\u001b[0m\u001b[1;33m)\u001b[0m\u001b[1;33m\u001b[0m\u001b[0m\n",
      "\u001b[1;32m/usr/lib64/python3.3/site-packages/numpy/linalg/linalg.py\u001b[0m in \u001b[0;36m_raise_linalgerror_singular\u001b[1;34m(err, flag)\u001b[0m\n\u001b[0;32m     88\u001b[0m \u001b[1;33m\u001b[0m\u001b[0m\n\u001b[0;32m     89\u001b[0m \u001b[1;32mdef\u001b[0m \u001b[0m_raise_linalgerror_singular\u001b[0m\u001b[1;33m(\u001b[0m\u001b[0merr\u001b[0m\u001b[1;33m,\u001b[0m \u001b[0mflag\u001b[0m\u001b[1;33m)\u001b[0m\u001b[1;33m:\u001b[0m\u001b[1;33m\u001b[0m\u001b[0m\n\u001b[1;32m---> 90\u001b[1;33m     \u001b[1;32mraise\u001b[0m \u001b[0mLinAlgError\u001b[0m\u001b[1;33m(\u001b[0m\u001b[1;34m\"Singular matrix\"\u001b[0m\u001b[1;33m)\u001b[0m\u001b[1;33m\u001b[0m\u001b[0m\n\u001b[0m\u001b[0;32m     91\u001b[0m \u001b[1;33m\u001b[0m\u001b[0m\n\u001b[0;32m     92\u001b[0m \u001b[1;32mdef\u001b[0m \u001b[0m_raise_linalgerror_nonposdef\u001b[0m\u001b[1;33m(\u001b[0m\u001b[0merr\u001b[0m\u001b[1;33m,\u001b[0m \u001b[0mflag\u001b[0m\u001b[1;33m)\u001b[0m\u001b[1;33m:\u001b[0m\u001b[1;33m\u001b[0m\u001b[0m\n",
      "\u001b[1;31mLinAlgError\u001b[0m: Singular matrix"
     ]
    }
   ],
   "source": [
    "import numpy as np\n",
    "\n",
    "A = np.array([\n",
    "    [2, 1, 3],\n",
    "    [2, 6, 8],\n",
    "    [6, 3, 9]\n",
    "])\n",
    "b = np.array([1, 3, 5])\n",
    "x = np.linalg.solve(A, b)\n",
    "print(\"Solution:\\n\", x)"
   ]
  },
  {
   "cell_type": "markdown",
   "metadata": {
    "slideshow": {
     "slide_type": "subslide"
    }
   },
   "source": [
    "Luckily, we can always look for the least-squares best \"solution\". The function `numpy.linalg.lstsq` returns the vector $x$ of a minimum norm such that $\\|Ax - b\\|$ is also minimum. Such $x$ may or may not be a solution of the equation $Ax = b$, but it is certainly the closest one in $2$-norm.\n",
    "\n",
    "Let us find one such $x$ for the above problem:"
   ]
  },
  {
   "cell_type": "code",
   "execution_count": 21,
   "metadata": {
    "collapsed": false
   },
   "outputs": [
    {
     "name": "stdout",
     "output_type": "stream",
     "text": [
      "Solution:\n",
      " [ 0.34666667 -0.03333333  0.31333333]\n"
     ]
    }
   ],
   "source": [
    "import numpy as np\n",
    "\n",
    "A = np.array([\n",
    "    [2, 1, 3],\n",
    "    [2, 6, 8],\n",
    "    [6, 3, 9]\n",
    "])\n",
    "b = np.array([1, 3, 5])\n",
    "x, residuals, rank, s = np.linalg.lstsq(A, b)\n",
    "print(\"Solution:\\n\", x)"
   ]
  },
  {
   "cell_type": "markdown",
   "metadata": {
    "slideshow": {
     "slide_type": "subslide"
    }
   },
   "source": [
    "Let us verify the solution:"
   ]
  },
  {
   "cell_type": "code",
   "execution_count": 22,
   "metadata": {
    "collapsed": false
   },
   "outputs": [
    {
     "name": "stdout",
     "output_type": "stream",
     "text": [
      "False\n",
      "[  6.00000000e-01   4.44089210e-16  -2.00000000e-01]\n"
     ]
    }
   ],
   "source": [
    "print(np.allclose(np.dot(A, x), b))\n",
    "\n",
    "print(np.dot(A, x) - b)"
   ]
  },
  {
   "cell_type": "markdown",
   "metadata": {},
   "source": [
    "So, the obtained `x` is not a solution of our system, but it is as close to being one as possible (in terms of the $2$-norm). Hence, we conclude that our system has no solutions (and provide the $x$ that is, in a way, the best one to take the role)."
   ]
  },
  {
   "cell_type": "markdown",
   "metadata": {
    "slideshow": {
     "slide_type": "subslide"
    }
   },
   "source": [
    "Now, let us now try a singular but consistent system:\n",
    "\n",
    "$$\\begin{array}{rcrcrcl}\n",
    "2x &+&  y &+&  3z &=& 1 \\\\\n",
    "2x &+& 6y &+&  8z &=& 3 \\\\\n",
    "6x &+& 3y &+& 9z &=& \\!\\color{red}{\\not\\!5}\\ 3.\n",
    "\\end{array}$$"
   ]
  },
  {
   "cell_type": "markdown",
   "metadata": {
    "slideshow": {
     "slide_type": "subslide"
    }
   },
   "source": [
    "Again, `numpy.linalg.solve` will not work because `A` is singular:"
   ]
  },
  {
   "cell_type": "code",
   "execution_count": 23,
   "metadata": {
    "collapsed": false
   },
   "outputs": [
    {
     "ename": "LinAlgError",
     "evalue": "Singular matrix",
     "output_type": "error",
     "traceback": [
      "\u001b[1;31m---------------------------------------------------------------------------\u001b[0m\n\u001b[1;31mLinAlgError\u001b[0m                               Traceback (most recent call last)",
      "\u001b[1;32m<ipython-input-23-686522882620>\u001b[0m in \u001b[0;36m<module>\u001b[1;34m()\u001b[0m\n\u001b[0;32m      7\u001b[0m ])\n\u001b[0;32m      8\u001b[0m \u001b[0mb\u001b[0m \u001b[1;33m=\u001b[0m \u001b[0mnp\u001b[0m\u001b[1;33m.\u001b[0m\u001b[0marray\u001b[0m\u001b[1;33m(\u001b[0m\u001b[1;33m[\u001b[0m\u001b[1;36m1\u001b[0m\u001b[1;33m,\u001b[0m \u001b[1;36m3\u001b[0m\u001b[1;33m,\u001b[0m \u001b[1;36m3\u001b[0m\u001b[1;33m]\u001b[0m\u001b[1;33m)\u001b[0m\u001b[1;33m\u001b[0m\u001b[0m\n\u001b[1;32m----> 9\u001b[1;33m \u001b[0mx\u001b[0m \u001b[1;33m=\u001b[0m \u001b[0mnp\u001b[0m\u001b[1;33m.\u001b[0m\u001b[0mlinalg\u001b[0m\u001b[1;33m.\u001b[0m\u001b[0msolve\u001b[0m\u001b[1;33m(\u001b[0m\u001b[0mA\u001b[0m\u001b[1;33m,\u001b[0m \u001b[0mb\u001b[0m\u001b[1;33m)\u001b[0m\u001b[1;33m\u001b[0m\u001b[0m\n\u001b[0m\u001b[0;32m     10\u001b[0m \u001b[0mprint\u001b[0m\u001b[1;33m(\u001b[0m\u001b[1;34m\"Solution:\\n\"\u001b[0m\u001b[1;33m,\u001b[0m \u001b[0mx\u001b[0m\u001b[1;33m)\u001b[0m\u001b[1;33m\u001b[0m\u001b[0m\n",
      "\u001b[1;32m/usr/lib64/python3.3/site-packages/numpy/linalg/linalg.py\u001b[0m in \u001b[0;36msolve\u001b[1;34m(a, b)\u001b[0m\n\u001b[0;32m    379\u001b[0m     \u001b[0msignature\u001b[0m \u001b[1;33m=\u001b[0m \u001b[1;34m'DD->D'\u001b[0m \u001b[1;32mif\u001b[0m \u001b[0misComplexType\u001b[0m\u001b[1;33m(\u001b[0m\u001b[0mt\u001b[0m\u001b[1;33m)\u001b[0m \u001b[1;32melse\u001b[0m \u001b[1;34m'dd->d'\u001b[0m\u001b[1;33m\u001b[0m\u001b[0m\n\u001b[0;32m    380\u001b[0m     \u001b[0mextobj\u001b[0m \u001b[1;33m=\u001b[0m \u001b[0mget_linalg_error_extobj\u001b[0m\u001b[1;33m(\u001b[0m\u001b[0m_raise_linalgerror_singular\u001b[0m\u001b[1;33m)\u001b[0m\u001b[1;33m\u001b[0m\u001b[0m\n\u001b[1;32m--> 381\u001b[1;33m     \u001b[0mr\u001b[0m \u001b[1;33m=\u001b[0m \u001b[0mgufunc\u001b[0m\u001b[1;33m(\u001b[0m\u001b[0ma\u001b[0m\u001b[1;33m,\u001b[0m \u001b[0mb\u001b[0m\u001b[1;33m,\u001b[0m \u001b[0msignature\u001b[0m\u001b[1;33m=\u001b[0m\u001b[0msignature\u001b[0m\u001b[1;33m,\u001b[0m \u001b[0mextobj\u001b[0m\u001b[1;33m=\u001b[0m\u001b[0mextobj\u001b[0m\u001b[1;33m)\u001b[0m\u001b[1;33m\u001b[0m\u001b[0m\n\u001b[0m\u001b[0;32m    382\u001b[0m \u001b[1;33m\u001b[0m\u001b[0m\n\u001b[0;32m    383\u001b[0m     \u001b[1;32mreturn\u001b[0m \u001b[0mwrap\u001b[0m\u001b[1;33m(\u001b[0m\u001b[0mr\u001b[0m\u001b[1;33m.\u001b[0m\u001b[0mastype\u001b[0m\u001b[1;33m(\u001b[0m\u001b[0mresult_t\u001b[0m\u001b[1;33m)\u001b[0m\u001b[1;33m)\u001b[0m\u001b[1;33m\u001b[0m\u001b[0m\n",
      "\u001b[1;32m/usr/lib64/python3.3/site-packages/numpy/linalg/linalg.py\u001b[0m in \u001b[0;36m_raise_linalgerror_singular\u001b[1;34m(err, flag)\u001b[0m\n\u001b[0;32m     88\u001b[0m \u001b[1;33m\u001b[0m\u001b[0m\n\u001b[0;32m     89\u001b[0m \u001b[1;32mdef\u001b[0m \u001b[0m_raise_linalgerror_singular\u001b[0m\u001b[1;33m(\u001b[0m\u001b[0merr\u001b[0m\u001b[1;33m,\u001b[0m \u001b[0mflag\u001b[0m\u001b[1;33m)\u001b[0m\u001b[1;33m:\u001b[0m\u001b[1;33m\u001b[0m\u001b[0m\n\u001b[1;32m---> 90\u001b[1;33m     \u001b[1;32mraise\u001b[0m \u001b[0mLinAlgError\u001b[0m\u001b[1;33m(\u001b[0m\u001b[1;34m\"Singular matrix\"\u001b[0m\u001b[1;33m)\u001b[0m\u001b[1;33m\u001b[0m\u001b[0m\n\u001b[0m\u001b[0;32m     91\u001b[0m \u001b[1;33m\u001b[0m\u001b[0m\n\u001b[0;32m     92\u001b[0m \u001b[1;32mdef\u001b[0m \u001b[0m_raise_linalgerror_nonposdef\u001b[0m\u001b[1;33m(\u001b[0m\u001b[0merr\u001b[0m\u001b[1;33m,\u001b[0m \u001b[0mflag\u001b[0m\u001b[1;33m)\u001b[0m\u001b[1;33m:\u001b[0m\u001b[1;33m\u001b[0m\u001b[0m\n",
      "\u001b[1;31mLinAlgError\u001b[0m: Singular matrix"
     ]
    }
   ],
   "source": [
    "import numpy as np\n",
    "\n",
    "A = np.array([\n",
    "    [2, 1, 3],\n",
    "    [2, 6, 8],\n",
    "    [6, 3, 9]\n",
    "])\n",
    "b = np.array([1, 3, 3])\n",
    "x = np.linalg.solve(A, b)\n",
    "print(\"Solution:\\n\", x)"
   ]
  },
  {
   "cell_type": "markdown",
   "metadata": {
    "slideshow": {
     "slide_type": "subslide"
    }
   },
   "source": [
    "However, using least squares, we can find one $x$ such that $\\|Ax-b\\|$ is minimum, as we did before:"
   ]
  },
  {
   "cell_type": "code",
   "execution_count": 24,
   "metadata": {
    "collapsed": false
   },
   "outputs": [
    {
     "name": "stdout",
     "output_type": "stream",
     "text": [
      "Solution:\n",
      " [ 0.06666667  0.16666667  0.23333333]\n"
     ]
    }
   ],
   "source": [
    "import numpy as np\n",
    "\n",
    "A = np.array([\n",
    "    [2, 1, 3],\n",
    "    [2, 6, 8],\n",
    "    [6, 3, 9]\n",
    "])\n",
    "b = np.array([1, 3, 3])\n",
    "x, residuals, rank, s = np.linalg.lstsq(A, b)\n",
    "print(\"Solution:\\n\", x)"
   ]
  },
  {
   "cell_type": "markdown",
   "metadata": {
    "slideshow": {
     "slide_type": "subslide"
    }
   },
   "source": [
    "Is this $x$ a solution? Let us check:"
   ]
  },
  {
   "cell_type": "code",
   "execution_count": 25,
   "metadata": {
    "collapsed": false
   },
   "outputs": [
    {
     "name": "stdout",
     "output_type": "stream",
     "text": [
      "True\n",
      "[  8.88178420e-16   1.33226763e-15   2.66453526e-15]\n"
     ]
    }
   ],
   "source": [
    "print(np.allclose(np.dot(A, x), b))\n",
    "\n",
    "print(np.dot(A, x) - b)"
   ]
  },
  {
   "cell_type": "markdown",
   "metadata": {},
   "source": [
    "Yes, it is, so we conclude that this system has infinitely many solutions, with the above $x$ being the one of the minimum $2$-norm."
   ]
  },
  {
   "cell_type": "markdown",
   "metadata": {
    "slideshow": {
     "slide_type": "subslide"
    }
   },
   "source": [
    "Matrix product is defined by `dot` function, but it can be impractical to use it on bigger formulas. However, the standard product `*` works as the matrix product between matrices defined by `matrix`.\n",
    "\n",
    "For example, let us verify the following well known special case of the [Woodbury matrix identity](http://en.wikipedia.org/wiki/Woodbury_matrix_identity):\n",
    "\n",
    "$$({\\rm I} + AB)^{-1} = {\\rm I} - A({\\rm I} + BA)^{-1}B.$$\n",
    "\n",
    "More precisely, we shall compute\n",
    "\n",
    "$$X := ({\\rm I} + AB)^{-1} - ({\\rm I} - A({\\rm I} + BA)^{-1}B)$$\n",
    "\n",
    "for random matrices $A$ and $B$ of order $n$."
   ]
  },
  {
   "cell_type": "code",
   "execution_count": 26,
   "metadata": {
    "collapsed": false
   },
   "outputs": [
    {
     "name": "stdout",
     "output_type": "stream",
     "text": [
      "A =\n",
      " [[ 0.15542543  0.23372871  0.04481062]\n",
      " [ 0.12098013  0.73534217  0.01049894]\n",
      " [ 0.88187096  0.15327166  0.08771079]]\n",
      "B =\n",
      " [[ 0.73894572  0.64880631  0.55002045]\n",
      " [ 0.39019079  0.2541576   0.88252675]\n",
      " [ 0.0051103   0.38396904  0.95885618]]\n",
      "X =\n",
      " [[  1.11022302e-16  -6.93889390e-18   2.77555756e-17]\n",
      " [  2.77555756e-17   0.00000000e+00   1.11022302e-16]\n",
      " [  5.55111512e-17   1.11022302e-16  -1.11022302e-16]]\n",
      "det X = -1.34707341389e-48\n",
      "|X|_F = 2.32323452737e-16\n",
      "evals(X) =\n",
      "     6.02024694174e-17\n",
      "     1.22482516904e-16\n",
      "     -1.82684986322e-16\n",
      "|evals(X)| = [6.02e-17, 1.225e-16, 1.827e-16]\n",
      "min |evals(X)| = 6.020e-17\n"
     ]
    }
   ],
   "source": [
    "import numpy as np\n",
    "from numpy import linalg as la\n",
    "\n",
    "n = 3\n",
    "\n",
    "I = np.matrix(np.identity(n))\n",
    "\n",
    "while True:\n",
    "    try:\n",
    "        A = np.matrix(np.random.rand(n, n))\n",
    "        B = np.matrix(np.random.rand(n, n))\n",
    "        X = la.inv(I + A*B) - (I - A * la.inv(I + B*A) * B)\n",
    "    except LinAlgError:\n",
    "        # An exception will occur if one or both of the inverted matrices\n",
    "        # are singular or very near it (very ill-conditioned). In this case,\n",
    "        # we ignore the error, which will allow the loop to retry with\n",
    "        # a new pair of random matrices.\n",
    "        pass\n",
    "    else:\n",
    "        print(\"A =\\n\", A)\n",
    "        print(\"B =\\n\", B)\n",
    "        print(\"X =\\n\", X)\n",
    "        print(\"det X =\", la.det(X))\n",
    "        print(\"|X|_F =\", la.norm(X))\n",
    "        print(\"evals(X) =\\n\", *[\"    %s\\n\" % str(x) for x in la.eigvals(X)], end=\"\")\n",
    "        print(\"|evals(X)| =\", [float(\"%.3e\" % abs(x)) for x in la.eigvals(X)])\n",
    "        print(\"min |evals(X)| = %.3e\" % min(abs(x) for x in la.eigvals(X)))\n",
    "        break"
   ]
  },
  {
   "cell_type": "markdown",
   "metadata": {
    "slideshow": {
     "slide_type": "subslide"
    }
   },
   "source": [
    "### SciPy library\n",
    "\n",
    "[SciPy library](http://docs.scipy.org/doc/scipy/reference/) has some overlap with NumPy, for example in [linear algebra](http://docs.scipy.org/doc/scipy/reference/tutorial/linalg.html) and [statistics](http://docs.scipy.org/doc/scipy/reference/tutorial/stats.html) functions. This difference is best described by [SciPy's FAQ](http://www.scipy.org/scipylib/faq.html#what-is-the-difference-between-numpy-and-scipy):\n",
    "\n",
    "> #### What is the difference between NumPy and SciPy?\n",
    "\n",
    "> In an ideal world, NumPy would contain nothing but the array data type and the most basic operations: indexing, sorting, reshaping, basic elementwise functions, et cetera. All numerical code would reside in SciPy. However, one of NumPy’s important goals is compatibility, so NumPy tries to retain all features supported by either of its predecessors. Thus NumPy contains some linear algebra functions, even though these more properly belong in SciPy. In any case, SciPy contains more fully-featured versions of the linear algebra modules, as well as many other numerical algorithms. If you are doing scientific computing with python, you should probably install both NumPy and SciPy. Most new features belong in SciPy rather than NumPy.\n",
    "\n",
    "Let us repeat the previous example using the functions from SciPy library:"
   ]
  },
  {
   "cell_type": "code",
   "execution_count": 27,
   "metadata": {
    "collapsed": false
   },
   "outputs": [
    {
     "name": "stdout",
     "output_type": "stream",
     "text": [
      "A =\n",
      " [[ 0.57035626  0.39711871  0.91761278]\n",
      " [ 0.00964693  0.98443981  0.61974803]\n",
      " [ 0.69922559  0.87881829  0.35047373]]\n",
      "B =\n",
      " [[ 0.24316298  0.7116132   0.89053149]\n",
      " [ 0.35254371  0.65245094  0.21809409]\n",
      " [ 0.80378795  0.03935574  0.8740063 ]]\n",
      "X =\n",
      " [[  0.00000000e+00  -4.51028104e-17  -5.55111512e-17]\n",
      " [  0.00000000e+00   0.00000000e+00  -2.77555756e-17]\n",
      " [  0.00000000e+00  -1.11022302e-16   0.00000000e+00]]\n",
      "det X = 0.0\n",
      "|X|_F = 1.34952121275e-16\n",
      "evals(X) =\n",
      "     0j\n",
      "     (-5.55111512313e-17+0j)\n",
      "     (5.55111512313e-17+0j)\n",
      "|evals(X)| = [0.0, 5.551e-17, 5.551e-17]\n",
      "min |evals(X)| = 0.000e+00\n"
     ]
    }
   ],
   "source": [
    "import numpy as np\n",
    "from scipy import linalg as la\n",
    "\n",
    "n = 3\n",
    "\n",
    "I = np.matrix(np.identity(n))\n",
    "\n",
    "while True:\n",
    "    try:\n",
    "        A = np.matrix(np.random.rand(n, n))\n",
    "        B = np.matrix(np.random.rand(n, n))\n",
    "        X = la.inv(I + A*B) - (I - A * la.inv(I + B*A) * B)\n",
    "    except LinAlgError:\n",
    "        # An exception will occur if one or both of the inverted matrices\n",
    "        # are singular or very near it (very ill-conditioned). In this case,\n",
    "        # we ignore the error, which will allow the loop to retry with\n",
    "        # a new pair of random matrices.\n",
    "        pass\n",
    "    else:\n",
    "        print(\"A =\\n\", A)\n",
    "        print(\"B =\\n\", B)\n",
    "        print(\"X =\\n\", X)\n",
    "        print(\"det X =\", la.det(X))\n",
    "        print(\"|X|_F =\", la.norm(X))\n",
    "        print(\"evals(X) =\\n\", *[\"    %s\\n\" % str(x) for x in la.eigvals(X)], end=\"\")\n",
    "        print(\"|evals(X)| =\", [float(\"%.3e\" % abs(x)) for x in la.eigvals(X)])\n",
    "        print(\"min |evals(X)| = %.3e\" % min(abs(x) for x in la.eigvals(X)))\n",
    "        break"
   ]
  },
  {
   "cell_type": "markdown",
   "metadata": {},
   "source": [
    "It is always better to go with the SciPy library functions than their NumPy equivalents, unless the deployment systems are not expected to have the SciPy library installed."
   ]
  },
  {
   "cell_type": "markdown",
   "metadata": {
    "slideshow": {
     "slide_type": "subslide"
    }
   },
   "source": [
    "### Probability distributions\n",
    "\n",
    "Do not hesitate to look on the internet how to solve a problem. However, do remember to properly attribute the code you borrow.\n",
    "\n",
    "Here, we plot the normal distribution on the sets of $10^2$, $10^3$, $10^4$, and $10^5$ randomly chosen points grouped in $100$ \"buckets\" and normalized to achieve the same scale, based on [this example](http://stackoverflow.com/a/15415632/1667018)."
   ]
  },
  {
   "cell_type": "code",
   "execution_count": 28,
   "metadata": {
    "collapsed": false
   },
   "outputs": [
    {
     "data": {
      "image/png": "[encoded data removed]",
      "text/plain": [
       "<matplotlib.figure.Figure at 0x7f45097fa950>"
      ]
     },
     "metadata": {},
     "output_type": "display_data"
    }
   ],
   "source": [
    "%matplotlib inline\n",
    "\n",
    "import numpy as np\n",
    "from scipy.interpolate import UnivariateSpline\n",
    "from matplotlib import pyplot as plt\n",
    "\n",
    "colors = ('#a00000', '#ffa000', '#4040a0', '#008000')\n",
    "n = 100\n",
    "plt.figure(figsize=(12,6), dpi=100)\n",
    "\n",
    "for k in range(2,6):\n",
    "    # The following is a slight modification of askewchan's code from\n",
    "    # http://stackoverflow.com/a/15415632/1667018\n",
    "    N = 10**k\n",
    "    s = np.random.normal(size=N)   # generate your data sample with N elements\n",
    "    p, x = np.histogram(s, bins=n) # bin it into n = N/10 bins\n",
    "    x = x[:-1] + (x[1] - x[0])/2   # convert bin edges to centers\n",
    "    f = UnivariateSpline(x, p, s=n)\n",
    "    plt.plot(\n",
    "        x, f(x) / 10**(k-2),\n",
    "        label=\"N = 10**%d\" % k,\n",
    "        color=colors[k-2],\n",
    "        linewidth=(k-1)**1.7/2\n",
    "    )\n",
    "\n",
    "plt.legend()\n",
    "plt.show()"
   ]
  }
 ],
 "metadata": {},
 "nbformat": 4,
 "nbformat_minor": 0
}
