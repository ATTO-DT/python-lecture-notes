{
 "cells": [
  {
   "cell_type": "markdown",
   "metadata": {
    "slideshow": {
     "slide_type": "slide"
    }
   },
   "source": [
    "# Programming with Python\n",
    "#### Vedran Šego, [vsego.org](http://vsego.org/)\n",
    "\n",
    "## Contents:\n",
    "\n",
    "1. Strings\n",
    "\n",
    "2. Formats\n",
    "\n",
    "3. Generator expressions"
   ]
  },
  {
   "cell_type": "markdown",
   "metadata": {
    "slideshow": {
     "slide_type": "slide"
    }
   },
   "source": [
    "# Strings\n",
    "\n",
    "Strings are usually described as character sequences. However, in Python, they are better described as tuples of characters, in a sense that they function very much like immutable lists."
   ]
  },
  {
   "cell_type": "markdown",
   "metadata": {
    "slideshow": {
     "slide_type": "subslide"
    }
   },
   "source": [
    "A string literal can be defined in the following ways:"
   ]
  },
  {
   "cell_type": "code",
   "execution_count": null,
   "metadata": {
    "collapsed": false
   },
   "outputs": [],
   "source": [
    "string1 = 'This string is enclosed in single quotes, so we can use \"double quotes\" easily.'\n",
    "string2 = \"This string is enclosed in double quotes, so we can use 'single quotes' easily.\"\n",
    "string3 = '''Triple quotes make it easy to put\n",
    "anything (but those same triple quotes) in a string,\n",
    "even a new line character!'''\n",
    "string4 = \"\"\"Triple quotes make it easy to put\n",
    "anything (but those same triple quotes) in a string,\n",
    "even a new line character!\"\"\"\n",
    "print(\"String 1: \", string1)\n",
    "print(\"String 2: \", string2)\n",
    "print(\"String 3: \", string3)\n",
    "print(\"String 4: \", string4)"
   ]
  },
  {
   "cell_type": "markdown",
   "metadata": {
    "slideshow": {
     "slide_type": "subslide"
    }
   },
   "source": [
    "Character sequences starting with a backslash (`\\`) have a special meaning. Some of them can be seen here:"
   ]
  },
  {
   "cell_type": "code",
   "execution_count": null,
   "metadata": {
    "collapsed": false
   },
   "outputs": [],
   "source": [
    "print(\"Literal backslash: '\\\\'\")\n",
    "print(\"Quotes: \\\"...\\\"\")\n",
    "print(\"Quotes: '...'\")\n",
    "print('Quotes: \"...\"')\n",
    "print('Quotes: \\'...\\'')\n",
    "print(\"New line: \\\"new\\nline\\\"\")"
   ]
  },
  {
   "cell_type": "markdown",
   "metadata": {},
   "source": [
    "So, `\\\\` inside a string means a single backslash (`\\`), '\\n' means new-line character, `\\\"` and `\\'` mean quotation marks (instead of the end of the string), etc. This is called *string escaping* and the backslash is called an [*escape character*](http://en.wikipedia.org/wiki/Escape_character)."
   ]
  },
  {
   "cell_type": "markdown",
   "metadata": {
    "slideshow": {
     "slide_type": "subslide"
    }
   },
   "source": [
    "More about string literals can be read in the [official reference](https://docs.python.org/3/reference/lexical_analysis.html#literals)."
   ]
  },
  {
   "cell_type": "markdown",
   "metadata": {
    "slideshow": {
     "slide_type": "subslide"
    }
   },
   "source": [
    "If we need to put many backslashes in a string (required by some applications, for example, regular expressions), we can also define so called *raw strings*, by prepending a string literal with `r`:"
   ]
  },
  {
   "cell_type": "code",
   "execution_count": null,
   "metadata": {
    "collapsed": false
   },
   "outputs": [],
   "source": [
    "print(r\"Double backslash: '\\\\'\")\n",
    "print(r\"Quotes prepended with backslashes: \\\"...\\\"\")\n",
    "print(r\"Quotes: '...'\")\n",
    "print(r'Quotes: \"...\"')\n",
    "print(r'Quotes prepended with backslashes: \\'...\\'')\n",
    "print(r\"No new line, just a bunch of backslashes: \\\"new\\nline\\\"\")"
   ]
  },
  {
   "cell_type": "markdown",
   "metadata": {
    "slideshow": {
     "slide_type": "subslide"
    }
   },
   "source": [
    "As we have already seen, `print` can be used to print a string:"
   ]
  },
  {
   "cell_type": "code",
   "execution_count": null,
   "metadata": {
    "collapsed": false
   },
   "outputs": [],
   "source": [
    "print(string1)\n",
    "print(string2)\n",
    "print(string3)\n",
    "print(string4)"
   ]
  },
  {
   "cell_type": "markdown",
   "metadata": {
    "slideshow": {
     "slide_type": "subslide"
    }
   },
   "source": [
    "In fact, we have been using this since we first encountered `print`:"
   ]
  },
  {
   "cell_type": "code",
   "execution_count": null,
   "metadata": {
    "collapsed": false
   },
   "outputs": [],
   "source": [
    "print(\"Hello, World!\")"
   ]
  },
  {
   "cell_type": "markdown",
   "metadata": {
    "slideshow": {
     "slide_type": "subslide"
    }
   },
   "source": [
    "We have also seen how to load a string:"
   ]
  },
  {
   "cell_type": "code",
   "execution_count": null,
   "metadata": {
    "collapsed": false
   },
   "outputs": [],
   "source": [
    "x = input(\"Type a string: \")\n",
    "print(\"Here is your string:\", x)"
   ]
  },
  {
   "cell_type": "markdown",
   "metadata": {
    "slideshow": {
     "slide_type": "subslide"
    }
   },
   "source": [
    "and how to convert it to an integer or a \"real\" number:"
   ]
  },
  {
   "cell_type": "code",
   "execution_count": null,
   "metadata": {
    "collapsed": false
   },
   "outputs": [],
   "source": [
    "x = \" -17 \"\n",
    "y = \"  -1.719e1  \"\n",
    "z = 17.19\n",
    "print(\"(x, y) =\", (x, y))\n",
    "print(\"x =\", '\"' + x + '\"')\n",
    "print(\"y =\", '\"' + y + '\"')\n",
    "print(\"int(x) =\", int(x))\n",
    "print(\"float(y) =\", float(y))\n",
    "print(\"str(z) =\", '\"' + str(z) + '\"')"
   ]
  },
  {
   "cell_type": "markdown",
   "metadata": {
    "slideshow": {
     "slide_type": "subslide"
    }
   },
   "source": [
    "Of course, if the string contains something other than an integer or a \"real\" number, an error occurs. For example:"
   ]
  },
  {
   "cell_type": "code",
   "execution_count": null,
   "metadata": {
    "collapsed": false
   },
   "outputs": [],
   "source": [
    "print(float(\"17.19+11.13\"))"
   ]
  },
  {
   "cell_type": "markdown",
   "metadata": {
    "slideshow": {
     "slide_type": "subslide"
    }
   },
   "source": [
    "Standard list/tuple operations work as we've seen with lists:"
   ]
  },
  {
   "cell_type": "code",
   "execution_count": null,
   "metadata": {
    "collapsed": false
   },
   "outputs": [],
   "source": [
    "x = \"Python is hard.\"\n",
    "y = \"Or, is it?\"\n",
    "print(\"The string:                    \", x)\n",
    "print(\"The first character:           \", x[0])\n",
    "print(\"The first 6 characters:        \", x[:6])\n",
    "print(\"Characters with indices 7-8:   \", x[7:9])\n",
    "print(\"The last 5 characters:         \", x[-5:])\n",
    "x = x[:9] + \" not\" + x[9:]\n",
    "print(\"The new string:                \", x)\n",
    "print(\"17 dots:                       \", \".\" * 17)\n",
    "print(\"Concatenation of strings:      \", x + \" \" + y)\n",
    "print(\"Concatenation of string slices:\", x[:-1] + \", \" + y[4:])"
   ]
  },
  {
   "cell_type": "markdown",
   "metadata": {
    "slideshow": {
     "slide_type": "subslide"
    }
   },
   "source": [
    "As we said before, strings are immutable. This means they cannot be changed:"
   ]
  },
  {
   "cell_type": "code",
   "execution_count": null,
   "metadata": {
    "collapsed": false
   },
   "outputs": [],
   "source": [
    "x[1] = \"y\""
   ]
  },
  {
   "cell_type": "markdown",
   "metadata": {
    "slideshow": {
     "slide_type": "-"
    }
   },
   "source": [
    "in-place sorted or reversed, nor can they be extended or appended to:"
   ]
  },
  {
   "cell_type": "code",
   "execution_count": null,
   "metadata": {
    "collapsed": false
   },
   "outputs": [],
   "source": [
    "x.sort()"
   ]
  },
  {
   "cell_type": "markdown",
   "metadata": {
    "slideshow": {
     "slide_type": "subslide"
    }
   },
   "source": [
    "However, these operations can be done by creating new strings. Something like this:"
   ]
  },
  {
   "cell_type": "code",
   "execution_count": null,
   "metadata": {
    "collapsed": false
   },
   "outputs": [],
   "source": [
    "x = \"Python is not hard\"\n",
    "x = sorted(x)\n",
    "print(x)"
   ]
  },
  {
   "cell_type": "markdown",
   "metadata": {
    "slideshow": {
     "slide_type": "subslide"
    }
   },
   "source": [
    "Notice that the sorting has created a list (of characters) and not a new string.\n",
    "\n",
    "In order to fix this (so, to get a string), we have to merge the elements of a list into a string. This is done by `join`:"
   ]
  },
  {
   "cell_type": "code",
   "execution_count": null,
   "metadata": {
    "collapsed": false
   },
   "outputs": [],
   "source": [
    "x = \"Python is not hard\"\n",
    "lst = sorted(x)\n",
    "y = \"\".join(lst)\n",
    "print('\"' + y + '\"')\n",
    "z = \",\".join(lst)\n",
    "print('\"' + z + '\"')"
   ]
  },
  {
   "cell_type": "markdown",
   "metadata": {
    "slideshow": {
     "slide_type": "subslide"
    }
   },
   "source": [
    "We can also do the opposite: `split` a string into a list of substrings, by some separator. For example,"
   ]
  },
  {
   "cell_type": "code",
   "execution_count": null,
   "metadata": {
    "collapsed": false
   },
   "outputs": [],
   "source": [
    "a_string = \"17;19;23\"\n",
    "a_list = a_string.split(\";\")\n",
    "print(a_list)"
   ]
  },
  {
   "cell_type": "markdown",
   "metadata": {
    "slideshow": {
     "slide_type": "subslide"
    }
   },
   "source": [
    "To just convert a string to the list of its characters, we use the function `list()` which we have seen while working with iterables:"
   ]
  },
  {
   "cell_type": "code",
   "execution_count": null,
   "metadata": {
    "collapsed": false
   },
   "outputs": [],
   "source": [
    "print(list(a_string))"
   ]
  },
  {
   "cell_type": "markdown",
   "metadata": {
    "slideshow": {
     "slide_type": "subslide"
    }
   },
   "source": [
    "Python has a truly rich support for strings. Some of the available operations are:"
   ]
  },
  {
   "cell_type": "code",
   "execution_count": null,
   "metadata": {
    "collapsed": false
   },
   "outputs": [],
   "source": [
    "x = \"this is a string with several words\"\n",
    "print(\"x:                                \", x)\n",
    "print(\"Length of x:                      \", len(x))\n",
    "print(\"Capitalized x:                    \", x.capitalize())\n",
    "print(\"Does x end with \\\"ords\\\"?           \", x.endswith(\"ords\"))\n",
    "print(\"Does x end with \\\"orDs\\\"?           \", x.endswith(\"orDs\"))\n",
    "print(\"Does x end with \\\"word\\\"?           \", x.endswith(\"word\"))\n",
    "print(\"x with \\\"a string\\\" replaced by \\\"x\\\":\", x.replace(\"a string\", \"x\"))\n",
    "print(\"Does x contain a \\\"ring\\\"?          \", \"ring\" in x)\n",
    "print(\"The index of the first character of the first \\\"ring\\\" in x:\", x.find(\"ring\"))\n",
    "print(\"Does x have any cased characters and are they all lowercase?\", x.islower())\n",
    "print(\"\\nNone of these changed our string: \", x)"
   ]
  },
  {
   "cell_type": "markdown",
   "metadata": {},
   "source": [
    "See the full list of the supported string operations in the [official documentation](https://docs.python.org/3/library/stdtypes.html#string-methods)."
   ]
  },
  {
   "cell_type": "markdown",
   "metadata": {},
   "source": [
    "## Regular expressions\n",
    "\n",
    "For a truly powerfull (but sometimes complex) way to analyze strings, read about *regular expressions* in [A.M. Kuchling's HOWTO](https://docs.python.org/3/howto/regex.html). Those already familiar with regular expressions can read [Python `re` reference](https://docs.python.org/3/library/re.html).\n",
    "\n",
    "There are numerous practical applications to regular expressions: data analysis, syntax highlighting, system maintenance and configuration (for example ModRewrite in Apache), etc. Most of the modern languages support the same regular expressions syntax (so called Perl compatible), which makes them quite portable. While often fairly simple, [they can also get downright scary](http://www.ex-parrot.com/~pdw/Mail-RFC822-Address.html).\n",
    "\n",
    "**Regular expressions are beyond the scope of this course. You may use them if you want to, but it is not assumed that you are familiar with them.**"
   ]
  },
  {
   "cell_type": "markdown",
   "metadata": {
    "slideshow": {
     "slide_type": "slide"
    }
   },
   "source": [
    "# String formats\n",
    "\n",
    "Forming a string from several values can be tricky. For example, if we had `x = 17` and `y = 19`, and wanted to print that information in the form\n",
    "```\n",
    "x = 17, y = 19\n",
    "```\n",
    "we have so far used the following syntax:"
   ]
  },
  {
   "cell_type": "code",
   "execution_count": null,
   "metadata": {
    "collapsed": false
   },
   "outputs": [],
   "source": [
    "x = 17\n",
    "y = 19\n",
    "print(\"Wrong:   x =\", x, \", y =\", y)\n",
    "print(\"Correct: x = \" + str(x) + \", y =\", y)"
   ]
  },
  {
   "cell_type": "markdown",
   "metadata": {
    "slideshow": {
     "slide_type": "subslide"
    }
   },
   "source": [
    "We had to convert the number `x` to a string using `str(x)` and then \"glue\" it with the string literals `\"x = \"` and `\", y =\"` because otherwise `print` would add spaces.\n",
    "\n",
    "Even with such conversions, we are limited with what we can do. For example,\n",
    "* how would we print the value of `pi` up to only 3 decimal places?\n",
    "* how to make it easy to customize messages in several languages, i.e., to tell Python to write something like\n",
    "  > Student &lt;student's name&gt; has enrolled in &lt;name of the university&gt; where {he/she} studied &lt;what did they study&gt;.\n",
    "\n",
    "This is where *formats* come in handy."
   ]
  },
  {
   "cell_type": "markdown",
   "metadata": {
    "slideshow": {
     "slide_type": "subslide"
    }
   },
   "source": [
    "There are three wide-spread ways to format strings in Python:\n",
    "1. C-like formatting,\n",
    "2. `format` function,\n",
    "3. [various templating engines](https://wiki.python.org/moin/Templating#Templating_Engines).\n",
    "\n",
    "The `format` function is very easy for a basic use, and it has a powerfull support for advanced formatting (like named arguments, embedded formats, etc).\n",
    "\n",
    "The C-like formatting is somewhat shorter to invoke and it is common to many widely used languages (C/C++, PHP, Perl,...).\n",
    "\n",
    "The third way, templating, is more powerful, usually with support for complex data structures. This is often used to produce whole documents, instead of just short strings."
   ]
  },
  {
   "cell_type": "markdown",
   "metadata": {
    "slideshow": {
     "slide_type": "slide"
    }
   },
   "source": [
    "## `format` function\n",
    "\n",
    "The basic use of the `format` function is like this:\n",
    "\n",
    "```python3\n",
    "\"some string containing {}, possibly more than one\".format(x)\n",
    "```\n",
    "\n",
    "In this case, `{}` will be replaced by the value in `x` and the new string will be returned."
   ]
  },
  {
   "cell_type": "code",
   "execution_count": null,
   "metadata": {
    "collapsed": false
   },
   "outputs": [],
   "source": [
    "x = \"the pairs of braces\"\n",
    "s = \"some string containing {}, possibly more than one\"\n",
    "print(\"Unformated:\\n\", s)\n",
    "print(\"Formated:\\n\", s.format(x))"
   ]
  },
  {
   "cell_type": "markdown",
   "metadata": {
    "slideshow": {
     "slide_type": "subslide"
    }
   },
   "source": [
    "The function accepts multiple arguments, usually one for each of the braces pairs. It then replaces the first pair of braces by the first argument, the second one with the second  pair, and so on."
   ]
  },
  {
   "cell_type": "code",
   "execution_count": null,
   "metadata": {
    "collapsed": false
   },
   "outputs": [],
   "source": [
    "print(\"Student {} was enrolled in {} where {} studied {}.\".format(\n",
    "    \"Benedict Timothy Carlton Cumberbatch\",\n",
    "    \"The University of Manchester\",\n",
    "    \"he\",\n",
    "    \"Drama\"\n",
    "))"
   ]
  },
  {
   "cell_type": "markdown",
   "metadata": {
    "slideshow": {
     "slide_type": "subslide"
    }
   },
   "source": [
    "Using the *unpacking* operator `*` for sequences, we can also do it like this:"
   ]
  },
  {
   "cell_type": "code",
   "execution_count": null,
   "metadata": {
    "collapsed": false
   },
   "outputs": [],
   "source": [
    "args = [\n",
    "    \"Benedict Timothy Carlton Cumberbatch\",\n",
    "    \"The University of Manchester\",\n",
    "    \"he\",\n",
    "    \"Drama\"\n",
    "]\n",
    "print(\"We DON'T want this:\\nStudent {} was enrolled in {} where {} studied {}.\".format(args, 1, 2, 3))\n",
    "print(\"\\nWe DO want this:\\nStudent {} was enrolled in {} where {} studied {}.\".format(*args))\n",
    "print(\"\\nThis is the equivalent:\\nStudent {} was enrolled in {} where {} studied {}.\".format(args[0], args[1], args[2], args[3]))"
   ]
  },
  {
   "cell_type": "markdown",
   "metadata": {
    "slideshow": {
     "slide_type": "subslide"
    }
   },
   "source": [
    "However, if we change the sentence to imply a different order of the parameters, we're in trouble:"
   ]
  },
  {
   "cell_type": "code",
   "execution_count": null,
   "metadata": {
    "collapsed": false
   },
   "outputs": [],
   "source": [
    "args = [\n",
    "    \"Benedict Timothy Carlton Cumberbatch\",\n",
    "    \"The University of Manchester\",\n",
    "    \"he\",\n",
    "    \"Drama\"\n",
    "]\n",
    "print(\"{} studied {} at {}.\".format(*args))"
   ]
  },
  {
   "cell_type": "markdown",
   "metadata": {
    "slideshow": {
     "slide_type": "subslide"
    }
   },
   "source": [
    "There is an easy fix for this:"
   ]
  },
  {
   "cell_type": "code",
   "execution_count": null,
   "metadata": {
    "collapsed": false
   },
   "outputs": [],
   "source": [
    "args = [\n",
    "    \"Benedict Timothy Carlton Cumberbatch\",\n",
    "    \"The University of Manchester\",\n",
    "    \"he\",\n",
    "    \"Drama\"\n",
    "]\n",
    "print(\"{0} studied {3} at {1}.\".format(*args))"
   ]
  },
  {
   "cell_type": "markdown",
   "metadata": {
    "slideshow": {
     "slide_type": "subslide"
    }
   },
   "source": [
    "Named arguments can also come in handy:"
   ]
  },
  {
   "cell_type": "code",
   "execution_count": null,
   "metadata": {
    "collapsed": false
   },
   "outputs": [],
   "source": [
    "print(\"Student {name} was enrolled in {uni} where {heshe} studied {studies}.\".format(\n",
    "    name=\"Benedict Timothy Carlton Cumberbatch\",\n",
    "    uni=\"The University of Manchester\",\n",
    "    heshe=\"he\",\n",
    "    studies=\"Drama\"\n",
    "))\n",
    "print(\"{name} studied {studies} at {uni}.\".format(\n",
    "    name=\"Benedict Timothy Carlton Cumberbatch\",\n",
    "    uni=\"The University of Manchester\",\n",
    "    heshe=\"he\",\n",
    "    studies=\"Drama\"\n",
    "))"
   ]
  },
  {
   "cell_type": "markdown",
   "metadata": {
    "slideshow": {
     "slide_type": "subslide"
    }
   },
   "source": [
    "or, using the *unpacking operator* `**` for dictionaries:"
   ]
  },
  {
   "cell_type": "code",
   "execution_count": null,
   "metadata": {
    "collapsed": false
   },
   "outputs": [],
   "source": [
    "args = {\n",
    "    \"name\": \"Benedict Timothy Carlton Cumberbatch\",\n",
    "    \"uni\": \"The University of Manchester\",\n",
    "    \"heshe\": \"he\",\n",
    "    \"studies\": \"Drama\"\n",
    "}\n",
    "print(\"Student {name} was enrolled in {uni} where {heshe} studied {studies}.\".format(**args))\n",
    "print(\"{name} studied {studies} at {uni}.\".format(**args))"
   ]
  },
  {
   "cell_type": "markdown",
   "metadata": {
    "slideshow": {
     "slide_type": "subslide"
    }
   },
   "source": [
    "The use that we have just seen makes it easy to make localised messages:"
   ]
  },
  {
   "cell_type": "code",
   "execution_count": null,
   "metadata": {
    "collapsed": false
   },
   "outputs": [],
   "source": [
    "messages = {\n",
    "    \"language\": {\n",
    "        \"en\": \"English\",\n",
    "        \"cy\": \"Cymraeg\",\n",
    "    },\n",
    "    \"study-info\": {\n",
    "        \"en\": \"{name} studied {studies} at {uni}.\",\n",
    "        \"cy\": \"{name} Astudiodd {studies} am {uni}.\",  # Google Translated to Welsh\n",
    "    },\n",
    "    \"score\": {\n",
    "        \"en\": \"{name} had {score} in the course \\\"{course}\\\".\",\n",
    "        \"cy\": \"{name} wedi {score} yn y cwrs \\\"{course}\\\".\",  # Google Translated to Welsh\n",
    "    },\n",
    "    # ...\n",
    "}\n",
    "# ...\n",
    "args = {\n",
    "    \"course\": \"Programming with Python\",\n",
    "    \"name\": \"Benedict Timothy Carlton Cumberbatch\",\n",
    "    \"score\": 17,\n",
    "    \"studies\": \"Drama\",\n",
    "    \"uni\": \"The University of Manchester\",\n",
    "}\n",
    "for lang, name in messages[\"language\"].items():\n",
    "    print(\"Language: {} ({})\".format(name, lang))\n",
    "    print(\" \", messages[\"study-info\"][lang].format(**args))\n",
    "    print(\" \", messages[\"score\"][lang].format(**args))\n",
    "print(\"\"\"Disclaimer: All the characters appearing in this work are fictitious.\n",
    "Any resemblance to the real persons', living or dead, exam scores are purely coincidental.\"\"\")"
   ]
  },
  {
   "cell_type": "markdown",
   "metadata": {
    "slideshow": {
     "slide_type": "subslide"
    }
   },
   "source": [
    "We can also align values on the screen:"
   ]
  },
  {
   "cell_type": "code",
   "execution_count": null,
   "metadata": {
    "collapsed": false
   },
   "outputs": [],
   "source": [
    "x = \"\"\"Gaudeamus igitur\n",
    "Iuvenes dum sumus.\n",
    "Post iucundam iuventutem\n",
    "Post molestam senectutem\n",
    "Nos habebit humus.\"\"\"\n",
    "\n",
    "print(\"The original string:\")\n",
    "print(x)\n",
    "\n",
    "print(\"\\n|\" + (\"1234567890\" * 4) + \"|\")\n",
    "\n",
    "print(\"|{:<40}|\".format(\"Centered in 40 characters:\"))\n",
    "for line in x.splitlines():\n",
    "    print(\"|{:^40}|\".format(line))\n",
    "\n",
    "print(\"|{:<40}|\".format(\"Aligned to the right in 40 characters:\"))\n",
    "for line in x.splitlines():\n",
    "    print(\"|{:>40}|\".format(line))"
   ]
  },
  {
   "cell_type": "markdown",
   "metadata": {
    "slideshow": {
     "slide_type": "subslide"
    }
   },
   "source": [
    "Numbers can be easily formatted:"
   ]
  },
  {
   "cell_type": "code",
   "execution_count": null,
   "metadata": {
    "collapsed": false
   },
   "outputs": [],
   "source": [
    "from math import pi\n",
    "print(\"Pi printed without formatting:\", pi)\n",
    "print(\"Pi to the 5th decimal: {:.5f}\".format(pi))\n",
    "print(\"Pi in 17 characters, to the 5th decimal, prepended with spaces: {:17.5f}\".format(pi))\n",
    "print(\"Pi in 17 characters, to the 5th decimal, prepended with zeros:  {:017.5f}\".format(pi))\n",
    "print(\"Pi in 17 characters, to the 5th decimal, with sign:             {:+17.5f}\".format(pi))\n",
    "print(\"Minus Pi in 11 chars, pr. w. zeros, to the 5th decimal, signed: {:+011.5f}\".format(-pi))"
   ]
  },
  {
   "cell_type": "markdown",
   "metadata": {
    "slideshow": {
     "slide_type": "subslide"
    }
   },
   "source": [
    "Any names or positional indices are given before \"`:`\". For example, the list of the [tallest](http://en.wikipedia.org/wiki/List_of_tallest_people) and the [shortest](http://en.wikipedia.org/wiki/List_of_shortest_people) people in the World:"
   ]
  },
  {
   "cell_type": "code",
   "execution_count": null,
   "metadata": {
    "collapsed": false
   },
   "outputs": [],
   "source": [
    "people = [\n",
    "    {\n",
    "        \"name\": \"Robert Wadlow\",\n",
    "        \"height\": 272,\n",
    "        \"status\": \"deceased\",\n",
    "    },\n",
    "    {\n",
    "        \"name\": \"Sultan Kösen\",\n",
    "        \"height\": 251,\n",
    "        \"status\": \"alive\",\n",
    "    },\n",
    "    {\n",
    "        \"name\": \"Chandra Bahadur Dangi\",\n",
    "        \"height\": 54.6,\n",
    "        \"status\": \"alive\",\n",
    "    }\n",
    "]\n",
    "print(\"The tallest and the shortest people in the world:\\n\")\n",
    "print(\"{0:<21} | {1} | {2:^8}\".format(\"Name\", \"Height (cm)\", \"Status\"))\n",
    "print(\"-\" * 22 + \"+\" + \"-\" * 13 + \"+\" + \"-\" * 9)\n",
    "for person in people:\n",
    "    print(\"{name:<21} | {height:11.1f} | {status:^8}\".format(**person))"
   ]
  },
  {
   "cell_type": "markdown",
   "metadata": {
    "slideshow": {
     "slide_type": "subslide"
    }
   },
   "source": [
    "There is much more that `format` can do. For the complete reference, read the [official documentation](https://docs.python.org/3/library/string.html#formatstrings)."
   ]
  },
  {
   "cell_type": "markdown",
   "metadata": {
    "slideshow": {
     "slide_type": "slide"
    }
   },
   "source": [
    "## C-like formatting"
   ]
  },
  {
   "cell_type": "markdown",
   "metadata": {},
   "source": [
    "C-like formatting is somewhat less powerfull, but easier to invoke, which makes it ideal for simple formattings (for example, of numbers). The basic syntaxt is:\n",
    "```python3\n",
    "format_string % value\n",
    "```\n",
    "or, if there is more than one value to include,\n",
    "```python3\n",
    "format_string % a_tuple_of_values\n",
    "```\n",
    "For example:"
   ]
  },
  {
   "cell_type": "code",
   "execution_count": null,
   "metadata": {
    "collapsed": false
   },
   "outputs": [],
   "source": [
    "from math import pi\n",
    "print(\"Pi printed without formatting:\", pi)\n",
    "print(\"Pi to the 5th decimal: %.5f\" % pi)\n",
    "print(\"Pi in 17 characters, to the 5th decimal, prepended with spaces: %17.5f\" % pi)\n",
    "print(\"Pi in 17 characters, to the 5th decimal, prepended with zeros: %017.5f\" % pi)\n",
    "print(\"Pi in 17 characters, to the 5th decimal, with sign: %+17.5f\" % pi)\n",
    "print(\"Minus Pi in 11 characters, to the 5th decimal, with sign: %+11.5f\" % pi)\n",
    "x = 17\n",
    "y = 19\n",
    "print(\"x = %d, y = %d, x + y = %d + %d = %d\" % (x, y, x, y, x+y))"
   ]
  },
  {
   "cell_type": "markdown",
   "metadata": {
    "slideshow": {
     "slide_type": "-"
    }
   },
   "source": [
    "More about C-like formatting can be read in the [official reference](https://docs.python.org/3/library/stdtypes.html#printf-style-string-formatting).\n",
    "\n",
    "Feel free to use it if you're already familiar with it. Otherwise, such a formatting is considered old and out of date, and it is advised to use the `format` function instead."
   ]
  },
  {
   "cell_type": "markdown",
   "metadata": {
    "slideshow": {
     "slide_type": "slide"
    }
   },
   "source": [
    "# Generators and generator expressions\n",
    "\n",
    "In this section we address some very useful, albeit Python-specific concepts:\n",
    "* [*Iterator*](https://docs.python.org/3/glossary.html#term-iterator) is an object representing a stream of data, i.e., capable of providing the first element, as well as traversing thorught all the elements from the beginning to the end.  \n",
    "   **Note:** Iterators also exist in C++, but it is a different concept and they have a different purpose there.\n",
    "* [*Generator*](https://docs.python.org/3/glossary.html#term-generator) is a function that returns an iterator.\n",
    "* [*Generator expression*](https://docs.python.org/3/glossary.html#term-generator-expression) is an expression that returns an iterator.\n",
    "\n",
    "Iterators are a powerful thing to use, but quite complex in all their generality, and they go well beyond the scope of this course.\n",
    "\n",
    "We shall cover generator expressions, as they are a very compact, efficient, and often used way to deal with list-like data, and then we shall briefly see how generators work, as a bit more complex but quite powerful mechanism."
   ]
  },
  {
   "cell_type": "markdown",
   "metadata": {},
   "source": [
    "We have seen the function `range` before and we said that it\n",
    "> *pretends* to return a list of numbers (it returns something more complex, we can consider it a list for now)\n",
    "\n",
    "Let us see *what exactly* does `range` return:"
   ]
  },
  {
   "cell_type": "code",
   "execution_count": null,
   "metadata": {
    "collapsed": false
   },
   "outputs": [],
   "source": [
    "rng = range(3,7)\n",
    "lst = list(rng)\n",
    "print(\"rng =\", rng)\n",
    "print(\"type(rng) =\", type(rng))\n",
    "print(\"Elements of rng:\")\n",
    "for x in rng:\n",
    "    print(\"  %d\" % x)\n",
    "print(\"\\nlst =\", lst)\n",
    "print(\"type(lst) =\", type(lst))\n",
    "print(\"Elements of lst:\")\n",
    "for x in lst:\n",
    "    print(\"  %d\" % x)"
   ]
  },
  {
   "cell_type": "markdown",
   "metadata": {
    "slideshow": {
     "slide_type": "subslide"
    }
   },
   "source": [
    "As we can see:\n",
    "* A range and a list are not the same (they print differently).\n",
    "* They have different types.\n",
    "* However, they \"contain\" the same elements.\n",
    "\n",
    "So, while acting the same way that lists do in a `for` loop, `range` actually behaves like a generator, which is a function that returns an iterator, which is what *rng* is.\n",
    "\n",
    "**Note:** Strictly speaking, `range` a bit more than an ordinary generator, with some additional properties and functions that normal generators don't have, but for the sake of explaining how the generators work, we'll disregard those extras and use `range` as an example that we're quite familiar with."
   ]
  },
  {
   "cell_type": "markdown",
   "metadata": {
    "slideshow": {
     "slide_type": "subslide"
    }
   },
   "source": [
    "The main difference between a list and an iterator is that a list actually contains all the data and allows us to access each of its elements.\n",
    "\n",
    "An iterator, on the other hand, may contain the elements, but it almost never will. It can somehow get the first element, keep track of what the current element is, and \"jump\" to the next one. So, basically, it can provide everything a `for` loop needs, without any restrictions on where it gets its data."
   ]
  },
  {
   "cell_type": "markdown",
   "metadata": {
    "slideshow": {
     "slide_type": "subslide"
    }
   },
   "source": [
    "For example, `range(3, 7)` will return an iterator that holds three values:\n",
    "* starting value: 3,\n",
    "* increment: 1 (default, since we didn't provide the third argument),\n",
    "* end value: 7 (exclusive).\n",
    "\n",
    "So, when we execute\n",
    "```python\n",
    "for x in range(3, 7):\n",
    "    print(x)\n",
    "```\n",
    "the following will happen:\n",
    "1. `for` will \"ask\" `range` for its first value and obtain 3. It will then assign that 3 to `x` and execute its body (`print(x)`).\n",
    "2. In the next step, `for` will \"ask\" `range` for its next value. Now, `range` remembers that its current value was 3, so it will compute the next one, and return 4, which will get assigned to `x` and the loop's body will once again be executed.\n",
    "3. In the next step, `for` will \"ask\" `range` for its next value, and get 5.\n",
    "4. In the next step, `for` will \"ask\" `range` for its next value, and get 6.\n",
    "5. In the next step, `for` will \"ask\" `range` for its next value. However, `range` will see that the next value, 7, is too big, and it will gently explain `for` that it has no more values. `for` will then end, without further executions of its body."
   ]
  },
  {
   "cell_type": "markdown",
   "metadata": {
    "slideshow": {
     "slide_type": "subslide"
    }
   },
   "source": [
    "## The benefits\n",
    "\n",
    "1. No extra memory is required, no matter how long the range is. For example, `range(10**9)` will not take memory for one billion integers.\n",
    "\n",
    "2. There will be no delay before the `for`-loop starts, that would otherwise be needed to create such a long list of numbers.\n",
    "\n",
    "3. It is not uncommon that the program stops before going through all the elements of a list or an iterator. Looping (either with loops or some other mechanisms) can be stopped prematurely. In these cases, an iterator will not even compute the unneeded values, potentially saving a lot of memory and processing time.\n",
    "\n",
    "`range` here is just an example. Iterators can be used for all kinds of streaming data. For example, they are also used for reading files (which can easily be a few gigabytes big, which would put a real strain on the system if actually loaded at once)."
   ]
  },
  {
   "cell_type": "markdown",
   "metadata": {
    "slideshow": {
     "slide_type": "slide"
    }
   },
   "source": [
    "## Generators\n",
    "\n",
    "So, how do we make our own generator (a function that returns an iterator)?\n",
    "\n",
    "The key thing here is `yield`: a statement that acts like `return`, but it doesn't terminate a function (it merely \"pauses\" it).\n",
    "\n",
    "Here is an example of a generator:"
   ]
  },
  {
   "cell_type": "code",
   "execution_count": null,
   "metadata": {
    "collapsed": false
   },
   "outputs": [],
   "source": [
    "def is_prime(n):\n",
    "    \"\"\"Returns true if an integer `n` is a prime.\"\"\"\n",
    "    if n < 2:\n",
    "        return False\n",
    "    for p in range(2,n):\n",
    "        if n % p == 0:\n",
    "            return False\n",
    "    return True\n",
    "\n",
    "def primes(n):\n",
    "    \"\"\"Returns a generator for the prime factors of `n`.\"\"\"\n",
    "    n = abs(n)\n",
    "    for p in range(2,n+1):\n",
    "        # if n is divisable by p and p is prime\n",
    "        if n % p == 0 and is_prime(p):\n",
    "            yield p\n",
    "\n",
    "n = int(input(\"n = \"))\n",
    "cnt = 0  # Counter\n",
    "for prime in primes(n):\n",
    "    cnt += 1\n",
    "    print(\"Prime factor #%d of %d: %d\" % (cnt, n, prime))\n",
    "print(\"Number %d has %d distinct prime factors.\" % (n, cnt))"
   ]
  },
  {
   "cell_type": "markdown",
   "metadata": {},
   "source": [
    "**Note:** This is a highly **inefficient** algorithm to find prime factors of a number. We shall see an improvement in several weeks. We use this one here because it closely follows the mathematical definition and, as such, it is easy to understand it."
   ]
  },
  {
   "cell_type": "markdown",
   "metadata": {
    "slideshow": {
     "slide_type": "subslide"
    }
   },
   "source": [
    "So, how does the above work? Let us assume that $n = 84 = 2^2 \\cdot 3 \\cdot 7$.\n",
    "\n",
    "When the `for`-loop is first encountered, `prime(84)` is called. It executes as any other function would, until it reaches `yield p`, which will first happen for `p = 2`. At this moment, the function returns `p` (i.e., 2) and stops executing, but **it is not terminated**, as it would have been if `return` was in place of `yield`.\n",
    "\n",
    "So, the `for`-loop has now obtained its first value, 2, and it assigns it to `prime`. The body of the `for`-loop is now executed, i.e., `cnt` is increased from zero to one, and the message\n",
    "\n",
    "> Prime factor \\#1 of 84: 2\n",
    "\n",
    "is printed.\n",
    "\n",
    "After the body is executed, we return to the head of the `for`-loop. Recall that the function was not terminated, so it continues where it stopped when a `yield` statement was last invoked. The next prime factor that the `for`-loop in `primes` function finds is `p = 3`. Again `yield p` is invoked, the main `for`-loop gets its second value, `prime = 3` is assigned, and the message\n",
    "\n",
    "> Prime factor \\#2 of 84: 3\n",
    "\n",
    "is printed.\n",
    "\n",
    "Back to the header of the `for`-loop, we reenter the still uninterrupted function `primes`, and continue after its last executed `yield` (generally, a generator can have many `yield` statements, not just one as in our example). The next `p` it will find is 7, which is again returned to the main `for`-loop and\n",
    "\n",
    "> Prime factor \\#3 of 84: 7\n",
    "\n",
    "is printed.\n",
    "\n",
    "We return to the header of the `for`-loop once again, reentering `primes`. However, this time, no new value of `p` will be found, and the function's own `for`-loop will end. Since there is no code after it, the `primes` function will finally come to an end (i.e., it will stop and not just \"pause\"). Now, the main `for`-loop is notified that there are no further values to be assigned to the `prime` variable, so it too quits.\n",
    "\n",
    "The last command in our program is now executed, printing:\n",
    "\n",
    "> Number 84 has 3 distinct prime factors."
   ]
  },
  {
   "cell_type": "markdown",
   "metadata": {
    "slideshow": {
     "slide_type": "subslide"
    }
   },
   "source": [
    "Iterators are easily converted to lists:"
   ]
  },
  {
   "cell_type": "code",
   "execution_count": null,
   "metadata": {
    "collapsed": false
   },
   "outputs": [],
   "source": [
    "n = int(input(\"n = \"))\n",
    "print(\"The list of the prime factors of %d:\" % n, list(primes(n)))"
   ]
  },
  {
   "cell_type": "markdown",
   "metadata": {
    "slideshow": {
     "slide_type": "subslide"
    }
   },
   "source": [
    "Generators are a fairly advanced concept and they will not be part of any examinations. However, the use of generators is encouraged. You can find more about them [here](http://www.jeffknupp.com/blog/2013/04/07/improve-your-python-yield-and-generators-explained/)."
   ]
  },
  {
   "cell_type": "markdown",
   "metadata": {
    "slideshow": {
     "slide_type": "slide"
    }
   },
   "source": [
    "## Generator expressions\n",
    "\n",
    "Generator expressions are expressions that return iterators. They behave in the same manner as generators, but their syntax is more compact and usually easier to understand as it is very similar to `for` loops.\n",
    "\n",
    "Here is a simple example of a generator of the squares of the numbers from 0 to `n-1`:"
   ]
  },
  {
   "cell_type": "code",
   "execution_count": null,
   "metadata": {
    "collapsed": false
   },
   "outputs": [],
   "source": [
    "n = int(input(\"n = \"))\n",
    "gen = (x*x for x in range(n))\n",
    "print(\"gen =\", gen)\n",
    "print(\"type(gen) =\", type(gen))\n",
    "print(\"list(gen) =\", list(gen))"
   ]
  },
  {
   "cell_type": "markdown",
   "metadata": {
    "slideshow": {
     "slide_type": "subslide"
    }
   },
   "source": [
    "Notice that the syntax of a generator is very much like what one would write in a mathematical document:\n",
    "\n",
    "> $gen$ contains values of $x^2$ for all integer $x$ in $[0, n \\rangle$.\n",
    "\n",
    "Even if we want to add some filtering condition, it is done in the same manner. For example,\n",
    "\n",
    "> $gen$ contains values of $x^2$ for all integer $x$ in $[0, n \\rangle$ for which $x$ is a prime number.\n",
    "\n",
    "is written like this:"
   ]
  },
  {
   "cell_type": "code",
   "execution_count": null,
   "metadata": {
    "collapsed": false
   },
   "outputs": [],
   "source": [
    "n = int(input(\"n = \"))\n",
    "gen = (x*x for x in range(n) if is_prime(x))\n",
    "print(\"gen =\", gen)\n",
    "print(\"type(gen) =\", type(gen))\n",
    "print(\"list(gen) =\", list(gen))"
   ]
  },
  {
   "cell_type": "markdown",
   "metadata": {
    "slideshow": {
     "slide_type": "subslide"
    }
   },
   "source": [
    "As we can see, generator expressions look like neatly packed `for`-loops, which makes them rarely useful in `for`-loops themselves. For example,"
   ]
  },
  {
   "cell_type": "code",
   "execution_count": null,
   "metadata": {
    "collapsed": false
   },
   "outputs": [],
   "source": [
    "gen = (x*x for x in range(n) if is_prime(x))\n",
    "for y in gen:\n",
    "    print(y)"
   ]
  },
  {
   "cell_type": "markdown",
   "metadata": {
    "slideshow": {
     "slide_type": "-"
    }
   },
   "source": [
    "or, without the auxiliary variable `gen`,"
   ]
  },
  {
   "cell_type": "code",
   "execution_count": null,
   "metadata": {
    "collapsed": false
   },
   "outputs": [],
   "source": [
    "for y in (x*x for x in range(n) if is_prime(x)):\n",
    "    print(y)"
   ]
  },
  {
   "cell_type": "markdown",
   "metadata": {},
   "source": [
    "is better written as:"
   ]
  },
  {
   "cell_type": "code",
   "execution_count": null,
   "metadata": {
    "collapsed": false
   },
   "outputs": [],
   "source": [
    "for x in range(n):\n",
    "    if is_prime(x):\n",
    "        print(x*x)"
   ]
  },
  {
   "cell_type": "markdown",
   "metadata": {
    "slideshow": {
     "slide_type": "subslide"
    }
   },
   "source": [
    "However, there are various other uses. The first of them is creating a list of easily computable values (complex operations don't fit in generator expressions):"
   ]
  },
  {
   "cell_type": "code",
   "execution_count": null,
   "metadata": {
    "collapsed": false
   },
   "outputs": [],
   "source": [
    "# The traditional way:\n",
    "lst = list()\n",
    "for x in range(n):\n",
    "    if is_prime(x):\n",
    "        lst.append(x*x)\n",
    "print(lst)\n",
    "\n",
    "# Using a list comprehension\n",
    "lst = [x*x for x in range(n) if is_prime(x)]\n",
    "print(lst)"
   ]
  },
  {
   "cell_type": "markdown",
   "metadata": {},
   "source": [
    "A generator expression that creates a list is often called a *list comprehension*.\n",
    "\n",
    "**Note:** The same construct can be used with sets (*set comprehension*) and dictionaries (*dictionary comprehension*). For example:"
   ]
  },
  {
   "cell_type": "code",
   "execution_count": null,
   "metadata": {
    "collapsed": false
   },
   "outputs": [],
   "source": [
    "print(\"List:\", [x*x for x in range(-n, n) if is_prime(abs(x))])\n",
    "print(\"Set: \", {x*x for x in range(-n, n) if is_prime(abs(x))})\n",
    "print(\"Dict:\", {x+2*n: x*x for x in range(-n, n) if is_prime(abs(x))})"
   ]
  },
  {
   "cell_type": "markdown",
   "metadata": {
    "slideshow": {
     "slide_type": "subslide"
    }
   },
   "source": [
    "Additionally, there are various functions that take iterators as arguments. One of them is `sum`, which returns the sum of all the elements:"
   ]
  },
  {
   "cell_type": "code",
   "execution_count": null,
   "metadata": {
    "collapsed": false
   },
   "outputs": [],
   "source": [
    "# The traditional way:\n",
    "sum_ = 0\n",
    "for x in range(n):\n",
    "    if is_prime(x):\n",
    "        sum_ += x*x\n",
    "print(sum_)\n",
    "\n",
    "# Using a generator\n",
    "print(sum(x*x for x in range(n) if is_prime(x)))"
   ]
  },
  {
   "cell_type": "markdown",
   "metadata": {
    "slideshow": {
     "slide_type": "subslide"
    }
   },
   "source": [
    "In these two examples, we merely wrote less code, but there was no gain in memory consumption nor the processing speed.\n",
    "\n",
    "However, let us check if **any** of the above squares has the form `p+2` for some prime number `p`. In other words, we want to check if `x*x-2` is a prime for some `x` which is a prime itself:"
   ]
  },
  {
   "cell_type": "code",
   "execution_count": null,
   "metadata": {
    "collapsed": false
   },
   "outputs": [],
   "source": [
    "numbers = (x*x for x in range(n) if is_prime(x))\n",
    "if any(is_prime(number-2) for number in numbers):\n",
    "    print(\"Yes\")\n",
    "else:\n",
    "    print(\"No\")"
   ]
  },
  {
   "cell_type": "markdown",
   "metadata": {
    "slideshow": {
     "slide_type": "subslide"
    }
   },
   "source": [
    "In the above example, `is_prime(number-2)` gets computed until the first `number` for which it is true is encountered. This is 4, which happens for `x = 2` when generating `numbers`:"
   ]
  },
  {
   "cell_type": "code",
   "execution_count": null,
   "metadata": {
    "collapsed": false
   },
   "outputs": [],
   "source": [
    "numbers = (x*x for x in range(n) if is_prime(x))\n",
    "print(\"Yes:\", list(number for number in numbers if is_prime(number-2)))\n",
    "numbers = (x*x for x in range(n) if is_prime(x))\n",
    "print(\"No: \", list(number for number in numbers if not is_prime(number-2)))"
   ]
  },
  {
   "cell_type": "markdown",
   "metadata": {
    "slideshow": {
     "slide_type": "subslide"
    }
   },
   "source": [
    "Obviously, not all numbers satisfy this new condition (121 does not, because $121-2 = 119 = 7 \\cdot 17$).\n",
    "\n",
    "If we wanted to just check if **all** of the `numbers` have the form `p+2` for some prime number `p` (i.e., if all `x*x-2` are primes for some `x` which is a prime itself), we would have used the function `all`:"
   ]
  },
  {
   "cell_type": "code",
   "execution_count": null,
   "metadata": {
    "collapsed": false
   },
   "outputs": [],
   "source": [
    "numbers = (x*x for x in range(n) if is_prime(x))\n",
    "if all(is_prime(number-2) for number in numbers):\n",
    "    print(\"Yes\")\n",
    "else:\n",
    "    print(\"No\")"
   ]
  },
  {
   "cell_type": "markdown",
   "metadata": {
    "slideshow": {
     "slide_type": "subslide"
    }
   },
   "source": [
    "Notice that the following wouldn't work properly:"
   ]
  },
  {
   "cell_type": "code",
   "execution_count": null,
   "metadata": {
    "collapsed": false
   },
   "outputs": [],
   "source": [
    "n = 17\n",
    "\n",
    "# Try one:\n",
    "numbers = (x*x for x in range(n) if is_prime(x))\n",
    "print(\"Yes:\", [number for number in numbers if is_prime(number-2)])\n",
    "print(\"No: \", [number for number in numbers if not is_prime(number-2)])\n",
    "\n",
    "# Try two:\n",
    "numbers = (x*x for x in range(n) if is_prime(x))\n",
    "print(\"No: \", [number for number in numbers if not is_prime(number-2)])\n",
    "print(\"Yes:\", [number for number in numbers if is_prime(number-2)])"
   ]
  },
  {
   "cell_type": "markdown",
   "metadata": {
    "slideshow": {
     "slide_type": "subslide"
    }
   },
   "source": [
    "**Generator expressions are meant for a single use.** They know how to do \"next\", but there is no way to \"reset\" them (in the above example, the problem is that `numbers` is not reset). Depending on the exact generator that is used, there are various ways to deal with this, but this goes beyond the scope of this course."
   ]
  },
  {
   "cell_type": "markdown",
   "metadata": {
    "slideshow": {
     "slide_type": "slide"
    }
   },
   "source": [
    "## More than one `for` clause\n",
    "\n",
    "Generators and list comprehensions can have more than one `for` clause.\n",
    "\n",
    "For example, here we create a list of all fully simplified fractions (memorized as strings) between zero and one (exclusively) with numerator and denominator between `1` and `m`."
   ]
  },
  {
   "cell_type": "code",
   "execution_count": null,
   "metadata": {
    "collapsed": false
   },
   "outputs": [],
   "source": [
    "m = 5\n",
    "\n",
    "# List comprehension\n",
    "fracts = [\"{}/{}\".format(n, d)\n",
    "          for n in range(1, m+1)\n",
    "          for d in range(n, m+1)\n",
    "          if all(n % k != 0 or d % k != 0 for k in range(2, n+1))\n",
    "         ]\n",
    "print(fracts)\n",
    "\n",
    "# Equivalent loops\n",
    "fracts = list()\n",
    "for n in range(1, m+1):\n",
    "    for d in range(n, m+1):\n",
    "        if all(n % k != 0 or d % k != 0 for k in range(2, n+1)):\n",
    "            fracts.append(\"{}/{}\".format(n, d))\n",
    "print(fracts)"
   ]
  },
  {
   "cell_type": "markdown",
   "metadata": {
    "slideshow": {
     "slide_type": "-"
    }
   },
   "source": [
    "Of course, there are more efficient ways to check if a fraction is fully simplified (hint: Euclidean algorithm), but we shall cover that later."
   ]
  },
  {
   "cell_type": "markdown",
   "metadata": {
    "slideshow": {
     "slide_type": "subslide"
    }
   },
   "source": [
    "As always, all of these `for` statements could've looped over iterables other than iterators created by `range`. We could use lists, tuples, sets, etc.\n",
    "\n",
    "For example, to limit the numerators to the set $\\{1, 3, 5, 7, 11\\}$ and the denominators to the set $\\{17, 19, 23\\}$ we can do this:"
   ]
  },
  {
   "cell_type": "code",
   "execution_count": null,
   "metadata": {
    "collapsed": false
   },
   "outputs": [],
   "source": [
    "m = 5\n",
    "\n",
    "# List comprehension\n",
    "fracts = [\"%d/%d\" % (n, d)\n",
    "          for n in [1,3,5,7,11]\n",
    "          for d in (17,19,23)\n",
    "          if all(n % k != 0 or d % k != 0 for k in range(2, n+1))\n",
    "         ]\n",
    "print(fracts)\n",
    "\n",
    "# Equivalent loops\n",
    "fracts = list()\n",
    "for n in [1,3,5,7,11]:\n",
    "    for d in (17,19,23):\n",
    "        if all(n % k != 0 or d % k != 0 for k in range(2, n+1)):\n",
    "            fracts.append(\"%d/%d\" % (n, d))\n",
    "print(fracts)"
   ]
  },
  {
   "cell_type": "markdown",
   "metadata": {
    "slideshow": {
     "slide_type": "slide"
    }
   },
   "source": [
    "## Examples\n",
    "\n",
    "We are now ready to make some of the old pieces of code simpler."
   ]
  },
  {
   "cell_type": "code",
   "execution_count": null,
   "metadata": {
    "collapsed": false
   },
   "outputs": [],
   "source": [
    "n = int(input(\"n = \"))\n",
    "print(\"a) Sum of digits of %d:\" % n, sum(int(x) for x in str(n)))\n",
    "print(\"b) Prime digits of %d:\" % n, [int(x) for x in str(n) if x in \"2357\"])\n",
    "print(\"c) Sum of prime digits of %d:\" % n, sum(int(x) for x in str(n) if x in \"2357\"))\n",
    "print(\"d) Prime factors of %d:\" % n, [x for x in range(2,abs(n)) if n % x == 0 and is_prime(x)])"
   ]
  },
  {
   "cell_type": "markdown",
   "metadata": {
    "slideshow": {
     "slide_type": "subslide"
    }
   },
   "source": [
    "**Notes:**\n",
    "\n",
    "1. Generator expressions don't always speed things up.  \n",
    "   For example, the above code in d) is still very slow, as it tests all the numbers between 2 and `n`-1.\n",
    "\n",
    "2. Repeating the same generator multiple times, like we did in b) and c), can actually make things slower (computing the same thing twice) and the code redundant (we copied the same code twice).  \n",
    "   To overcome these disadvantages, we can:\n",
    "    * create a list of items (using a single generator) if speed is more of an issue than memory, or\n",
    "    * clone the generator in some cases (read about [itertools.tee](https://docs.python.org/3/library/itertools.html#itertools.tee)), or a function that returns an iterator in other cases, or use a specific function for resetting that some iterators have (for example, those that read files)."
   ]
  }
 ],
 "metadata": {
  "celltoolbar": "Slideshow",
  "kernelspec": {
   "display_name": "Python 3",
   "language": "python",
   "name": "python3"
  },
  "language_info": {
   "codemirror_mode": {
    "name": "ipython",
    "version": 3
   },
   "file_extension": ".py",
   "mimetype": "text/x-python",
   "name": "python",
   "nbconvert_exporter": "python",
   "pygments_lexer": "ipython3",
   "version": "3.3.2"
  }
 },
 "nbformat": 4,
 "nbformat_minor": 0
}
